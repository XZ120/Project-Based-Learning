{
 "cells": [
  {
   "cell_type": "code",
   "execution_count": 1,
   "metadata": {},
   "outputs": [],
   "source": [
    "import pandas as pd\n",
    "import numpy as np\n",
    "\n",
    "import swifter #catalyst\n",
    "import geoip2.database\n",
    "\n",
    "import warnings\n",
    "warnings.simplefilter(action=\"ignore\")"
   ]
  },
  {
   "cell_type": "markdown",
   "metadata": {},
   "source": [
    "## Load given dataset"
   ]
  },
  {
   "cell_type": "code",
   "execution_count": 2,
   "metadata": {},
   "outputs": [],
   "source": [
    "data_article = pd.read_csv(\"converted_articles.csv\")\n",
    "data_user = pd.read_csv('Fingerprint.csv')"
   ]
  },
  {
   "cell_type": "code",
   "execution_count": 3,
   "metadata": {},
   "outputs": [
    {
     "data": {
      "text/html": [
       "<div>\n",
       "<style scoped>\n",
       "    .dataframe tbody tr th:only-of-type {\n",
       "        vertical-align: middle;\n",
       "    }\n",
       "\n",
       "    .dataframe tbody tr th {\n",
       "        vertical-align: top;\n",
       "    }\n",
       "\n",
       "    .dataframe thead th {\n",
       "        text-align: right;\n",
       "    }\n",
       "</style>\n",
       "<table border=\"1\" class=\"dataframe\">\n",
       "  <thead>\n",
       "    <tr style=\"text-align: right;\">\n",
       "      <th></th>\n",
       "      <th>total_convert</th>\n",
       "      <th>post_title</th>\n",
       "      <th>link</th>\n",
       "      <th>parent_categories</th>\n",
       "      <th>child_categories</th>\n",
       "    </tr>\n",
       "  </thead>\n",
       "  <tbody>\n",
       "    <tr>\n",
       "      <th>103</th>\n",
       "      <td>1</td>\n",
       "      <td>Apa Itu &lt;em&gt;Social Selling&lt;/em&gt; dan Peranannya...</td>\n",
       "      <td>https://id.techinasia.com/peran-social-selling...</td>\n",
       "      <td>Profesional</td>\n",
       "      <td>Digital Marketing</td>\n",
       "    </tr>\n",
       "    <tr>\n",
       "      <th>28</th>\n",
       "      <td>3</td>\n",
       "      <td>Pendekatan Vidio yang Berbeda dari HOOQ, iFlix...</td>\n",
       "      <td>https://id.techinasia.com/pendekatan-konten-lo...</td>\n",
       "      <td>Startup</td>\n",
       "      <td>Industry Insights</td>\n",
       "    </tr>\n",
       "    <tr>\n",
       "      <th>198</th>\n",
       "      <td>1</td>\n",
       "      <td>Cara Finfleet Jadi Perpanjangan Tangan Layanan...</td>\n",
       "      <td>https://id.techinasia.com/finfleet-solusi-laya...</td>\n",
       "      <td>Startup</td>\n",
       "      <td>Startup Terbaru</td>\n",
       "    </tr>\n",
       "    <tr>\n",
       "      <th>52</th>\n",
       "      <td>2</td>\n",
       "      <td>Cara Mengelola dan Memfasilitasi Pekerja &lt;em&gt;R...</td>\n",
       "      <td>https://id.techinasia.com/cara-mengelola-dan-m...</td>\n",
       "      <td>Profesional</td>\n",
       "      <td>Team Management</td>\n",
       "    </tr>\n",
       "    <tr>\n",
       "      <th>72</th>\n",
       "      <td>2</td>\n",
       "      <td>[Update] 11 &lt;em&gt;Provider&lt;/em&gt; Internet Kabel d...</td>\n",
       "      <td>https://id.techinasia.com/inilah-4-provider-in...</td>\n",
       "      <td>Startup</td>\n",
       "      <td>NaN</td>\n",
       "    </tr>\n",
       "  </tbody>\n",
       "</table>\n",
       "</div>"
      ],
      "text/plain": [
       "     total_convert                                         post_title  \\\n",
       "103              1  Apa Itu <em>Social Selling</em> dan Peranannya...   \n",
       "28               3  Pendekatan Vidio yang Berbeda dari HOOQ, iFlix...   \n",
       "198              1  Cara Finfleet Jadi Perpanjangan Tangan Layanan...   \n",
       "52               2  Cara Mengelola dan Memfasilitasi Pekerja <em>R...   \n",
       "72               2  [Update] 11 <em>Provider</em> Internet Kabel d...   \n",
       "\n",
       "                                                  link parent_categories  \\\n",
       "103  https://id.techinasia.com/peran-social-selling...       Profesional   \n",
       "28   https://id.techinasia.com/pendekatan-konten-lo...           Startup   \n",
       "198  https://id.techinasia.com/finfleet-solusi-laya...           Startup   \n",
       "52   https://id.techinasia.com/cara-mengelola-dan-m...       Profesional   \n",
       "72   https://id.techinasia.com/inilah-4-provider-in...           Startup   \n",
       "\n",
       "      child_categories  \n",
       "103  Digital Marketing  \n",
       "28   Industry Insights  \n",
       "198    Startup Terbaru  \n",
       "52     Team Management  \n",
       "72                 NaN  "
      ]
     },
     "execution_count": 3,
     "metadata": {},
     "output_type": "execute_result"
    }
   ],
   "source": [
    "data_article.sample(5)"
   ]
  },
  {
   "cell_type": "code",
   "execution_count": 4,
   "metadata": {},
   "outputs": [
    {
     "data": {
      "text/html": [
       "<div>\n",
       "<style scoped>\n",
       "    .dataframe tbody tr th:only-of-type {\n",
       "        vertical-align: middle;\n",
       "    }\n",
       "\n",
       "    .dataframe tbody tr th {\n",
       "        vertical-align: top;\n",
       "    }\n",
       "\n",
       "    .dataframe thead th {\n",
       "        text-align: right;\n",
       "    }\n",
       "</style>\n",
       "<table border=\"1\" class=\"dataframe\">\n",
       "  <thead>\n",
       "    <tr style=\"text-align: right;\">\n",
       "      <th></th>\n",
       "      <th>id</th>\n",
       "      <th>tracking_id</th>\n",
       "      <th>name</th>\n",
       "      <th>user_id</th>\n",
       "      <th>action</th>\n",
       "      <th>post_id</th>\n",
       "      <th>post_slug</th>\n",
       "      <th>comment_id</th>\n",
       "      <th>comment_content</th>\n",
       "      <th>query</th>\n",
       "      <th>referrer</th>\n",
       "      <th>ip</th>\n",
       "      <th>device</th>\n",
       "      <th>timestamp</th>\n",
       "      <th>load_at</th>\n",
       "      <th>fingerprint</th>\n",
       "    </tr>\n",
       "  </thead>\n",
       "  <tbody>\n",
       "    <tr>\n",
       "      <th>1293142</th>\n",
       "      <td>b1461443-b4f4-4f73-8d22-a1b61d35b601</td>\n",
       "      <td>5ea9205ebc186985698d6277</td>\n",
       "      <td>detail_article</td>\n",
       "      <td>0</td>\n",
       "      <td>read</td>\n",
       "      <td>188210.0</td>\n",
       "      <td>kasus-peretasan-populer-indonesia</td>\n",
       "      <td>NaN</td>\n",
       "      <td>NaN</td>\n",
       "      <td>NaN</td>\n",
       "      <td>https://www.google.com/</td>\n",
       "      <td>182.1.125.27</td>\n",
       "      <td>Mozilla/5.0 (Windows NT 10.0; Win64; x64) Appl...</td>\n",
       "      <td>2020-04-29 06:36:14.18</td>\n",
       "      <td>2020-04-30 04:00:56.681966+00</td>\n",
       "      <td>701b5b0a0c4b6de2aa805ede8f509a5d</td>\n",
       "    </tr>\n",
       "    <tr>\n",
       "      <th>447175</th>\n",
       "      <td>839d44a5-3ca5-4763-b25b-25b546735f65</td>\n",
       "      <td>5e819a73bc18698569543e37</td>\n",
       "      <td>detail_article</td>\n",
       "      <td>0</td>\n",
       "      <td>read</td>\n",
       "      <td>251245.0</td>\n",
       "      <td>tip-dan-trik-slack</td>\n",
       "      <td>NaN</td>\n",
       "      <td>NaN</td>\n",
       "      <td>NaN</td>\n",
       "      <td>https://www.google.com/</td>\n",
       "      <td>114.124.176.255</td>\n",
       "      <td>Mozilla/5.0 (Linux; Android 9; SM-J530Y) Apple...</td>\n",
       "      <td>2020-03-30 00:12:53.579</td>\n",
       "      <td>2020-03-30 08:04:18.282714+00</td>\n",
       "      <td>7ad48605b4650208bed640f19d288825</td>\n",
       "    </tr>\n",
       "    <tr>\n",
       "      <th>1667490</th>\n",
       "      <td>2cf1ce62-9a79-413b-a811-5cea2acb682f</td>\n",
       "      <td>5ece8c45bc18698569b7c10d</td>\n",
       "      <td>detail_article</td>\n",
       "      <td>0</td>\n",
       "      <td>read</td>\n",
       "      <td>265364.0</td>\n",
       "      <td>gudangada-di-pasar-fmcg</td>\n",
       "      <td>NaN</td>\n",
       "      <td>NaN</td>\n",
       "      <td>NaN</td>\n",
       "      <td>https://www.google.com/</td>\n",
       "      <td>139.194.51.114</td>\n",
       "      <td>Mozilla/5.0 (Linux; Android 7.1.1; BBB100-7) A...</td>\n",
       "      <td>2020-05-27 15:50:29.671</td>\n",
       "      <td>2020-05-27 16:31:28.477053+00</td>\n",
       "      <td>3ca570e59fa7c62b243818425e04e010</td>\n",
       "    </tr>\n",
       "    <tr>\n",
       "      <th>464030</th>\n",
       "      <td>22b9cde3-de30-4c68-8333-893cbf16d288</td>\n",
       "      <td>5e81e1a5bc18698569554081</td>\n",
       "      <td>detail_article</td>\n",
       "      <td>0</td>\n",
       "      <td>read</td>\n",
       "      <td>153635.0</td>\n",
       "      <td>cinemoji-mari-tebak-judul-film-dengan-emoji</td>\n",
       "      <td>NaN</td>\n",
       "      <td>NaN</td>\n",
       "      <td>NaN</td>\n",
       "      <td>https://www.google.com/</td>\n",
       "      <td>36.73.35.164</td>\n",
       "      <td>Mozilla/5.0 (Linux; Android 9; Redmi Note 7) A...</td>\n",
       "      <td>2020-03-30 12:10:13.33</td>\n",
       "      <td>2020-03-30 12:32:02.567771+00</td>\n",
       "      <td>2dbfb19f1e4129c1ac70ac02033a0b2c</td>\n",
       "    </tr>\n",
       "    <tr>\n",
       "      <th>379102</th>\n",
       "      <td>a6c29467-6cc2-46fb-9995-d638aac2466b</td>\n",
       "      <td>5e7dc616bc186985694f7df4</td>\n",
       "      <td>detail_article</td>\n",
       "      <td>0</td>\n",
       "      <td>read</td>\n",
       "      <td>235190.0</td>\n",
       "      <td>kumpulan-plaftorm-desain-cv-terbaik</td>\n",
       "      <td>NaN</td>\n",
       "      <td>NaN</td>\n",
       "      <td>NaN</td>\n",
       "      <td>https://www.google.com/</td>\n",
       "      <td>120.188.35.23</td>\n",
       "      <td>Mozilla/5.0 (Linux; Android 8.1.0; CPH1909 Bui...</td>\n",
       "      <td>2020-03-27 09:23:34.988</td>\n",
       "      <td>2020-03-27 10:01:27.112464+00</td>\n",
       "      <td>125f16d90cd45d930ad89ae7933baacb</td>\n",
       "    </tr>\n",
       "  </tbody>\n",
       "</table>\n",
       "</div>"
      ],
      "text/plain": [
       "                                           id               tracking_id  \\\n",
       "1293142  b1461443-b4f4-4f73-8d22-a1b61d35b601  5ea9205ebc186985698d6277   \n",
       "447175   839d44a5-3ca5-4763-b25b-25b546735f65  5e819a73bc18698569543e37   \n",
       "1667490  2cf1ce62-9a79-413b-a811-5cea2acb682f  5ece8c45bc18698569b7c10d   \n",
       "464030   22b9cde3-de30-4c68-8333-893cbf16d288  5e81e1a5bc18698569554081   \n",
       "379102   a6c29467-6cc2-46fb-9995-d638aac2466b  5e7dc616bc186985694f7df4   \n",
       "\n",
       "                   name  user_id action   post_id  \\\n",
       "1293142  detail_article        0   read  188210.0   \n",
       "447175   detail_article        0   read  251245.0   \n",
       "1667490  detail_article        0   read  265364.0   \n",
       "464030   detail_article        0   read  153635.0   \n",
       "379102   detail_article        0   read  235190.0   \n",
       "\n",
       "                                           post_slug  comment_id  \\\n",
       "1293142            kasus-peretasan-populer-indonesia         NaN   \n",
       "447175                            tip-dan-trik-slack         NaN   \n",
       "1667490                      gudangada-di-pasar-fmcg         NaN   \n",
       "464030   cinemoji-mari-tebak-judul-film-dengan-emoji         NaN   \n",
       "379102           kumpulan-plaftorm-desain-cv-terbaik         NaN   \n",
       "\n",
       "         comment_content query                 referrer               ip  \\\n",
       "1293142              NaN   NaN  https://www.google.com/     182.1.125.27   \n",
       "447175               NaN   NaN  https://www.google.com/  114.124.176.255   \n",
       "1667490              NaN   NaN  https://www.google.com/   139.194.51.114   \n",
       "464030               NaN   NaN  https://www.google.com/     36.73.35.164   \n",
       "379102               NaN   NaN  https://www.google.com/    120.188.35.23   \n",
       "\n",
       "                                                    device  \\\n",
       "1293142  Mozilla/5.0 (Windows NT 10.0; Win64; x64) Appl...   \n",
       "447175   Mozilla/5.0 (Linux; Android 9; SM-J530Y) Apple...   \n",
       "1667490  Mozilla/5.0 (Linux; Android 7.1.1; BBB100-7) A...   \n",
       "464030   Mozilla/5.0 (Linux; Android 9; Redmi Note 7) A...   \n",
       "379102   Mozilla/5.0 (Linux; Android 8.1.0; CPH1909 Bui...   \n",
       "\n",
       "                       timestamp                        load_at  \\\n",
       "1293142   2020-04-29 06:36:14.18  2020-04-30 04:00:56.681966+00   \n",
       "447175   2020-03-30 00:12:53.579  2020-03-30 08:04:18.282714+00   \n",
       "1667490  2020-05-27 15:50:29.671  2020-05-27 16:31:28.477053+00   \n",
       "464030    2020-03-30 12:10:13.33  2020-03-30 12:32:02.567771+00   \n",
       "379102   2020-03-27 09:23:34.988  2020-03-27 10:01:27.112464+00   \n",
       "\n",
       "                              fingerprint  \n",
       "1293142  701b5b0a0c4b6de2aa805ede8f509a5d  \n",
       "447175   7ad48605b4650208bed640f19d288825  \n",
       "1667490  3ca570e59fa7c62b243818425e04e010  \n",
       "464030   2dbfb19f1e4129c1ac70ac02033a0b2c  \n",
       "379102   125f16d90cd45d930ad89ae7933baacb  "
      ]
     },
     "execution_count": 4,
     "metadata": {},
     "output_type": "execute_result"
    }
   ],
   "source": [
    "data_user.sample(5)"
   ]
  },
  {
   "cell_type": "code",
   "execution_count": 5,
   "metadata": {},
   "outputs": [],
   "source": [
    "def null_uniq(dataset):\n",
    "    nul_uni = []\n",
    "    for i in dataset.columns:\n",
    "        nul_uni.append([i, round(dataset[i].isnull().sum()/len(dataset), 3), \n",
    "                        round(dataset[i].nunique()/len(dataset), 3), dataset[i].dtype])\n",
    "    return pd.DataFrame(nul_uni, columns=[\"column\", \"null\", \"uniqueness\", \"dtype\"])"
   ]
  },
  {
   "cell_type": "code",
   "execution_count": 6,
   "metadata": {},
   "outputs": [
    {
     "data": {
      "text/html": [
       "<div>\n",
       "<style scoped>\n",
       "    .dataframe tbody tr th:only-of-type {\n",
       "        vertical-align: middle;\n",
       "    }\n",
       "\n",
       "    .dataframe tbody tr th {\n",
       "        vertical-align: top;\n",
       "    }\n",
       "\n",
       "    .dataframe thead th {\n",
       "        text-align: right;\n",
       "    }\n",
       "</style>\n",
       "<table border=\"1\" class=\"dataframe\">\n",
       "  <thead>\n",
       "    <tr style=\"text-align: right;\">\n",
       "      <th></th>\n",
       "      <th>column</th>\n",
       "      <th>null</th>\n",
       "      <th>uniqueness</th>\n",
       "      <th>dtype</th>\n",
       "    </tr>\n",
       "  </thead>\n",
       "  <tbody>\n",
       "    <tr>\n",
       "      <th>0</th>\n",
       "      <td>id</td>\n",
       "      <td>0.000</td>\n",
       "      <td>1.000</td>\n",
       "      <td>object</td>\n",
       "    </tr>\n",
       "    <tr>\n",
       "      <th>1</th>\n",
       "      <td>tracking_id</td>\n",
       "      <td>0.000</td>\n",
       "      <td>1.000</td>\n",
       "      <td>object</td>\n",
       "    </tr>\n",
       "    <tr>\n",
       "      <th>2</th>\n",
       "      <td>name</td>\n",
       "      <td>0.000</td>\n",
       "      <td>0.000</td>\n",
       "      <td>object</td>\n",
       "    </tr>\n",
       "    <tr>\n",
       "      <th>3</th>\n",
       "      <td>user_id</td>\n",
       "      <td>0.000</td>\n",
       "      <td>0.004</td>\n",
       "      <td>int64</td>\n",
       "    </tr>\n",
       "    <tr>\n",
       "      <th>4</th>\n",
       "      <td>action</td>\n",
       "      <td>0.000</td>\n",
       "      <td>0.000</td>\n",
       "      <td>object</td>\n",
       "    </tr>\n",
       "    <tr>\n",
       "      <th>5</th>\n",
       "      <td>post_id</td>\n",
       "      <td>0.094</td>\n",
       "      <td>0.008</td>\n",
       "      <td>float64</td>\n",
       "    </tr>\n",
       "    <tr>\n",
       "      <th>6</th>\n",
       "      <td>post_slug</td>\n",
       "      <td>0.000</td>\n",
       "      <td>0.008</td>\n",
       "      <td>object</td>\n",
       "    </tr>\n",
       "    <tr>\n",
       "      <th>7</th>\n",
       "      <td>comment_id</td>\n",
       "      <td>1.000</td>\n",
       "      <td>0.000</td>\n",
       "      <td>float64</td>\n",
       "    </tr>\n",
       "    <tr>\n",
       "      <th>8</th>\n",
       "      <td>comment_content</td>\n",
       "      <td>1.000</td>\n",
       "      <td>0.000</td>\n",
       "      <td>float64</td>\n",
       "    </tr>\n",
       "    <tr>\n",
       "      <th>9</th>\n",
       "      <td>query</td>\n",
       "      <td>1.000</td>\n",
       "      <td>0.000</td>\n",
       "      <td>object</td>\n",
       "    </tr>\n",
       "    <tr>\n",
       "      <th>10</th>\n",
       "      <td>referrer</td>\n",
       "      <td>0.214</td>\n",
       "      <td>0.011</td>\n",
       "      <td>object</td>\n",
       "    </tr>\n",
       "    <tr>\n",
       "      <th>11</th>\n",
       "      <td>ip</td>\n",
       "      <td>0.000</td>\n",
       "      <td>0.281</td>\n",
       "      <td>object</td>\n",
       "    </tr>\n",
       "    <tr>\n",
       "      <th>12</th>\n",
       "      <td>device</td>\n",
       "      <td>0.000</td>\n",
       "      <td>0.051</td>\n",
       "      <td>object</td>\n",
       "    </tr>\n",
       "    <tr>\n",
       "      <th>13</th>\n",
       "      <td>timestamp</td>\n",
       "      <td>0.000</td>\n",
       "      <td>0.999</td>\n",
       "      <td>object</td>\n",
       "    </tr>\n",
       "    <tr>\n",
       "      <th>14</th>\n",
       "      <td>load_at</td>\n",
       "      <td>0.000</td>\n",
       "      <td>1.000</td>\n",
       "      <td>object</td>\n",
       "    </tr>\n",
       "    <tr>\n",
       "      <th>15</th>\n",
       "      <td>fingerprint</td>\n",
       "      <td>0.000</td>\n",
       "      <td>0.281</td>\n",
       "      <td>object</td>\n",
       "    </tr>\n",
       "  </tbody>\n",
       "</table>\n",
       "</div>"
      ],
      "text/plain": [
       "             column   null  uniqueness    dtype\n",
       "0                id  0.000       1.000   object\n",
       "1       tracking_id  0.000       1.000   object\n",
       "2              name  0.000       0.000   object\n",
       "3           user_id  0.000       0.004    int64\n",
       "4            action  0.000       0.000   object\n",
       "5           post_id  0.094       0.008  float64\n",
       "6         post_slug  0.000       0.008   object\n",
       "7        comment_id  1.000       0.000  float64\n",
       "8   comment_content  1.000       0.000  float64\n",
       "9             query  1.000       0.000   object\n",
       "10         referrer  0.214       0.011   object\n",
       "11               ip  0.000       0.281   object\n",
       "12           device  0.000       0.051   object\n",
       "13        timestamp  0.000       0.999   object\n",
       "14          load_at  0.000       1.000   object\n",
       "15      fingerprint  0.000       0.281   object"
      ]
     },
     "execution_count": 6,
     "metadata": {},
     "output_type": "execute_result"
    }
   ],
   "source": [
    "#percetage of null values each columns\n",
    "#uniqueness equal to one meaning that each row has unique values\n",
    "null_uniq(data_user)"
   ]
  },
  {
   "cell_type": "markdown",
   "metadata": {},
   "source": [
    "## Assessing Data"
   ]
  },
  {
   "cell_type": "code",
   "execution_count": 7,
   "metadata": {},
   "outputs": [
    {
     "data": {
      "text/plain": [
       "((242, 5), (2586099, 16))"
      ]
     },
     "execution_count": 7,
     "metadata": {},
     "output_type": "execute_result"
    }
   ],
   "source": [
    "#data size \n",
    "data_article.shape, data_user.shape"
   ]
  },
  {
   "cell_type": "code",
   "execution_count": 8,
   "metadata": {},
   "outputs": [
    {
     "data": {
      "text/plain": [
       "('2020-03-09 06:25:20.218', '2020-08-10 06:07:31.9')"
      ]
     },
     "execution_count": 8,
     "metadata": {},
     "output_type": "execute_result"
    }
   ],
   "source": [
    "#datetime period\n",
    "data_user.timestamp.min(), data_user.timestamp.max()"
   ]
  },
  {
   "cell_type": "code",
   "execution_count": 9,
   "metadata": {},
   "outputs": [
    {
     "data": {
      "text/html": [
       "<div>\n",
       "<style scoped>\n",
       "    .dataframe tbody tr th:only-of-type {\n",
       "        vertical-align: middle;\n",
       "    }\n",
       "\n",
       "    .dataframe tbody tr th {\n",
       "        vertical-align: top;\n",
       "    }\n",
       "\n",
       "    .dataframe thead th {\n",
       "        text-align: right;\n",
       "    }\n",
       "</style>\n",
       "<table border=\"1\" class=\"dataframe\">\n",
       "  <thead>\n",
       "    <tr style=\"text-align: right;\">\n",
       "      <th></th>\n",
       "      <th>total_convert</th>\n",
       "      <th>post_title</th>\n",
       "      <th>link</th>\n",
       "      <th>parent_categories</th>\n",
       "      <th>child_categories</th>\n",
       "    </tr>\n",
       "  </thead>\n",
       "  <tbody>\n",
       "    <tr>\n",
       "      <th>45</th>\n",
       "      <td>2</td>\n",
       "      <td>Data Akuisisi Perusahaan Teknologi di Asia Ten...</td>\n",
       "      <td>https://id.techinasia.com/data-akuisisi-perusa...</td>\n",
       "      <td>Data</td>\n",
       "      <td>NaN</td>\n",
       "    </tr>\n",
       "    <tr>\n",
       "      <th>75</th>\n",
       "      <td>2</td>\n",
       "      <td>[Infografik] Bisnis Virtual Hotel Operator yan...</td>\n",
       "      <td>https://id.techinasia.com/infografik-bisnis-vi...</td>\n",
       "      <td>Visual Story</td>\n",
       "      <td>NaN</td>\n",
       "    </tr>\n",
       "    <tr>\n",
       "      <th>79</th>\n",
       "      <td>2</td>\n",
       "      <td>Apa yang Terjadi di Industri Pembayaran Indone...</td>\n",
       "      <td>https://id.techinasia.com/apa-yang-terjadi-di-...</td>\n",
       "      <td>Startup</td>\n",
       "      <td>Industry Insights</td>\n",
       "    </tr>\n",
       "    <tr>\n",
       "      <th>136</th>\n",
       "      <td>1</td>\n",
       "      <td>TikTok Hapus 380.000 Video di AS, Pendapatan A...</td>\n",
       "      <td>https://id.techinasia.com/tiktok-hapus-380-000...</td>\n",
       "      <td>Brief</td>\n",
       "      <td>NaN</td>\n",
       "    </tr>\n",
       "    <tr>\n",
       "      <th>175</th>\n",
       "      <td>1</td>\n",
       "      <td>Cerita 3 &lt;em&gt;Founder&lt;/em&gt; yang Sempat Gagal Me...</td>\n",
       "      <td>https://id.techinasia.com/cerita-kegagalan-fou...</td>\n",
       "      <td>Startup</td>\n",
       "      <td>Entrepreneur</td>\n",
       "    </tr>\n",
       "    <tr>\n",
       "      <th>219</th>\n",
       "      <td>1</td>\n",
       "      <td>Kisah &lt;em&gt;Startup&lt;/em&gt; Lokal yang Berkembang m...</td>\n",
       "      <td>https://id.techinasia.com/kisah-sukses-startup...</td>\n",
       "      <td>Startup</td>\n",
       "      <td>Featured Startup</td>\n",
       "    </tr>\n",
       "  </tbody>\n",
       "</table>\n",
       "</div>"
      ],
      "text/plain": [
       "     total_convert                                         post_title  \\\n",
       "45               2  Data Akuisisi Perusahaan Teknologi di Asia Ten...   \n",
       "75               2  [Infografik] Bisnis Virtual Hotel Operator yan...   \n",
       "79               2  Apa yang Terjadi di Industri Pembayaran Indone...   \n",
       "136              1  TikTok Hapus 380.000 Video di AS, Pendapatan A...   \n",
       "175              1  Cerita 3 <em>Founder</em> yang Sempat Gagal Me...   \n",
       "219              1  Kisah <em>Startup</em> Lokal yang Berkembang m...   \n",
       "\n",
       "                                                  link parent_categories  \\\n",
       "45   https://id.techinasia.com/data-akuisisi-perusa...              Data   \n",
       "75   https://id.techinasia.com/infografik-bisnis-vi...      Visual Story   \n",
       "79   https://id.techinasia.com/apa-yang-terjadi-di-...           Startup   \n",
       "136  https://id.techinasia.com/tiktok-hapus-380-000...             Brief   \n",
       "175  https://id.techinasia.com/cerita-kegagalan-fou...           Startup   \n",
       "219  https://id.techinasia.com/kisah-sukses-startup...           Startup   \n",
       "\n",
       "      child_categories  \n",
       "45                 NaN  \n",
       "75                 NaN  \n",
       "79   Industry Insights  \n",
       "136                NaN  \n",
       "175       Entrepreneur  \n",
       "219   Featured Startup  "
      ]
     },
     "execution_count": 9,
     "metadata": {},
     "output_type": "execute_result"
    }
   ],
   "source": [
    "uniq_1 = data_article.link.str.split(\"/\", expand=True)[3].unique()\n",
    "uniq_2 = data_user.post_slug.unique()\n",
    "\n",
    "x = []\n",
    "for i, val in enumerate(uniq_1):\n",
    "    if val not in uniq_2:\n",
    "        x.append(i)\n",
    "\n",
    "# the list (converter) arcticle don't in free-users dataset    \n",
    "data_article.iloc[x]\n",
    "\n",
    "#quite odd, the converter article have not read (or can't be read anymore) in given five month period"
   ]
  },
  {
   "cell_type": "code",
   "execution_count": 10,
   "metadata": {
    "scrolled": true
   },
   "outputs": [
    {
     "data": {
      "text/plain": [
       "0         2517584\n",
       "78152        2502\n",
       "140216        933\n",
       "72902         759\n",
       "84027         723\n",
       "136           674\n",
       "52010         468\n",
       "9544          448\n",
       "75846         445\n",
       "59108         406\n",
       "Name: user_id, dtype: int64"
      ]
     },
     "execution_count": 10,
     "metadata": {},
     "output_type": "execute_result"
    }
   ],
   "source": [
    "# '0' doesn't make sense\n",
    "data_user[\"user_id\"].value_counts()[:10]"
   ]
  },
  {
   "cell_type": "code",
   "execution_count": 11,
   "metadata": {},
   "outputs": [
    {
     "data": {
      "text/plain": [
       "detail_article    2586099\n",
       "Name: name, dtype: int64"
      ]
     },
     "execution_count": 11,
     "metadata": {},
     "output_type": "execute_result"
    }
   ],
   "source": [
    "# only have one value\n",
    "data_user[\"name\"].value_counts(dropna=False)"
   ]
  },
  {
   "cell_type": "code",
   "execution_count": 12,
   "metadata": {
    "scrolled": true
   },
   "outputs": [
    {
     "data": {
      "text/plain": [
       "read        2586031\n",
       "klik             50\n",
       "search            8\n",
       "Google            4\n",
       "Twitter           3\n",
       "Facebook          2\n",
       "comment           1\n",
       "Name: action, dtype: int64"
      ]
     },
     "execution_count": 12,
     "metadata": {},
     "output_type": "execute_result"
    }
   ],
   "source": [
    "#the value largely dominant by read action\n",
    "data_user[\"action\"].value_counts(dropna=False)"
   ]
  },
  {
   "cell_type": "code",
   "execution_count": 13,
   "metadata": {
    "scrolled": false
   },
   "outputs": [
    {
     "data": {
      "text/plain": [
       "https://id.techinasia.com/diferensiasi-qasir-persaingan-pos                                                                                                                               5\n",
       "https://www.google.co.id/search?q=ps+vita+lebih+mahal+dari+ps3&client=ucweb-lite-b&channel=sb                                                                                             1\n",
       "https://id.techinasia.com/talk/final-fantasy-vi-mestinya-juga-dibuat-ulang                                                                                                                4\n",
       "https://www.google.co.id/search?safe=strict&client=ucweb-b-bookmark&oq=Cara+menghubunhkan+ps+vita+ke+smart+tv&aqs=mobile-gws-lite..&source=hp&q=Cara+menghubunhkan+ps+vita+ke+smart+tv    1\n",
       "https://www.google.com/url?q=https://id.techinasia.com/sikatabis-website-pembanding-kredit-pemilikan-rumah&sa=D&ust=1587930559776000&usg=AFQjCNG2Gn5vIPBzRrP8Fem11Vo9t4YUSw               1\n",
       "Name: referrer, dtype: int64"
      ]
     },
     "execution_count": 13,
     "metadata": {},
     "output_type": "execute_result"
    }
   ],
   "source": [
    "# too many variance which can be aggregating to smaller group\n",
    "data_user[\"referrer\"].value_counts(dropna=False).sample(5)"
   ]
  },
  {
   "cell_type": "code",
   "execution_count": 14,
   "metadata": {
    "scrolled": false
   },
   "outputs": [
    {
     "data": {
      "text/plain": [
       "Indogen Capital Galang Dana Rp699 Miliar untuk Modal Investasi Baru di <em>Startup</em>    1\n",
       "3 Tip Menyusun Strategi Pemasaran Efektif dengan Bujet Terbatas                            1\n",
       "Pentingnya <em>Sales Pipeline</em> bagi <em>Startup</em> agar Meraih Target Penjualan      1\n",
       "8 Tip untuk para <em>Founder</em> ketika Pertama Kali Berhadapan dengan Investor           1\n",
       "Metode Tokopedia dalam Mengamankan Data 90 Juta Pelanggannya                               1\n",
       "Name: post_title, dtype: int64"
      ]
     },
     "execution_count": 14,
     "metadata": {},
     "output_type": "execute_result"
    }
   ],
   "source": [
    "#character such as [update], </em> should be drop\n",
    "data_article.post_title.value_counts().head()"
   ]
  },
  {
   "cell_type": "code",
   "execution_count": 15,
   "metadata": {},
   "outputs": [
    {
     "data": {
      "text/plain": [
       "10873.0    7709\n",
       "31478.0       1\n",
       "Name: post_id, dtype: int64"
      ]
     },
     "execution_count": 15,
     "metadata": {},
     "output_type": "execute_result"
    }
   ],
   "source": [
    "# it's ok one post id one post slug, vice versa\n",
    "#thus the article_id can be one of them\n",
    "data_user[data_user[\"post_id\"] == data_user[\"post_id\"].sample(1).values[0]][\"post_slug\"].value_counts()\n",
    "data_user[data_user[\"post_slug\"] == data_user[\"post_slug\"].sample(1).values[0]][\"post_id\"].value_counts()"
   ]
  },
  {
   "cell_type": "markdown",
   "metadata": {},
   "source": [
    "## Cleaning process\n",
    "---"
   ]
  },
  {
   "cell_type": "markdown",
   "metadata": {},
   "source": [
    "### Drop useless columns and rows"
   ]
  },
  {
   "cell_type": "code",
   "execution_count": 16,
   "metadata": {},
   "outputs": [],
   "source": [
    "#drop other than read\n",
    "data_user = data_user[data_user[\"action\"] == \"read\"].copy()\n",
    "\n",
    "data_user.drop(columns=[\"id\", \"tracking_id\", \"name\", \"action\", \"post_id\", \"comment_id\",\n",
    "                        \"comment_content\", \"query\", \"load_at\", \"fingerprint\"], inplace=True)"
   ]
  },
  {
   "cell_type": "markdown",
   "metadata": {},
   "source": [
    "### [data_article] Drop unnecessary char"
   ]
  },
  {
   "cell_type": "code",
   "execution_count": 17,
   "metadata": {},
   "outputs": [
    {
     "data": {
      "text/html": [
       "<div>\n",
       "<style scoped>\n",
       "    .dataframe tbody tr th:only-of-type {\n",
       "        vertical-align: middle;\n",
       "    }\n",
       "\n",
       "    .dataframe tbody tr th {\n",
       "        vertical-align: top;\n",
       "    }\n",
       "\n",
       "    .dataframe thead th {\n",
       "        text-align: right;\n",
       "    }\n",
       "</style>\n",
       "<table border=\"1\" class=\"dataframe\">\n",
       "  <thead>\n",
       "    <tr style=\"text-align: right;\">\n",
       "      <th></th>\n",
       "      <th>0</th>\n",
       "      <th>1</th>\n",
       "    </tr>\n",
       "  </thead>\n",
       "  <tbody>\n",
       "    <tr>\n",
       "      <th>14</th>\n",
       "      <td>[Update</td>\n",
       "      <td>Cara Menyusun Proyeksi Keuangan Saat Startup ...</td>\n",
       "    </tr>\n",
       "    <tr>\n",
       "      <th>200</th>\n",
       "      <td>Dorong Perkembangan GO-TIX, GO-JEK Akuisisi LOKET</td>\n",
       "      <td>Dorong Perkembangan GO-TIX, GO-JEK Akuisisi LOKET</td>\n",
       "    </tr>\n",
       "    <tr>\n",
       "      <th>147</th>\n",
       "      <td>[Update</td>\n",
       "      <td>Kumpulan Portal Online Khusus Wanita di Indon...</td>\n",
       "    </tr>\n",
       "    <tr>\n",
       "      <th>150</th>\n",
       "      <td>8 Tip untuk para Founder ketika Pertama Kali B...</td>\n",
       "      <td>8 Tip untuk para Founder ketika Pertama Kali B...</td>\n",
       "    </tr>\n",
       "    <tr>\n",
       "      <th>179</th>\n",
       "      <td>Karakteristik Convertible Note sebagai Salah S...</td>\n",
       "      <td>Karakteristik Convertible Note sebagai Salah S...</td>\n",
       "    </tr>\n",
       "  </tbody>\n",
       "</table>\n",
       "</div>"
      ],
      "text/plain": [
       "                                                     0  \\\n",
       "14                                             [Update   \n",
       "200  Dorong Perkembangan GO-TIX, GO-JEK Akuisisi LOKET   \n",
       "147                                            [Update   \n",
       "150  8 Tip untuk para Founder ketika Pertama Kali B...   \n",
       "179  Karakteristik Convertible Note sebagai Salah S...   \n",
       "\n",
       "                                                     1  \n",
       "14    Cara Menyusun Proyeksi Keuangan Saat Startup ...  \n",
       "200  Dorong Perkembangan GO-TIX, GO-JEK Akuisisi LOKET  \n",
       "147   Kumpulan Portal Online Khusus Wanita di Indon...  \n",
       "150  8 Tip untuk para Founder ketika Pertama Kali B...  \n",
       "179  Karakteristik Convertible Note sebagai Salah S...  "
      ]
     },
     "execution_count": 17,
     "metadata": {},
     "output_type": "execute_result"
    }
   ],
   "source": [
    "# in data_article\n",
    "title = data_article[\"post_title\"].copy().str.replace(r\"<[em/]+>\", \"\").str.split(\"]\", expand=True).applymap(lambda x: np.nan if x == None else x)\n",
    "title[1] = title[1].fillna(title[0])\n",
    "data_article[\"post_title\"] = title[1]\n",
    "title.sample(5)"
   ]
  },
  {
   "cell_type": "code",
   "execution_count": 18,
   "metadata": {},
   "outputs": [],
   "source": [
    "#make post_slug based on link\n",
    "data_article[\"post_slug\"] = data_article.link.str.split(\"/\", expand=True)[3]\n",
    "\n",
    "#make link based on post_slug\n",
    "data_user[\"link\"] = \"https://id.techinasia.com/\" + data_user[\"post_slug\"]"
   ]
  },
  {
   "cell_type": "markdown",
   "metadata": {},
   "source": [
    "### [data_user] Correcting dtype"
   ]
  },
  {
   "cell_type": "code",
   "execution_count": 19,
   "metadata": {},
   "outputs": [],
   "source": [
    "data_user.timestamp = pd.to_datetime(data_user.timestamp)\n",
    "#data_user.user_id = data_user.user_id.astype(\"object\").str.strip()"
   ]
  },
  {
   "cell_type": "markdown",
   "metadata": {},
   "source": [
    "## Little bit Feature Engineering"
   ]
  },
  {
   "cell_type": "markdown",
   "metadata": {},
   "source": [
    "### [data_user] Convert ip columns to location"
   ]
  },
  {
   "cell_type": "code",
   "execution_count": 20,
   "metadata": {
    "code_folding": []
   },
   "outputs": [],
   "source": [
    "#downloaded GeoLite2 database\n",
    "reader = geoip2.database.Reader('GeoLite2-City_20200915/GeoLite2-City.mmdb')\n",
    "\n",
    "def geolocation(data):\n",
    "    try:\n",
    "        response = reader.city(data)\n",
    "        a = response.country.name\n",
    "        b = response.subdivisions.most_specific.name\n",
    "        c = response.city.name\n",
    "        d = response.location.latitude\n",
    "        e = response.location.longitude\n",
    "        return [a, b, c, d, e]\n",
    "    except:\n",
    "        return np.nan"
   ]
  },
  {
   "cell_type": "code",
   "execution_count": 21,
   "metadata": {},
   "outputs": [
    {
     "data": {
      "application/vnd.jupyter.widget-view+json": {
       "model_id": "54aee020789c4d60beaa8ba92778ee98",
       "version_major": 2,
       "version_minor": 0
      },
      "text/plain": [
       "HBox(children=(FloatProgress(value=0.0, description='Pandas Apply', max=726003.0, style=ProgressStyle(descript…"
      ]
     },
     "metadata": {},
     "output_type": "display_data"
    },
    {
     "name": "stdout",
     "output_type": "stream",
     "text": [
      "\n"
     ]
    }
   ],
   "source": [
    "ip = pd.DataFrame(data_user[\"ip\"].unique())\n",
    "ip[\"location\"] = ip[0].swifter.apply(geolocation)\n",
    "\n",
    "ip[\"country\"] = ip[\"location\"].str[0]\n",
    "ip[\"region\"] = ip[\"location\"].str[1]\n",
    "ip[\"city\"] = ip[\"location\"].str[2]\n",
    "ip[\"latitude\"] = ip[\"location\"].str[3]\n",
    "ip[\"longitude\"] = ip[\"location\"].str[4]\n",
    "\n",
    "ip.drop(columns=\"location\", inplace=True)\n",
    "ip.rename(columns={0:\"ip\"}, inplace=True)"
   ]
  },
  {
   "cell_type": "code",
   "execution_count": 22,
   "metadata": {},
   "outputs": [],
   "source": [
    "# add location column to data_user dataset\n",
    "data_user = pd.merge(data_user, ip, left_on=\"ip\", right_on=\"ip\", how=\"left\")"
   ]
  },
  {
   "cell_type": "markdown",
   "metadata": {},
   "source": [
    "### [data_user] Aggregating referrer and device columns to smaller categories"
   ]
  },
  {
   "cell_type": "code",
   "execution_count": 23,
   "metadata": {},
   "outputs": [],
   "source": [
    "z = data_user[\"referrer\"].str.split(\".\", expand=True)"
   ]
  },
  {
   "cell_type": "code",
   "execution_count": 24,
   "metadata": {},
   "outputs": [
    {
     "data": {
      "application/vnd.jupyter.widget-view+json": {
       "model_id": "6ee6438c2e2a4795a235d6642d7a83a1",
       "version_major": 2,
       "version_minor": 0
      },
      "text/plain": [
       "HBox(children=(FloatProgress(value=0.0, description='Pandas Apply', max=4449.0, style=ProgressStyle(descriptio…"
      ]
     },
     "metadata": {},
     "output_type": "display_data"
    },
    {
     "name": "stdout",
     "output_type": "stream",
     "text": [
      "\n"
     ]
    },
    {
     "data": {
      "application/vnd.jupyter.widget-view+json": {
       "model_id": "90b5735e80fd452abc294d0d81a538ac",
       "version_major": 2,
       "version_minor": 0
      },
      "text/plain": [
       "HBox(children=(FloatProgress(value=0.0, description='Pandas Apply', max=273.0, style=ProgressStyle(description…"
      ]
     },
     "metadata": {},
     "output_type": "display_data"
    },
    {
     "name": "stdout",
     "output_type": "stream",
     "text": [
      "\n"
     ]
    },
    {
     "data": {
      "application/vnd.jupyter.widget-view+json": {
       "model_id": "b8557e11e064403a926869fa7d2ea79c",
       "version_major": 2,
       "version_minor": 0
      },
      "text/plain": [
       "HBox(children=(FloatProgress(value=0.0, description='Pandas Apply', max=147.0, style=ProgressStyle(description…"
      ]
     },
     "metadata": {},
     "output_type": "display_data"
    },
    {
     "name": "stdout",
     "output_type": "stream",
     "text": [
      "\n"
     ]
    }
   ],
   "source": [
    "# I only cleaning ten patterns\n",
    "#replace com/ value with should be\n",
    "com = z[z[1] == \"com/\"][0].str.split(\"/\", expand=True)[2]\n",
    "z[1].iloc[com.index] = com\n",
    "\n",
    "#search not category\n",
    "s = z[z[1] == \"search\"]\n",
    "s[2] = s[2].str.replace(\"tb\", \"tb.ask\")\n",
    "z[1].iloc[s.index] = s[2]\n",
    "\n",
    "#googleapis include to google category\n",
    "z[1] = z[1].str.replace(\"googleapis\", \"google\")\n",
    "#google ads also\n",
    "gog = z[z[1] == \"g\"][0].str.split(\"/\", expand=True)[2].str.replace(\"googleads\", \"google_ads\")\n",
    "z[1].iloc[gog.index] = gog\n",
    "#googleweblight also\n",
    "z[1] = z[1].str.replace(\"googleweblight\", \"google_weblight\")\n",
    "\n",
    "#the category contains id is not a category\n",
    "idd = z[z[1].str.contains(\"id\", na=False)][0].str.split(\"/\", expand=True)[2]\n",
    "z[1].iloc[idd.index] = idd\n",
    "\n",
    "#the in/ atcully linkedin category\n",
    "lin = z[z[1] == \"in/\"][0].str.split(\"/\", expand=True)[2].str.replace(\"lnkd\", \"linkedin\")\n",
    "z[1].iloc[lin.index] = lin\n",
    "\n",
    "#convert \\t\n",
    "t = z[z[1].str.contains(\"co/\", na=False)][0].str.split(\"/\", expand=True)[2].swifter.apply(lambda x: \"twitter\" if x == \"t\" else x)\n",
    "z[1].iloc[t.index] = t\n",
    "\n",
    "#convert \\co to\n",
    "tw = z[z[1] == \"co\"][0].str.split(\"/\", expand=True)[2].swifter.apply(lambda x: \"twitter\" if x == \"t\" else x)\n",
    "z[1].iloc[tw.index] = tw\n",
    "\n",
    "#m to wikipedia\n",
    "wi = z[z[1] == \"m\"][2]\n",
    "z[1].iloc[wi.index] = wi\n",
    "\n",
    "#techinasia add\n",
    "tech = z[z[1].str.contains(\"techinasia/\", na=False)][0].swifter.apply(lambda x: \"techinasia\" if x != np.nan else x)\n",
    "z[1].iloc[tech.index] = tech\n",
    "\n",
    "#com/ to another category\n",
    "com1 = z[z[1].str.contains(\"com/\", na=False)][0].str.split(\"/\", expand=True)[2]\n",
    "z[1].iloc[com1.index] = com1"
   ]
  },
  {
   "cell_type": "code",
   "execution_count": 25,
   "metadata": {},
   "outputs": [],
   "source": [
    "data_user[\"referrer\"] = z[1].copy()"
   ]
  },
  {
   "cell_type": "markdown",
   "metadata": {},
   "source": [
    "###########"
   ]
  },
  {
   "cell_type": "code",
   "execution_count": 26,
   "metadata": {},
   "outputs": [],
   "source": [
    "#device columns\n",
    "dev = data_user[\"device\"].str.split(\";\", expand=True)"
   ]
  },
  {
   "cell_type": "code",
   "execution_count": 27,
   "metadata": {
    "scrolled": false
   },
   "outputs": [
    {
     "data": {
      "application/vnd.jupyter.widget-view+json": {
       "model_id": "4207436ffdf94988a7ad18921dc7c149",
       "version_major": 2,
       "version_minor": 0
      },
      "text/plain": [
       "HBox(children=(FloatProgress(value=0.0, description='Pandas Apply', max=2586031.0, style=ProgressStyle(descrip…"
      ]
     },
     "metadata": {},
     "output_type": "display_data"
    },
    {
     "name": "stdout",
     "output_type": "stream",
     "text": [
      "\n"
     ]
    },
    {
     "data": {
      "application/vnd.jupyter.widget-view+json": {
       "model_id": "c8f6700e48db419595edcff9d7a6872a",
       "version_major": 2,
       "version_minor": 0
      },
      "text/plain": [
       "HBox(children=(FloatProgress(value=0.0, description='Pandas Apply', max=2586031.0, style=ProgressStyle(descrip…"
      ]
     },
     "metadata": {},
     "output_type": "display_data"
    },
    {
     "name": "stdout",
     "output_type": "stream",
     "text": [
      "\n"
     ]
    }
   ],
   "source": [
    "asd = dev[1].str.strip().swifter.apply(lambda x: x if x != \"U\" else \"Android\").str.replace(r\"\\s?[0-9]\\s?\", \"\").str.replace(\"CPU\", \"\").str.replace(\"Intel\", \"\").str.extract(r\"(\\w+)\")[0].str.strip()\n",
    "\n",
    "## too much variance of pattern, exclude them\n",
    "data_user[\"device_type\"] = asd.swifter.apply(lambda x: x if x in [\"Android\", \"Win\", \"Mac\",\n",
    "                                                                  \"iPhone\", \"Linux\", \"YandexBot\"] else np.nan)"
   ]
  },
  {
   "cell_type": "markdown",
   "metadata": {},
   "source": [
    "### [data_user] Make new user_id for \"0\" values"
   ]
  },
  {
   "cell_type": "code",
   "execution_count": 28,
   "metadata": {},
   "outputs": [],
   "source": [
    "data_user1 = data_user[data_user[\"user_id\"] != 0]\n",
    "a = pd.DataFrame(data_user1.user_id.unique())\n",
    "a[\"new_user_id\"] = range(len(a))"
   ]
  },
  {
   "cell_type": "code",
   "execution_count": 29,
   "metadata": {},
   "outputs": [],
   "source": [
    "data_user1 = pd.merge(data_user1, a, left_on=\"user_id\", right_on=0).copy().drop(columns=[0, \"user_id\"])"
   ]
  },
  {
   "cell_type": "code",
   "execution_count": 30,
   "metadata": {},
   "outputs": [],
   "source": [
    "data_user2 = data_user[data_user[\"user_id\"] == 0]\n",
    "b = pd.DataFrame(data_user2[\"ip\"].unique())\n",
    "b[\"new_user_id\"] = range(len(a), len(a) + len(b))"
   ]
  },
  {
   "cell_type": "code",
   "execution_count": 31,
   "metadata": {},
   "outputs": [],
   "source": [
    "data_user2 = pd.merge(data_user2, b, left_on=\"ip\", right_on=0).copy().drop(columns=[0, \"user_id\"])"
   ]
  },
  {
   "cell_type": "code",
   "execution_count": 32,
   "metadata": {},
   "outputs": [],
   "source": [
    "data_user = pd.concat([data_user2, data_user1])"
   ]
  },
  {
   "cell_type": "code",
   "execution_count": 33,
   "metadata": {},
   "outputs": [],
   "source": [
    "data_user.to_csv(\"techinasia_data_user.csv\")\n",
    "data_article.to_csv(\"techinasia_data_article.csv\")"
   ]
  },
  {
   "cell_type": "markdown",
   "metadata": {},
   "source": [
    "----"
   ]
  }
 ],
 "metadata": {
  "kernelspec": {
   "display_name": "Python 3",
   "language": "python",
   "name": "python3"
  },
  "language_info": {
   "codemirror_mode": {
    "name": "ipython",
    "version": 3
   },
   "file_extension": ".py",
   "mimetype": "text/x-python",
   "name": "python",
   "nbconvert_exporter": "python",
   "pygments_lexer": "ipython3",
   "version": "3.7.3"
  }
 },
 "nbformat": 4,
 "nbformat_minor": 4
}
