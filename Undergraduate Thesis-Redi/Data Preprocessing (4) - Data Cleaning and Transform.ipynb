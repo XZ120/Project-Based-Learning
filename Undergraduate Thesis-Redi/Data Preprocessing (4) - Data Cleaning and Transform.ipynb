{
 "cells": [
  {
   "cell_type": "code",
   "execution_count": 1,
   "metadata": {},
   "outputs": [],
   "source": [
    "import pandas as pd\n",
    "import numpy as np\n",
    "import matplotlib.pyplot as plt\n",
    "import seaborn as sns\n",
    "import missingno as msno\n",
    "import warnings\n",
    "warnings.simplefilter(action=\"ignore\")\n",
    "\n",
    "from statsmodels.stats.weightstats import ttest_ind\n",
    "from scipy import stats\n",
    "from sklearn import metrics\n",
    "\n",
    "%matplotlib inline"
   ]
  },
  {
   "cell_type": "markdown",
   "metadata": {},
   "source": [
    "## Load Raw Dataset \n",
    "---"
   ]
  },
  {
   "cell_type": "code",
   "execution_count": 2,
   "metadata": {
    "scrolled": false
   },
   "outputs": [
    {
     "data": {
      "text/html": [
       "<div>\n",
       "<style scoped>\n",
       "    .dataframe tbody tr th:only-of-type {\n",
       "        vertical-align: middle;\n",
       "    }\n",
       "\n",
       "    .dataframe tbody tr th {\n",
       "        vertical-align: top;\n",
       "    }\n",
       "\n",
       "    .dataframe thead th {\n",
       "        text-align: right;\n",
       "    }\n",
       "</style>\n",
       "<table border=\"1\" class=\"dataframe\">\n",
       "  <thead>\n",
       "    <tr style=\"text-align: right;\">\n",
       "      <th></th>\n",
       "      <th>index</th>\n",
       "      <th>sex</th>\n",
       "      <th>respondent</th>\n",
       "      <th>age</th>\n",
       "      <th>marstat</th>\n",
       "      <th>pidlink</th>\n",
       "      <th>ar02b</th>\n",
       "      <th>hhid07</th>\n",
       "      <th>pid07</th>\n",
       "      <th>hhid00</th>\n",
       "      <th>...</th>\n",
       "      <th>pm24e</th>\n",
       "      <th>pm24f</th>\n",
       "      <th>pm24g</th>\n",
       "      <th>pm24h</th>\n",
       "      <th>educ</th>\n",
       "      <th>pt</th>\n",
       "      <th>ak</th>\n",
       "      <th>unemployment_rate</th>\n",
       "      <th>sample</th>\n",
       "      <th>parent_Working</th>\n",
       "    </tr>\n",
       "  </thead>\n",
       "  <tbody>\n",
       "    <tr>\n",
       "      <th>1452</th>\n",
       "      <td>1452</td>\n",
       "      <td>0</td>\n",
       "      <td>3</td>\n",
       "      <td>21.0</td>\n",
       "      <td>single</td>\n",
       "      <td>105080008</td>\n",
       "      <td>3</td>\n",
       "      <td>1050800</td>\n",
       "      <td>8.0</td>\n",
       "      <td>1050800</td>\n",
       "      <td>...</td>\n",
       "      <td>1.0</td>\n",
       "      <td>0.0</td>\n",
       "      <td>0.0</td>\n",
       "      <td>0.0</td>\n",
       "      <td>4.0</td>\n",
       "      <td>473.0</td>\n",
       "      <td>2653.0</td>\n",
       "      <td>0.178289</td>\n",
       "      <td>4306.0</td>\n",
       "      <td>0</td>\n",
       "    </tr>\n",
       "    <tr>\n",
       "      <th>6309</th>\n",
       "      <td>6309</td>\n",
       "      <td>1</td>\n",
       "      <td>3</td>\n",
       "      <td>24.0</td>\n",
       "      <td>divorced</td>\n",
       "      <td>229230005</td>\n",
       "      <td>3</td>\n",
       "      <td>2292300</td>\n",
       "      <td>5.0</td>\n",
       "      <td></td>\n",
       "      <td>...</td>\n",
       "      <td>0.0</td>\n",
       "      <td>0.0</td>\n",
       "      <td>0.0</td>\n",
       "      <td>1.0</td>\n",
       "      <td>NaN</td>\n",
       "      <td>23.0</td>\n",
       "      <td>831.0</td>\n",
       "      <td>0.027677</td>\n",
       "      <td>1259.0</td>\n",
       "      <td>1</td>\n",
       "    </tr>\n",
       "    <tr>\n",
       "      <th>680</th>\n",
       "      <td>680</td>\n",
       "      <td>1</td>\n",
       "      <td>3</td>\n",
       "      <td>18.0</td>\n",
       "      <td>single</td>\n",
       "      <td>277130004</td>\n",
       "      <td>3</td>\n",
       "      <td>2771300</td>\n",
       "      <td>4.0</td>\n",
       "      <td>2771300</td>\n",
       "      <td>...</td>\n",
       "      <td>0.0</td>\n",
       "      <td>0.0</td>\n",
       "      <td>1.0</td>\n",
       "      <td>0.0</td>\n",
       "      <td>3.0</td>\n",
       "      <td>178.0</td>\n",
       "      <td>1050.0</td>\n",
       "      <td>0.169524</td>\n",
       "      <td>1964.0</td>\n",
       "      <td>1</td>\n",
       "    </tr>\n",
       "    <tr>\n",
       "      <th>932</th>\n",
       "      <td>932</td>\n",
       "      <td>1</td>\n",
       "      <td>3</td>\n",
       "      <td>22.0</td>\n",
       "      <td>single</td>\n",
       "      <td>003260004</td>\n",
       "      <td>3</td>\n",
       "      <td>0032600</td>\n",
       "      <td>4.0</td>\n",
       "      <td>0032600</td>\n",
       "      <td>...</td>\n",
       "      <td>1.0</td>\n",
       "      <td>0.0</td>\n",
       "      <td>1.0</td>\n",
       "      <td>1.0</td>\n",
       "      <td>3.0</td>\n",
       "      <td>301.0</td>\n",
       "      <td>1454.0</td>\n",
       "      <td>0.207015</td>\n",
       "      <td>2627.0</td>\n",
       "      <td>1</td>\n",
       "    </tr>\n",
       "    <tr>\n",
       "      <th>5639</th>\n",
       "      <td>5639</td>\n",
       "      <td>0</td>\n",
       "      <td>3</td>\n",
       "      <td>23.0</td>\n",
       "      <td>single</td>\n",
       "      <td>088040004</td>\n",
       "      <td>3</td>\n",
       "      <td>0880400</td>\n",
       "      <td>4.0</td>\n",
       "      <td></td>\n",
       "      <td>...</td>\n",
       "      <td>1.0</td>\n",
       "      <td>1.0</td>\n",
       "      <td>0.0</td>\n",
       "      <td>0.0</td>\n",
       "      <td>4.0</td>\n",
       "      <td>61.0</td>\n",
       "      <td>820.0</td>\n",
       "      <td>0.074390</td>\n",
       "      <td>1242.0</td>\n",
       "      <td>0</td>\n",
       "    </tr>\n",
       "  </tbody>\n",
       "</table>\n",
       "<p>5 rows × 92 columns</p>\n",
       "</div>"
      ],
      "text/plain": [
       "      index  sex respondent   age   marstat    pidlink ar02b   hhid07  pid07  \\\n",
       "1452   1452    0          3  21.0    single  105080008     3  1050800    8.0   \n",
       "6309   6309    1          3  24.0  divorced  229230005     3  2292300    5.0   \n",
       "680     680    1          3  18.0    single  277130004     3  2771300    4.0   \n",
       "932     932    1          3  22.0    single  003260004     3  0032600    4.0   \n",
       "5639   5639    0          3  23.0    single  088040004     3  0880400    4.0   \n",
       "\n",
       "       hhid00  ...  pm24e  pm24f  pm24g  pm24h  educ     pt      ak  \\\n",
       "1452  1050800  ...    1.0    0.0    0.0    0.0   4.0  473.0  2653.0   \n",
       "6309           ...    0.0    0.0    0.0    1.0   NaN   23.0   831.0   \n",
       "680   2771300  ...    0.0    0.0    1.0    0.0   3.0  178.0  1050.0   \n",
       "932   0032600  ...    1.0    0.0    1.0    1.0   3.0  301.0  1454.0   \n",
       "5639           ...    1.0    1.0    0.0    0.0   4.0   61.0   820.0   \n",
       "\n",
       "      unemployment_rate  sample  parent_Working  \n",
       "1452           0.178289  4306.0               0  \n",
       "6309           0.027677  1259.0               1  \n",
       "680            0.169524  1964.0               1  \n",
       "932            0.207015  2627.0               1  \n",
       "5639           0.074390  1242.0               0  \n",
       "\n",
       "[5 rows x 92 columns]"
      ]
     },
     "execution_count": 2,
     "metadata": {},
     "output_type": "execute_result"
    }
   ],
   "source": [
    "data = pd.read_stata(\"dataraw_thesis_redi.dta\")\n",
    "data.sample(5)"
   ]
  },
  {
   "cell_type": "code",
   "execution_count": 3,
   "metadata": {},
   "outputs": [
    {
     "data": {
      "text/plain": [
       "(9348, 92)"
      ]
     },
     "execution_count": 3,
     "metadata": {},
     "output_type": "execute_result"
    }
   ],
   "source": [
    "data.shape"
   ]
  },
  {
   "cell_type": "markdown",
   "metadata": {},
   "source": [
    "### Adjusting nominal"
   ]
  },
  {
   "cell_type": "code",
   "execution_count": 4,
   "metadata": {},
   "outputs": [],
   "source": [
    "data[\"asset_t\"] = data[[\"A_hr1type_t\", \"E_hr1type_t\", \"F_hr1type_t\"]].sum(axis=1)\n",
    "data[\"asset_t1\"] = data[[\"A_hr1type_t1\", \"E_hr1type_t1\", \"F_hr1type_t1\"]].sum(axis=1)"
   ]
  },
  {
   "cell_type": "code",
   "execution_count": 5,
   "metadata": {},
   "outputs": [],
   "source": [
    "for i in [\"pce_t1\", \"asset_t1\"]:\n",
    "    data[i] = data[i] / (data[\"IHK_t1\"] /100)\n",
    "for i in [\"pce_t\", \"asset_t\"]:\n",
    "    data[i] = data[i] / (data[\"IHK\"] / 100)"
   ]
  },
  {
   "cell_type": "code",
   "execution_count": 6,
   "metadata": {},
   "outputs": [],
   "source": [
    "data[\"desil_pce_t\"] = pd.qcut(data.pce_t, q=10, labels=[\"1\", \"2\", \"3\", \"4\", \"5\", \"6\", \"7\", \"8\", \"9\", \"10\"])\n",
    "data[\"desil_asset_t\"] = pd.qcut(data.asset_t, q=10, labels=[\"1\", \"2\", \"3\", \"4\", \"5\", \"6\", \"7\", \"8\", \"9\", \"10\"])\n",
    "\n",
    "data[\"desil_pce_t1\"] = pd.qcut(data.pce_t1, q=10, labels=[\"1\", \"2\", \"3\", \"4\", \"5\", \"6\", \"7\", \"8\", \"9\", \"10\"])\n",
    "data[\"desil_asset_t1\"] = pd.qcut(data.asset_t1, q=10, labels=[\"1\", \"2\", \"3\", \"4\", \"5\", \"6\", \"7\", \"8\", \"9\", \"10\"])\n",
    "\n",
    "data[\"quart_pce_t\"] =pd.qcut(data.pce_t, q=4, labels=[\"1\", \"2\", \"3\", \"4\"])\n",
    "data[\"quart_asset_t\"] =pd.qcut(data.asset_t, q=4, labels=[\"1\", \"2\", \"3\", \"4\"])\n",
    "\n",
    "data[\"quart_pce_t1\"] =pd.qcut(data.pce_t1, q=4, labels=[\"1\", \"2\", \"3\", \"4\"])\n",
    "data[\"quart_asset_t1\"] =pd.qcut(data.asset_t1, q=4, labels=[\"1\", \"2\", \"3\", \"4\"])"
   ]
  },
  {
   "cell_type": "code",
   "execution_count": 7,
   "metadata": {},
   "outputs": [],
   "source": [
    "data[\"asset_t_percap\"] = data.asset_t / data[\"hhsize\"]\n",
    "data[\"asset_t1_percap\"] = data.asset_t1 / data[\"hhsize\"]"
   ]
  },
  {
   "cell_type": "code",
   "execution_count": 8,
   "metadata": {},
   "outputs": [],
   "source": [
    "def tk01(data):\n",
    "    if data == 95:\n",
    "        return 5\n",
    "    elif data == 2:\n",
    "        return 3\n",
    "    elif data == 3:\n",
    "        return 2\n",
    "    else:\n",
    "        return data"
   ]
  },
  {
   "cell_type": "code",
   "execution_count": 9,
   "metadata": {},
   "outputs": [],
   "source": [
    "data.tk01 = data.tk01.apply(lambda x: tk01(x)) #the ordered"
   ]
  },
  {
   "cell_type": "code",
   "execution_count": 10,
   "metadata": {},
   "outputs": [],
   "source": [
    "def age(data):\n",
    "    if data <= 16:\n",
    "        return 1\n",
    "    elif data <= 18:\n",
    "        return 2\n",
    "    elif data <= 20:\n",
    "        return 3\n",
    "    elif data <= 22:\n",
    "        return 4\n",
    "    else:\n",
    "        return 5"
   ]
  },
  {
   "cell_type": "code",
   "execution_count": 11,
   "metadata": {},
   "outputs": [],
   "source": [
    "data[\"agegr\"] = data[\"age\"].apply(lambda x: age(x))"
   ]
  },
  {
   "cell_type": "code",
   "execution_count": 12,
   "metadata": {},
   "outputs": [],
   "source": [
    "def hhsize(data):\n",
    "    if data <= 4:\n",
    "        return 0\n",
    "    elif data <= 8:\n",
    "        return 1\n",
    "    else:\n",
    "        return 2"
   ]
  },
  {
   "cell_type": "code",
   "execution_count": 13,
   "metadata": {},
   "outputs": [],
   "source": [
    "data[\"hhsizegg\"] = data[\"hhsize\"].apply(lambda x: hhsize(x))"
   ]
  },
  {
   "cell_type": "code",
   "execution_count": 14,
   "metadata": {},
   "outputs": [
    {
     "name": "stdout",
     "output_type": "stream",
     "text": [
      "95 index True\n",
      "95 tk16h True\n",
      "95 dl06 True\n",
      "95 us06 True\n"
     ]
    }
   ],
   "source": [
    "for i in data.columns:\n",
    "    if 95 in (data[i].unique()):\n",
    "        print (95, i, True)\n",
    "    elif \"95\" in (data[i].unique()):\n",
    "        print (\"95\", i, True)"
   ]
  },
  {
   "cell_type": "code",
   "execution_count": 15,
   "metadata": {},
   "outputs": [],
   "source": [
    "data.tk16h = data.tk16h.apply(lambda x: np.nan if x in [95, 99] else x)"
   ]
  },
  {
   "cell_type": "code",
   "execution_count": 16,
   "metadata": {},
   "outputs": [
    {
     "data": {
      "text/plain": [
       "(9348, 108)"
      ]
     },
     "execution_count": 16,
     "metadata": {},
     "output_type": "execute_result"
    }
   ],
   "source": [
    "# for t-1\n",
    "ihk = pd.read_csv(\"C:/Users/Redata/Downloads/cpi indonesia after modelling 2000 - 2016 (511 cities inflation).csv\")\n",
    "ihk = ihk[(ihk[\"year\"] == 2014) & (ihk[\"jenis\"] == \"Umum\")][[\"kabid14\", \"jawa\"]]\n",
    "\n",
    "data = pd.merge(data, ihk, left_on=\"kabid\", right_on=\"kabid14\", how=\"left\").drop_duplicates()\n",
    "data.shape"
   ]
  },
  {
   "cell_type": "code",
   "execution_count": 17,
   "metadata": {},
   "outputs": [],
   "source": [
    "#convert value 8 and 9 which mean dont know to missing\n",
    "data[\"sw01\"] = data[\"sw01\"].apply(lambda x: np.nan if x in [8, 9] else x)\n",
    "data[\"sw03b\"] = data[\"sw03b\"].apply(lambda x: np.nan if x in [8, 9] else x)\n",
    "\n",
    "#convert value 7 which mean refuse answer relogious rate to missing\n",
    "data[\"tr11\"] = data[\"tr11\"].apply(lambda x: np.nan if x == 7 else x)"
   ]
  },
  {
   "cell_type": "markdown",
   "metadata": {},
   "source": [
    "## Handle Missing Values\n",
    "---\n",
    "At first to understand, it doesn’t exist a good way to deal with missing data. Different solutions exist for data imputation which however depends on the kind of problem. Many data are missing because several reason such as the response was out of range, questionable, or not applicable; or respondent refused to answer or didn’t know. So, missing data have several types. First step, we should distinguish between missing at random and not random because of maybe interviewer error. Several methode that can be used for single Imputation, like listwise deletion, central tendency (mean/median/mode), Hot-Cold Deck, nor Regression. ***However, values found in single imputation might be biased by the specific values in the current data set, and not represent the total values of the full population***. This problem can be reduuce with multiple imputation. It metode has a lot of advantages over traditional single imputation methods. Multiple Imputation is an imputation method that works with the assumption that the missing data are missing at Random. The algorithm works by running multiple models and each missing value is modeled conditionally depending on the observed values."
   ]
  },
  {
   "cell_type": "code",
   "execution_count": 18,
   "metadata": {},
   "outputs": [
    {
     "data": {
      "image/png": "[encoded data removed]",
      "text/plain": [
       "<Figure size 1800x720 with 2 Axes>"
      ]
     },
     "metadata": {
      "needs_background": "light"
     },
     "output_type": "display_data"
    }
   ],
   "source": [
    "missingdata = data.columns[data.isnull().any()].tolist()\n",
    "msno.matrix(data[missingdata]);"
   ]
  },
  {
   "cell_type": "code",
   "execution_count": 19,
   "metadata": {
    "scrolled": false
   },
   "outputs": [
    {
     "name": "stdout",
     "output_type": "stream",
     "text": [
      "Percenage of missing data in pid07 equal to 0.038510911424903725\n",
      "Percenage of missing data in pid00 equal to 0.5483525887890458\n",
      "Percenage of missing data in tk16h equal to 0.22657252888318358\n",
      "Percenage of missing data in pid14 equal to 0.4797817715019255\n",
      "Percenage of missing data in hh_age equal to 0.06974753958065896\n",
      "Percenage of missing data in sw01 equal to 0.055947796320068466\n",
      "Percenage of missing data in sw03b equal to 0.0561617458279846\n",
      "Percenage of missing data in kk01 equal to 0.02973898160034232\n",
      "Percenage of missing data in kk02a equal to 0.030915703893881045\n",
      "Percenage of missing data in kk02c equal to 0.02973898160034232\n",
      "Percenage of missing data in dl2type equal to 0.07113821138211382\n",
      "Percenage of missing data in dl16j equal to 0.07220795892169447\n",
      "Percenage of missing data in dl16ja equal to 0.07167308515190415\n",
      "Percenage of missing data in dl06 equal to 0.07113821138211382\n",
      "Percenage of missing data in dl07 equal to 0.07113821138211382\n",
      "Percenage of missing data in dl05b equal to 0.07113821138211382\n",
      "Percenage of missing data in us06 equal to 0.06311510483525888\n",
      "Percenage of missing data in us04 equal to 0.061510483525887893\n",
      "Percenage of missing data in test equal to 0.028562259306803596\n",
      "Percenage of missing data in tr06 equal to 0.05412922550278134\n",
      "Percenage of missing data in tr11 equal to 0.05477107402652974\n",
      "Percenage of missing data in educ equal to 0.07113821138211382\n",
      "Percenage of missing data in pt equal to 0.0026743688489516476\n",
      "Percenage of missing data in ak equal to 0.0026743688489516476\n",
      "Percenage of missing data in unemployment_rate equal to 0.0026743688489516476\n",
      "Percenage of missing data in sample equal to 0.0026743688489516476\n",
      "Percenage of missing data in kabid14 equal to 0.06311510483525888\n",
      "Percenage of missing data in jawa equal to 0.06311510483525888\n"
     ]
    }
   ],
   "source": [
    "for i in data.columns:\n",
    "    if data[i].isnull().sum() > 0:\n",
    "        print (f\"Percenage of missing data in {i} equal to\", data[i].isnull().sum()/len(data))"
   ]
  },
  {
   "cell_type": "code",
   "execution_count": 20,
   "metadata": {},
   "outputs": [],
   "source": [
    "from sklearn.ensemble import RandomForestClassifier\n",
    "from sklearn.ensemble import RandomForestRegressor\n",
    "from sklearn.model_selection import cross_val_score\n",
    "from sklearn import metrics\n",
    "from sklearn.model_selection import GridSearchCV"
   ]
  },
  {
   "cell_type": "code",
   "execution_count": 21,
   "metadata": {},
   "outputs": [],
   "source": [
    "#create new a random forest model\n",
    "random_forest = RandomForestClassifier(random_state=101 , \n",
    "                                      min_samples_split=25, min_samples_leaf=5,\n",
    "                                      bootstrap=True, n_estimators=500)\n",
    "\n",
    "param_grid = { \n",
    "    'bootstrap': [True],\n",
    "    'min_samples_leaf': [5, 6, 7, 8, 9, 10],\n",
    "    'min_samples_split': [20, 25, 30, 35],\n",
    "    'n_estimators': [300, 400, 500, 600]\n",
    "}\n",
    "\n",
    "#use gridsearch to test all values for n_neighbors\n",
    "#randomf_gscv = GridSearchCV(estimator=random_forest, param_grid=param_grid, cv= 6)"
   ]
  },
  {
   "cell_type": "code",
   "execution_count": 22,
   "metadata": {},
   "outputs": [],
   "source": [
    "train_data = data.copy()"
   ]
  },
  {
   "cell_type": "code",
   "execution_count": 23,
   "metadata": {
    "scrolled": true
   },
   "outputs": [
    {
     "data": {
      "text/plain": [
       "3.0    4517\n",
       "4.0    2305\n",
       "2.0    1403\n",
       "NaN     523\n",
       "1.0     383\n",
       "5.0     188\n",
       "6.0      29\n",
       "Name: sw01, dtype: int64"
      ]
     },
     "execution_count": 23,
     "metadata": {},
     "output_type": "execute_result"
    }
   ],
   "source": [
    "train_data.sw01.value_counts(dropna=False)"
   ]
  },
  {
   "cell_type": "markdown",
   "metadata": {},
   "source": [
    "## Categorical"
   ]
  },
  {
   "cell_type": "code",
   "execution_count": 24,
   "metadata": {},
   "outputs": [
    {
     "name": "stdout",
     "output_type": "stream",
     "text": [
      "Score of model in  sw01 is 0.6662889518413597\n",
      "Score of model in  sw03b is 0.7057690128074351\n",
      "Score of model in  kk01 is 0.6952590959206174\n",
      "Score of model in  kk02c is 0.6930540242557883\n",
      "Score of model in  educ is 0.7354600944374065\n",
      "Score of model in  dl07 is 0.6872048831049177\n",
      "Score of model in  dl05b is 0.8446389496717724\n",
      "Score of model in  tk16h is 0.7881051175656985\n",
      "Score of model in  dl16j is 0.5566701256773896\n",
      "Score of model in  kk02a is 0.6437796666298709\n",
      "Score of model in  tr06 is 0.7810450124406243\n",
      "Score of model in  tr11 is 0.7187641466727026\n",
      "Score of model in  jawa is 1.0\n",
      "Wall time: 7min 31s\n"
     ]
    }
   ],
   "source": [
    "%%time\n",
    "\n",
    "#fit model to data\n",
    "col_to_impute = [\"sw01\", \"sw03b\", \"kk01\", \"kk02c\", \"educ\", \"dl07\", \"dl05b\", \n",
    "                 \"tk16h\", \"dl16j\", \"kk02a\", \"tr06\", \"tr11\", \"jawa\"]\n",
    "for i in col_to_impute:\n",
    "    df = train_data[train_data[i].notnull()]\n",
    "    df1 = train_data[train_data[i].isnull()]\n",
    "    list_independent = [\"pce_t\", \"A_hr1type_t\", \"E_hr1type_t\", \"F_hr1type_t\",  \"age\", \"sex\", \"kabid\", \"married\", \"year\"]\n",
    "    X = df[list_independent] #independent variable to predict\n",
    "    y = df[i]\n",
    "    random_forest.fit(X, y)\n",
    "    #predict\n",
    "    X_test = df1[list_independent]\n",
    "    df1[i] = random_forest.predict(X_test)\n",
    "    train_data = pd.concat([df, df1])\n",
    "    #X_r = dataset[list_independent]\n",
    "    #y_r = dataset[i]\n",
    "    random_forest.fit(X, y)\n",
    "    y_arbit = random_forest.predict(X)\n",
    "    print (\"Score of model in \", i, \"is\", metrics.accuracy_score(y, y_arbit))"
   ]
  },
  {
   "cell_type": "markdown",
   "metadata": {},
   "source": [
    "## Continuous"
   ]
  },
  {
   "cell_type": "code",
   "execution_count": 25,
   "metadata": {},
   "outputs": [
    {
     "name": "stdout",
     "output_type": "stream",
     "text": [
      "Score of model in  test is 0.6495211488380085\n",
      "Score of model in  us06 is 0.6464978945560546\n",
      "Score of model in  us04 is 0.6702892994103753\n",
      "Score of model in  unemployment_rate is 0.9967381166619573\n",
      "Score of model in  pt is 0.9987592809914129\n",
      "Score of model in  ak is 0.9982530151216054\n",
      "Score of model in  sample is 0.9987054973739591\n",
      "Score of model in  hh_age is 0.6486917716291735\n"
     ]
    }
   ],
   "source": [
    "random_forest_1 = RandomForestRegressor(random_state=100 , \n",
    "                                      min_samples_split=10, min_samples_leaf=2,\n",
    "                                      bootstrap=True, n_estimators=500)\n",
    "\n",
    "col_to_impute = [\"test\", \"us06\", \"us04\", \"unemployment_rate\", \"pt\", \"ak\", \"sample\", \"hh_age\"]\n",
    "for i in col_to_impute:\n",
    "    df = train_data[train_data[i].notnull()]\n",
    "    df1 = train_data[train_data[i].isnull()]\n",
    "    list_independent = [\"pce_t\", \"A_hr1type_t\", \"E_hr1type_t\", \"F_hr1type_t\", \"age\", \"sex\", \"kabid\", \"married\", \"year\"]\n",
    "    X = df[list_independent] #independent variable to predict\n",
    "    y = df[i]\n",
    "    random_forest_1.fit(X, y)\n",
    "    #predict\n",
    "    X_test = df1[list_independent]\n",
    "    df1[i] = np.round(random_forest_1.predict(X_test))\n",
    "    train_data = pd.concat([df, df1])\n",
    "    print (\"Score of model in \", i, \"is\", random_forest_1.score(X, y))"
   ]
  },
  {
   "cell_type": "code",
   "execution_count": 26,
   "metadata": {},
   "outputs": [
    {
     "name": "stdout",
     "output_type": "stream",
     "text": [
      "Percenage of missing data in pid07 equal to 0.038510911424903725\n",
      "Percenage of missing data in pid00 equal to 0.5483525887890458\n",
      "Percenage of missing data in pid14 equal to 0.4797817715019255\n",
      "Percenage of missing data in dl2type equal to 0.07113821138211382\n",
      "Percenage of missing data in dl16ja equal to 0.07167308515190415\n",
      "Percenage of missing data in dl06 equal to 0.07113821138211382\n",
      "Percenage of missing data in kabid14 equal to 0.06311510483525888\n"
     ]
    }
   ],
   "source": [
    "for i in train_data.columns:\n",
    "    if train_data[i].isnull().sum() > 0:\n",
    "        print (f\"Percenage of missing data in {i} equal to\", train_data[i].isnull().sum()/len(train_data))"
   ]
  },
  {
   "cell_type": "markdown",
   "metadata": {},
   "source": [
    "|variable|description|\n",
    "|---|---|\n",
    "|tk01| main acivity|\n",
    "|---|---|\n",
    "|dl02 | Can read an bahasa|\n",
    "|dl03| Can write an bahasa  |\n",
    "|dl06| highest education attainment|\n",
    "|dl05a| first age entered elementary school|\n",
    "|dl11d| gratuated?|\n",
    "|dl11f| year of graduated OR dropout|\n",
    "|---|---|\n",
    "|si21a | IDR 1,000,000 today or IDR 1,000,000 in 1 year|\n",
    "|si21b | IDR 1,000,000 today or IDR 3,000,000 in 1 year|\n",
    "|si22b | IDR 1,000,000 today or IDR 4,000,000 in 5 years|\n",
    "|---|---|\n",
    "|sw00| overall subjective welfare right now|\n",
    "|sw01| subjective economic status|\n",
    "|sw03b| subjective household condition|\n",
    "|---|---|\n",
    "|tr06 | How safe do you consider this village?|\n",
    "|tr11 | How religious are you?|\n",
    "|---|---|\n",
    "|km01a | Have you ever had (tobacco habit)?|\n",
    "|kk01| subjective overall health condition|\n",
    "|kk02a| days missed at primary activity last month|\n",
    "|kk02c| Compared health 12 months ago|\n",
    "|---|---|\n",
    "|ar02b| relation with Head Household|\n",
    "|sc21x| migration history|\n",
    "|pm24 | Did you vote in the most recent election|"
   ]
  },
  {
   "cell_type": "code",
   "execution_count": 27,
   "metadata": {},
   "outputs": [
    {
     "data": {
      "image/png": "[encoded data removed]",
      "text/plain": [
       "<Figure size 648x360 with 2 Axes>"
      ]
     },
     "metadata": {
      "needs_background": "light"
     },
     "output_type": "display_data"
    }
   ],
   "source": [
    "plt.figure(figsize=(9, 5))\n",
    "plt.subplot(1,2,1)\n",
    "sns.heatmap(data.isnull(), cbar=False)\n",
    "plt.title(\"Before Imutation\", size=15)\n",
    "plt.subplot(1,2,2)\n",
    "sns.heatmap(train_data.isnull(), cbar=False)\n",
    "plt.title(\"After Imutation\", size=15)\n",
    "plt.tight_layout()"
   ]
  },
  {
   "cell_type": "markdown",
   "metadata": {},
   "source": [
    "## Transform\n",
    "---"
   ]
  },
  {
   "cell_type": "markdown",
   "metadata": {},
   "source": [
    "### Made year of schooling"
   ]
  },
  {
   "cell_type": "code",
   "execution_count": 28,
   "metadata": {},
   "outputs": [],
   "source": [
    "# make year of schooling based on indonesian education system\n",
    "def year_of_schooling(data):\n",
    "    if data == 1:\n",
    "        return 6\n",
    "    elif data == 2:\n",
    "        return 9\n",
    "    elif data == 3:\n",
    "        return 12\n",
    "    elif data == 4:\n",
    "        return 16\n",
    "    else:\n",
    "        return np.nan\n",
    "\n",
    "train_data[\"educ\"] = train_data[\"educ\"].apply(lambda x: year_of_schooling(x))"
   ]
  },
  {
   "cell_type": "code",
   "execution_count": 29,
   "metadata": {},
   "outputs": [],
   "source": [
    "a = train_data[train_data[\"dl07\"] == 7]\n",
    "b = train_data[train_data[\"dl07\"] != 7]"
   ]
  },
  {
   "cell_type": "code",
   "execution_count": 30,
   "metadata": {},
   "outputs": [],
   "source": [
    "#limitation >> dropout in highest grade equal to graduated\n",
    "# and droput in lowest grade equal to never attain the education\n",
    "\n",
    "def sdd(data):\n",
    "    if data == 0:\n",
    "        return 6\n",
    "    elif data == 1:\n",
    "        return 5\n",
    "    elif data == 2:\n",
    "        return 4\n",
    "    elif data == 3:\n",
    "        return 3\n",
    "    elif data == 4:\n",
    "        return 2\n",
    "    elif data == 5:\n",
    "        return 1\n",
    "    else: \n",
    "        return 0\n",
    "    \n",
    "sd = b[b[\"educ\"] == 6]\n",
    "sd[\"grade\"] = sd[\"dl07\"].apply(lambda x: sdd(x))\n",
    "sd[\"educ\"] = sd[\"educ\"] - sd[\"grade\"]"
   ]
  },
  {
   "cell_type": "code",
   "execution_count": 31,
   "metadata": {},
   "outputs": [],
   "source": [
    "def high_school(data):\n",
    "    if data == 0:\n",
    "        return 3\n",
    "    elif data == 1:\n",
    "        return 2\n",
    "    elif data == 2:\n",
    "        return 1\n",
    "    else: \n",
    "        return 0\n",
    "    \n",
    "smp = b[b[\"educ\"] == 9]\n",
    "smp[\"grade\"] = (smp[\"dl07\"].apply(lambda x: high_school(x)))\n",
    "smp[\"educ\"] = smp[\"educ\"] - smp[\"grade\"]\n",
    "\n",
    "sma = b[b[\"educ\"] == 12]\n",
    "sma[\"grade\"] = (sma[\"dl07\"].apply(lambda x: high_school(x)))\n",
    "sma[\"educ\"] = sma[\"educ\"] - sma[\"grade\"]"
   ]
  },
  {
   "cell_type": "code",
   "execution_count": 32,
   "metadata": {},
   "outputs": [],
   "source": [
    "def college(data):\n",
    "    if data == 0:\n",
    "        return 4\n",
    "    elif data == 1:\n",
    "        return 3\n",
    "    elif data == 2:\n",
    "        return 2\n",
    "    elif data == 3:\n",
    "        return 1\n",
    "    else: \n",
    "        return 0\n",
    "    \n",
    "kuliah = b[b[\"educ\"] == 16]\n",
    "kuliah[\"grade\"] = kuliah[\"dl07\"].apply(lambda x: college(x))\n",
    "kuliah[\"educ\"] = kuliah[\"educ\"] - kuliah[\"grade\"]"
   ]
  },
  {
   "cell_type": "code",
   "execution_count": 33,
   "metadata": {},
   "outputs": [
    {
     "data": {
      "text/html": [
       "<div>\n",
       "<style scoped>\n",
       "    .dataframe tbody tr th:only-of-type {\n",
       "        vertical-align: middle;\n",
       "    }\n",
       "\n",
       "    .dataframe tbody tr th {\n",
       "        vertical-align: top;\n",
       "    }\n",
       "\n",
       "    .dataframe thead th {\n",
       "        text-align: right;\n",
       "    }\n",
       "</style>\n",
       "<table border=\"1\" class=\"dataframe\">\n",
       "  <thead>\n",
       "    <tr style=\"text-align: right;\">\n",
       "      <th></th>\n",
       "      <th>index</th>\n",
       "      <th>sex</th>\n",
       "      <th>respondent</th>\n",
       "      <th>age</th>\n",
       "      <th>marstat</th>\n",
       "      <th>pidlink</th>\n",
       "      <th>ar02b</th>\n",
       "      <th>hhid07</th>\n",
       "      <th>pid07</th>\n",
       "      <th>hhid00</th>\n",
       "      <th>...</th>\n",
       "      <th>quart_asset_t</th>\n",
       "      <th>quart_pce_t1</th>\n",
       "      <th>quart_asset_t1</th>\n",
       "      <th>asset_t_percap</th>\n",
       "      <th>asset_t1_percap</th>\n",
       "      <th>agegr</th>\n",
       "      <th>hhsizegg</th>\n",
       "      <th>kabid14</th>\n",
       "      <th>jawa</th>\n",
       "      <th>grade</th>\n",
       "    </tr>\n",
       "  </thead>\n",
       "  <tbody>\n",
       "    <tr>\n",
       "      <th>1938</th>\n",
       "      <td>1915</td>\n",
       "      <td>0</td>\n",
       "      <td>3</td>\n",
       "      <td>20.0</td>\n",
       "      <td>single</td>\n",
       "      <td>201020003</td>\n",
       "      <td>3</td>\n",
       "      <td>2010200</td>\n",
       "      <td>3.0</td>\n",
       "      <td>2010200</td>\n",
       "      <td>...</td>\n",
       "      <td>2</td>\n",
       "      <td>1</td>\n",
       "      <td>1</td>\n",
       "      <td>2.398492e+07</td>\n",
       "      <td>6.868410e+06</td>\n",
       "      <td>3</td>\n",
       "      <td>0</td>\n",
       "      <td>3402.0</td>\n",
       "      <td>1.0</td>\n",
       "      <td>6.0</td>\n",
       "    </tr>\n",
       "    <tr>\n",
       "      <th>8790</th>\n",
       "      <td>8600</td>\n",
       "      <td>0</td>\n",
       "      <td>3</td>\n",
       "      <td>17.0</td>\n",
       "      <td>single</td>\n",
       "      <td>275150004</td>\n",
       "      <td>3</td>\n",
       "      <td>2751500</td>\n",
       "      <td>4.0</td>\n",
       "      <td></td>\n",
       "      <td>...</td>\n",
       "      <td>1</td>\n",
       "      <td>2</td>\n",
       "      <td>2</td>\n",
       "      <td>5.641297e+06</td>\n",
       "      <td>6.735220e+06</td>\n",
       "      <td>2</td>\n",
       "      <td>1</td>\n",
       "      <td>5108.0</td>\n",
       "      <td>0.0</td>\n",
       "      <td>1.0</td>\n",
       "    </tr>\n",
       "    <tr>\n",
       "      <th>6112</th>\n",
       "      <td>5991</td>\n",
       "      <td>0</td>\n",
       "      <td>3</td>\n",
       "      <td>18.0</td>\n",
       "      <td>single</td>\n",
       "      <td>162153105</td>\n",
       "      <td>3</td>\n",
       "      <td>1621531</td>\n",
       "      <td>5.0</td>\n",
       "      <td></td>\n",
       "      <td>...</td>\n",
       "      <td>2</td>\n",
       "      <td>1</td>\n",
       "      <td>4</td>\n",
       "      <td>6.635043e+06</td>\n",
       "      <td>1.161152e+07</td>\n",
       "      <td>2</td>\n",
       "      <td>1</td>\n",
       "      <td>3303.0</td>\n",
       "      <td>1.0</td>\n",
       "      <td>NaN</td>\n",
       "    </tr>\n",
       "    <tr>\n",
       "      <th>9564</th>\n",
       "      <td>9338</td>\n",
       "      <td>0</td>\n",
       "      <td>3</td>\n",
       "      <td>24.0</td>\n",
       "      <td>married</td>\n",
       "      <td>311180011</td>\n",
       "      <td>10</td>\n",
       "      <td>3111800</td>\n",
       "      <td>NaN</td>\n",
       "      <td></td>\n",
       "      <td>...</td>\n",
       "      <td>4</td>\n",
       "      <td>4</td>\n",
       "      <td>4</td>\n",
       "      <td>7.670096e+07</td>\n",
       "      <td>1.695718e+07</td>\n",
       "      <td>5</td>\n",
       "      <td>1</td>\n",
       "      <td>7310.0</td>\n",
       "      <td>0.0</td>\n",
       "      <td>1.0</td>\n",
       "    </tr>\n",
       "    <tr>\n",
       "      <th>637</th>\n",
       "      <td>629</td>\n",
       "      <td>1</td>\n",
       "      <td>3</td>\n",
       "      <td>16.0</td>\n",
       "      <td>single</td>\n",
       "      <td>209160006</td>\n",
       "      <td>3</td>\n",
       "      <td>2091600</td>\n",
       "      <td>6.0</td>\n",
       "      <td>2091600</td>\n",
       "      <td>...</td>\n",
       "      <td>3</td>\n",
       "      <td>1</td>\n",
       "      <td>1</td>\n",
       "      <td>2.623733e+07</td>\n",
       "      <td>4.222556e+06</td>\n",
       "      <td>1</td>\n",
       "      <td>0</td>\n",
       "      <td>3403.0</td>\n",
       "      <td>1.0</td>\n",
       "      <td>2.0</td>\n",
       "    </tr>\n",
       "    <tr>\n",
       "      <th>6369</th>\n",
       "      <td>6247</td>\n",
       "      <td>1</td>\n",
       "      <td>3</td>\n",
       "      <td>24.0</td>\n",
       "      <td>single</td>\n",
       "      <td>207090005</td>\n",
       "      <td>3</td>\n",
       "      <td>2070900</td>\n",
       "      <td>5.0</td>\n",
       "      <td></td>\n",
       "      <td>...</td>\n",
       "      <td>4</td>\n",
       "      <td>4</td>\n",
       "      <td>3</td>\n",
       "      <td>2.709332e+07</td>\n",
       "      <td>1.157467e+07</td>\n",
       "      <td>5</td>\n",
       "      <td>1</td>\n",
       "      <td>3403.0</td>\n",
       "      <td>1.0</td>\n",
       "      <td>NaN</td>\n",
       "    </tr>\n",
       "    <tr>\n",
       "      <th>5520</th>\n",
       "      <td>5403</td>\n",
       "      <td>1</td>\n",
       "      <td>3</td>\n",
       "      <td>15.0</td>\n",
       "      <td>single</td>\n",
       "      <td>036203103</td>\n",
       "      <td>3</td>\n",
       "      <td>0362031</td>\n",
       "      <td>3.0</td>\n",
       "      <td></td>\n",
       "      <td>...</td>\n",
       "      <td>3</td>\n",
       "      <td>4</td>\n",
       "      <td>4</td>\n",
       "      <td>1.825861e+07</td>\n",
       "      <td>1.322751e+07</td>\n",
       "      <td>1</td>\n",
       "      <td>1</td>\n",
       "      <td>1374.0</td>\n",
       "      <td>0.0</td>\n",
       "      <td>2.0</td>\n",
       "    </tr>\n",
       "    <tr>\n",
       "      <th>2100</th>\n",
       "      <td>2077</td>\n",
       "      <td>0</td>\n",
       "      <td>3</td>\n",
       "      <td>24.0</td>\n",
       "      <td>single</td>\n",
       "      <td>239020004</td>\n",
       "      <td>3</td>\n",
       "      <td>2390200</td>\n",
       "      <td>4.0</td>\n",
       "      <td>2390200</td>\n",
       "      <td>...</td>\n",
       "      <td>4</td>\n",
       "      <td>2</td>\n",
       "      <td>2</td>\n",
       "      <td>3.513847e+07</td>\n",
       "      <td>8.799228e+06</td>\n",
       "      <td>5</td>\n",
       "      <td>0</td>\n",
       "      <td>3516.0</td>\n",
       "      <td>1.0</td>\n",
       "      <td>NaN</td>\n",
       "    </tr>\n",
       "    <tr>\n",
       "      <th>3929</th>\n",
       "      <td>3868</td>\n",
       "      <td>1</td>\n",
       "      <td>3</td>\n",
       "      <td>18.0</td>\n",
       "      <td>single</td>\n",
       "      <td>273130004</td>\n",
       "      <td>3</td>\n",
       "      <td>2731300</td>\n",
       "      <td>4.0</td>\n",
       "      <td>2731300</td>\n",
       "      <td>...</td>\n",
       "      <td>4</td>\n",
       "      <td>3</td>\n",
       "      <td>4</td>\n",
       "      <td>2.570694e+07</td>\n",
       "      <td>1.388264e+07</td>\n",
       "      <td>2</td>\n",
       "      <td>1</td>\n",
       "      <td>5108.0</td>\n",
       "      <td>0.0</td>\n",
       "      <td>1.0</td>\n",
       "    </tr>\n",
       "    <tr>\n",
       "      <th>6538</th>\n",
       "      <td>6416</td>\n",
       "      <td>1</td>\n",
       "      <td>3</td>\n",
       "      <td>22.0</td>\n",
       "      <td>single</td>\n",
       "      <td>252150003</td>\n",
       "      <td>3</td>\n",
       "      <td>2521500</td>\n",
       "      <td>3.0</td>\n",
       "      <td></td>\n",
       "      <td>...</td>\n",
       "      <td>4</td>\n",
       "      <td>3</td>\n",
       "      <td>3</td>\n",
       "      <td>4.576509e+07</td>\n",
       "      <td>1.160210e+07</td>\n",
       "      <td>4</td>\n",
       "      <td>0</td>\n",
       "      <td>3528.0</td>\n",
       "      <td>1.0</td>\n",
       "      <td>NaN</td>\n",
       "    </tr>\n",
       "  </tbody>\n",
       "</table>\n",
       "<p>10 rows × 109 columns</p>\n",
       "</div>"
      ],
      "text/plain": [
       "      index  sex respondent   age  marstat    pidlink ar02b   hhid07  pid07  \\\n",
       "1938   1915    0          3  20.0   single  201020003     3  2010200    3.0   \n",
       "8790   8600    0          3  17.0   single  275150004     3  2751500    4.0   \n",
       "6112   5991    0          3  18.0   single  162153105     3  1621531    5.0   \n",
       "9564   9338    0          3  24.0  married  311180011    10  3111800    NaN   \n",
       "637     629    1          3  16.0   single  209160006     3  2091600    6.0   \n",
       "6369   6247    1          3  24.0   single  207090005     3  2070900    5.0   \n",
       "5520   5403    1          3  15.0   single  036203103     3  0362031    3.0   \n",
       "2100   2077    0          3  24.0   single  239020004     3  2390200    4.0   \n",
       "3929   3868    1          3  18.0   single  273130004     3  2731300    4.0   \n",
       "6538   6416    1          3  22.0   single  252150003     3  2521500    3.0   \n",
       "\n",
       "       hhid00  ...  quart_asset_t  quart_pce_t1  quart_asset_t1  \\\n",
       "1938  2010200  ...              2             1               1   \n",
       "8790           ...              1             2               2   \n",
       "6112           ...              2             1               4   \n",
       "9564           ...              4             4               4   \n",
       "637   2091600  ...              3             1               1   \n",
       "6369           ...              4             4               3   \n",
       "5520           ...              3             4               4   \n",
       "2100  2390200  ...              4             2               2   \n",
       "3929  2731300  ...              4             3               4   \n",
       "6538           ...              4             3               3   \n",
       "\n",
       "      asset_t_percap  asset_t1_percap  agegr  hhsizegg  kabid14  jawa  grade  \n",
       "1938    2.398492e+07     6.868410e+06      3         0   3402.0   1.0    6.0  \n",
       "8790    5.641297e+06     6.735220e+06      2         1   5108.0   0.0    1.0  \n",
       "6112    6.635043e+06     1.161152e+07      2         1   3303.0   1.0    NaN  \n",
       "9564    7.670096e+07     1.695718e+07      5         1   7310.0   0.0    1.0  \n",
       "637     2.623733e+07     4.222556e+06      1         0   3403.0   1.0    2.0  \n",
       "6369    2.709332e+07     1.157467e+07      5         1   3403.0   1.0    NaN  \n",
       "5520    1.825861e+07     1.322751e+07      1         1   1374.0   0.0    2.0  \n",
       "2100    3.513847e+07     8.799228e+06      5         0   3516.0   1.0    NaN  \n",
       "3929    2.570694e+07     1.388264e+07      2         1   5108.0   0.0    1.0  \n",
       "6538    4.576509e+07     1.160210e+07      4         0   3528.0   1.0    NaN  \n",
       "\n",
       "[10 rows x 109 columns]"
      ]
     },
     "execution_count": 33,
     "metadata": {},
     "output_type": "execute_result"
    }
   ],
   "source": [
    "df = pd.concat([a, sd, smp, sma, kuliah])\n",
    "df.sample(10)"
   ]
  },
  {
   "cell_type": "markdown",
   "metadata": {},
   "source": [
    "### Storing dataset"
   ]
  },
  {
   "cell_type": "code",
   "execution_count": 34,
   "metadata": {},
   "outputs": [],
   "source": [
    "#Make body mass index variable\n",
    "df[\"bmi\"] = df[\"us06\"] / ((df[\"us04\"]/100)**2)\n",
    "\n",
    "#Labor force participation rate\n",
    "df[\"lfpr\"] = df[\"ak\"] / df[\"sample\"]"
   ]
  },
  {
   "cell_type": "code",
   "execution_count": 35,
   "metadata": {},
   "outputs": [],
   "source": [
    "df.to_stata(\"data_thesis_redi.dta\")"
   ]
  },
  {
   "cell_type": "code",
   "execution_count": 36,
   "metadata": {},
   "outputs": [
    {
     "data": {
      "text/plain": [
       "(9348, 111)"
      ]
     },
     "execution_count": 36,
     "metadata": {},
     "output_type": "execute_result"
    }
   ],
   "source": [
    "df.shape"
   ]
  },
  {
   "cell_type": "code",
   "execution_count": null,
   "metadata": {},
   "outputs": [],
   "source": []
  }
 ],
 "metadata": {
  "kernelspec": {
   "display_name": "Python 3",
   "language": "python",
   "name": "python3"
  },
  "language_info": {
   "codemirror_mode": {
    "name": "ipython",
    "version": 3
   },
   "file_extension": ".py",
   "mimetype": "text/x-python",
   "name": "python",
   "nbconvert_exporter": "python",
   "pygments_lexer": "ipython3",
   "version": "3.7.3"
  }
 },
 "nbformat": 4,
 "nbformat_minor": 4
}
