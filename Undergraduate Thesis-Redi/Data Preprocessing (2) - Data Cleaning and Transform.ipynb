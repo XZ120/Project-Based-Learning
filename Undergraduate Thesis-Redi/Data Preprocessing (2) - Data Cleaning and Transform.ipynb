{
 "cells": [
  {
   "cell_type": "code",
   "execution_count": 1,
   "metadata": {},
   "outputs": [],
   "source": [
    "import pandas as pd\n",
    "import numpy as np\n",
    "import matplotlib.pyplot as plt\n",
    "import seaborn as sns\n",
    "import missingno as msno\n",
    "import warnings\n",
    "warnings.simplefilter(action=\"ignore\")\n",
    "\n",
    "from statsmodels.stats.weightstats import ttest_ind\n",
    "from scipy import stats\n",
    "from sklearn import metrics\n",
    "\n",
    "%matplotlib inline"
   ]
  },
  {
   "cell_type": "markdown",
   "metadata": {},
   "source": [
    "## Load and Check Primary Dataset \n",
    "---"
   ]
  },
  {
   "cell_type": "code",
   "execution_count": 2,
   "metadata": {
    "scrolled": false
   },
   "outputs": [
    {
     "data": {
      "text/html": [
       "<div>\n",
       "<style scoped>\n",
       "    .dataframe tbody tr th:only-of-type {\n",
       "        vertical-align: middle;\n",
       "    }\n",
       "\n",
       "    .dataframe tbody tr th {\n",
       "        vertical-align: top;\n",
       "    }\n",
       "\n",
       "    .dataframe thead th {\n",
       "        text-align: right;\n",
       "    }\n",
       "</style>\n",
       "<table border=\"1\" class=\"dataframe\">\n",
       "  <thead>\n",
       "    <tr style=\"text-align: right;\">\n",
       "      <th></th>\n",
       "      <th>sex</th>\n",
       "      <th>respondent</th>\n",
       "      <th>age</th>\n",
       "      <th>marstat</th>\n",
       "      <th>pidlink</th>\n",
       "      <th>ar02b</th>\n",
       "      <th>hhid07</th>\n",
       "      <th>pid07</th>\n",
       "      <th>hhid00</th>\n",
       "      <th>pid00</th>\n",
       "      <th>...</th>\n",
       "      <th>E_hr1type_t1</th>\n",
       "      <th>F_hr1type_t1</th>\n",
       "      <th>IHK_t1</th>\n",
       "      <th>IHK</th>\n",
       "      <th>nmkab2014</th>\n",
       "      <th>hhid14</th>\n",
       "      <th>pid14</th>\n",
       "      <th>_2014</th>\n",
       "      <th>married</th>\n",
       "      <th>single</th>\n",
       "    </tr>\n",
       "  </thead>\n",
       "  <tbody>\n",
       "    <tr>\n",
       "      <th>2198</th>\n",
       "      <td>1</td>\n",
       "      <td>3</td>\n",
       "      <td>22.0</td>\n",
       "      <td>single</td>\n",
       "      <td>160050008</td>\n",
       "      <td>13</td>\n",
       "      <td>1600500</td>\n",
       "      <td>8.0</td>\n",
       "      <td>1600511</td>\n",
       "      <td>3.0</td>\n",
       "      <td>...</td>\n",
       "      <td>2.14</td>\n",
       "      <td>1531571.26</td>\n",
       "      <td>43.50</td>\n",
       "      <td>79.37</td>\n",
       "      <td>CILACAP</td>\n",
       "      <td></td>\n",
       "      <td>NaN</td>\n",
       "      <td>0</td>\n",
       "      <td>0</td>\n",
       "      <td>1</td>\n",
       "    </tr>\n",
       "    <tr>\n",
       "      <th>5627</th>\n",
       "      <td>1</td>\n",
       "      <td>3</td>\n",
       "      <td>24.0</td>\n",
       "      <td>single</td>\n",
       "      <td>065150007</td>\n",
       "      <td>3</td>\n",
       "      <td>0651500</td>\n",
       "      <td>7.0</td>\n",
       "      <td></td>\n",
       "      <td>NaN</td>\n",
       "      <td>...</td>\n",
       "      <td>12000001.00</td>\n",
       "      <td>2000001.00</td>\n",
       "      <td>72.13</td>\n",
       "      <td>116.78</td>\n",
       "      <td>BANDAR LAMPUNG</td>\n",
       "      <td>0651500</td>\n",
       "      <td>7.0</td>\n",
       "      <td>1</td>\n",
       "      <td>0</td>\n",
       "      <td>1</td>\n",
       "    </tr>\n",
       "    <tr>\n",
       "      <th>8048</th>\n",
       "      <td>1</td>\n",
       "      <td>3</td>\n",
       "      <td>15.0</td>\n",
       "      <td>single</td>\n",
       "      <td>240303105</td>\n",
       "      <td>3</td>\n",
       "      <td>2403031</td>\n",
       "      <td>5.0</td>\n",
       "      <td></td>\n",
       "      <td>NaN</td>\n",
       "      <td>...</td>\n",
       "      <td>55600001.00</td>\n",
       "      <td>5500001.00</td>\n",
       "      <td>79.57</td>\n",
       "      <td>118.99</td>\n",
       "      <td>JOMBANG</td>\n",
       "      <td>2403031</td>\n",
       "      <td>5.0</td>\n",
       "      <td>1</td>\n",
       "      <td>0</td>\n",
       "      <td>1</td>\n",
       "    </tr>\n",
       "    <tr>\n",
       "      <th>6361</th>\n",
       "      <td>0</td>\n",
       "      <td>3</td>\n",
       "      <td>17.0</td>\n",
       "      <td>single</td>\n",
       "      <td>123120005</td>\n",
       "      <td>3</td>\n",
       "      <td>1231200</td>\n",
       "      <td>5.0</td>\n",
       "      <td></td>\n",
       "      <td>NaN</td>\n",
       "      <td>...</td>\n",
       "      <td>7000001.00</td>\n",
       "      <td>2000001.00</td>\n",
       "      <td>76.20</td>\n",
       "      <td>117.13</td>\n",
       "      <td>CIREBON</td>\n",
       "      <td>1231200</td>\n",
       "      <td>5.0</td>\n",
       "      <td>1</td>\n",
       "      <td>0</td>\n",
       "      <td>1</td>\n",
       "    </tr>\n",
       "    <tr>\n",
       "      <th>3636</th>\n",
       "      <td>1</td>\n",
       "      <td>3</td>\n",
       "      <td>16.0</td>\n",
       "      <td>single</td>\n",
       "      <td>272010003</td>\n",
       "      <td>3</td>\n",
       "      <td>2720100</td>\n",
       "      <td>3.0</td>\n",
       "      <td>2720100</td>\n",
       "      <td>3.0</td>\n",
       "      <td>...</td>\n",
       "      <td>1.00</td>\n",
       "      <td>1500001.00</td>\n",
       "      <td>44.42</td>\n",
       "      <td>77.80</td>\n",
       "      <td>KARANG ASEM</td>\n",
       "      <td></td>\n",
       "      <td>NaN</td>\n",
       "      <td>0</td>\n",
       "      <td>0</td>\n",
       "      <td>1</td>\n",
       "    </tr>\n",
       "  </tbody>\n",
       "</table>\n",
       "<p>5 rows × 48 columns</p>\n",
       "</div>"
      ],
      "text/plain": [
       "      sex respondent   age marstat    pidlink ar02b   hhid07  pid07   hhid00  \\\n",
       "2198    1          3  22.0  single  160050008    13  1600500    8.0  1600511   \n",
       "5627    1          3  24.0  single  065150007     3  0651500    7.0            \n",
       "8048    1          3  15.0  single  240303105     3  2403031    5.0            \n",
       "6361    0          3  17.0  single  123120005     3  1231200    5.0            \n",
       "3636    1          3  16.0  single  272010003     3  2720100    3.0  2720100   \n",
       "\n",
       "      pid00  ...  E_hr1type_t1  F_hr1type_t1  IHK_t1     IHK       nmkab2014  \\\n",
       "2198    3.0  ...          2.14    1531571.26   43.50   79.37         CILACAP   \n",
       "5627    NaN  ...   12000001.00    2000001.00   72.13  116.78  BANDAR LAMPUNG   \n",
       "8048    NaN  ...   55600001.00    5500001.00   79.57  118.99         JOMBANG   \n",
       "6361    NaN  ...    7000001.00    2000001.00   76.20  117.13         CIREBON   \n",
       "3636    3.0  ...          1.00    1500001.00   44.42   77.80     KARANG ASEM   \n",
       "\n",
       "       hhid14  pid14  _2014  married  single  \n",
       "2198             NaN      0        0       1  \n",
       "5627  0651500    7.0      1        0       1  \n",
       "8048  2403031    5.0      1        0       1  \n",
       "6361  1231200    5.0      1        0       1  \n",
       "3636             NaN      0        0       1  \n",
       "\n",
       "[5 rows x 48 columns]"
      ]
     },
     "execution_count": 2,
     "metadata": {},
     "output_type": "execute_result"
    }
   ],
   "source": [
    "df = pd.read_stata(\"maindataset_thesis.dta\")\n",
    "df = df.query('tk01 != 5 and tk01 != 7') # exclude the retired\n",
    "df.sample(5)"
   ]
  },
  {
   "cell_type": "code",
   "execution_count": 3,
   "metadata": {},
   "outputs": [
    {
     "data": {
      "text/plain": [
       "(9348, 48)"
      ]
     },
     "execution_count": 3,
     "metadata": {},
     "output_type": "execute_result"
    }
   ],
   "source": [
    "df.shape"
   ]
  },
  {
   "cell_type": "code",
   "execution_count": 4,
   "metadata": {},
   "outputs": [
    {
     "data": {
      "text/plain": [
       "Index(['sex', 'respondent', 'age', 'marstat', 'pidlink', 'ar02b', 'hhid07',\n",
       "       'pid07', 'hhid00', 'pid00', 'tk02', 'tk03', 'tk04', 'tk01a', 'tk01b',\n",
       "       'tk01c', 'tk01d', 'tk16d', 'tk16i', 'tk01', 'tk25a9x', 'tk16h', 'main',\n",
       "       'NEET', 'NEET__just_other_', 'year', 'nonfood_t1', 'food_t1', 'pce_t1',\n",
       "       'kabid_t1', 'nonfood_t', 'food_t', 'pce_t', 'kabid', 'A_hr1type_t',\n",
       "       'E_hr1type_t', 'F_hr1type_t', 'A_hr1type_t1', 'E_hr1type_t1',\n",
       "       'F_hr1type_t1', 'IHK_t1', 'IHK', 'nmkab2014', 'hhid14', 'pid14',\n",
       "       '_2014', 'married', 'single'],\n",
       "      dtype='object')"
      ]
     },
     "execution_count": 4,
     "metadata": {},
     "output_type": "execute_result"
    }
   ],
   "source": [
    "df.columns"
   ]
  },
  {
   "cell_type": "code",
   "execution_count": 5,
   "metadata": {},
   "outputs": [
    {
     "data": {
      "text/plain": [
       "3     3963\n",
       "1     3197\n",
       "4     1217\n",
       "95     544\n",
       "2      427\n",
       "Name: tk01, dtype: int64"
      ]
     },
     "execution_count": 5,
     "metadata": {},
     "output_type": "execute_result"
    }
   ],
   "source": [
    "df[\"tk01\"].value_counts()"
   ]
  },
  {
   "cell_type": "code",
   "execution_count": 6,
   "metadata": {},
   "outputs": [],
   "source": [
    "a = df.query('tk01 == 4 & NEET == 1')\n",
    "b = df.query('tk01 == 95 & NEET == 1')\n",
    "c = df.query('tk01 == 2 & NEET == 1')\n",
    "d = df.query('tk01 == 1 & NEET == 0')\n",
    "e = df.query('tk01 == 3 & NEET == 0')"
   ]
  },
  {
   "cell_type": "code",
   "execution_count": 7,
   "metadata": {},
   "outputs": [],
   "source": [
    "df1 = pd.concat([a,b,c,d,e])\n",
    "z = df1.index.tolist()"
   ]
  },
  {
   "cell_type": "code",
   "execution_count": 8,
   "metadata": {},
   "outputs": [],
   "source": [
    "#make sure that main activity in line with our NEET definition\n",
    "w = []\n",
    "for i in df.index.tolist():\n",
    "    if i not in z: # check wheter the main activity should be NEET but they have more than one activity which non-NEET\n",
    "        w.append(i)"
   ]
  },
  {
   "cell_type": "code",
   "execution_count": 9,
   "metadata": {
    "scrolled": true
   },
   "outputs": [
    {
     "name": "stdout",
     "output_type": "stream",
     "text": [
      "There are 561 samples based on main activity ALONE should classify to NEET yet actually not--based on series of activity\n"
     ]
    }
   ],
   "source": [
    "df2 = df.loc[w]\n",
    "df2[\"tk01\"] = df2[[\"tk01a\", \"tk02\", \"tk03\", \"tk04\"]].sum(axis=1).apply(lambda x: 3 if x == 0 else 1) # \"tk01b\", \"tk01c\", \"tk01d\", \"tk25a9x\"\n",
    "\n",
    "# I can't control the mutually exclusiveness within this group\n",
    "print (\"There are\", len(df2), \"samples based on main activity ALONE should classify to NEET yet actually not--based on series of activity\") "
   ]
  },
  {
   "cell_type": "code",
   "execution_count": 10,
   "metadata": {
    "scrolled": true
   },
   "outputs": [
    {
     "data": {
      "text/html": [
       "<div>\n",
       "<style scoped>\n",
       "    .dataframe tbody tr th:only-of-type {\n",
       "        vertical-align: middle;\n",
       "    }\n",
       "\n",
       "    .dataframe tbody tr th {\n",
       "        vertical-align: top;\n",
       "    }\n",
       "\n",
       "    .dataframe thead th {\n",
       "        text-align: right;\n",
       "    }\n",
       "</style>\n",
       "<table border=\"1\" class=\"dataframe\">\n",
       "  <thead>\n",
       "    <tr style=\"text-align: right;\">\n",
       "      <th></th>\n",
       "      <th>sex</th>\n",
       "      <th>respondent</th>\n",
       "      <th>age</th>\n",
       "      <th>marstat</th>\n",
       "      <th>pidlink</th>\n",
       "      <th>ar02b</th>\n",
       "      <th>hhid07</th>\n",
       "      <th>pid07</th>\n",
       "      <th>hhid00</th>\n",
       "      <th>pid00</th>\n",
       "      <th>...</th>\n",
       "      <th>E_hr1type_t1</th>\n",
       "      <th>F_hr1type_t1</th>\n",
       "      <th>IHK_t1</th>\n",
       "      <th>IHK</th>\n",
       "      <th>nmkab2014</th>\n",
       "      <th>hhid14</th>\n",
       "      <th>pid14</th>\n",
       "      <th>_2014</th>\n",
       "      <th>married</th>\n",
       "      <th>single</th>\n",
       "    </tr>\n",
       "  </thead>\n",
       "  <tbody>\n",
       "    <tr>\n",
       "      <th>3628</th>\n",
       "      <td>1</td>\n",
       "      <td>3</td>\n",
       "      <td>22.0</td>\n",
       "      <td>married</td>\n",
       "      <td>271150009</td>\n",
       "      <td>3</td>\n",
       "      <td>2711531</td>\n",
       "      <td>4.0</td>\n",
       "      <td>2711531</td>\n",
       "      <td>4.0</td>\n",
       "      <td>...</td>\n",
       "      <td>1.0</td>\n",
       "      <td>200001.0</td>\n",
       "      <td>44.42</td>\n",
       "      <td>77.80</td>\n",
       "      <td>KARANG ASEM</td>\n",
       "      <td></td>\n",
       "      <td>NaN</td>\n",
       "      <td>0</td>\n",
       "      <td>1</td>\n",
       "      <td>0</td>\n",
       "    </tr>\n",
       "    <tr>\n",
       "      <th>3539</th>\n",
       "      <td>1</td>\n",
       "      <td>3</td>\n",
       "      <td>20.0</td>\n",
       "      <td>single</td>\n",
       "      <td>264100006</td>\n",
       "      <td>3</td>\n",
       "      <td>2641000</td>\n",
       "      <td>6.0</td>\n",
       "      <td>2641000</td>\n",
       "      <td>6.0</td>\n",
       "      <td>...</td>\n",
       "      <td>1.0</td>\n",
       "      <td>3500001.0</td>\n",
       "      <td>44.42</td>\n",
       "      <td>77.80</td>\n",
       "      <td>DENPASAR</td>\n",
       "      <td></td>\n",
       "      <td>NaN</td>\n",
       "      <td>0</td>\n",
       "      <td>0</td>\n",
       "      <td>1</td>\n",
       "    </tr>\n",
       "    <tr>\n",
       "      <th>8465</th>\n",
       "      <td>1</td>\n",
       "      <td>3</td>\n",
       "      <td>17.0</td>\n",
       "      <td>single</td>\n",
       "      <td>272260008</td>\n",
       "      <td>3</td>\n",
       "      <td>2722600</td>\n",
       "      <td>8.0</td>\n",
       "      <td></td>\n",
       "      <td>NaN</td>\n",
       "      <td>...</td>\n",
       "      <td>3.0</td>\n",
       "      <td>3.0</td>\n",
       "      <td>77.80</td>\n",
       "      <td>116.27</td>\n",
       "      <td>KARANG ASEM</td>\n",
       "      <td>2722600</td>\n",
       "      <td>8.0</td>\n",
       "      <td>1</td>\n",
       "      <td>0</td>\n",
       "      <td>1</td>\n",
       "    </tr>\n",
       "    <tr>\n",
       "      <th>3671</th>\n",
       "      <td>1</td>\n",
       "      <td>3</td>\n",
       "      <td>15.0</td>\n",
       "      <td>single</td>\n",
       "      <td>274080008</td>\n",
       "      <td>3</td>\n",
       "      <td>2740800</td>\n",
       "      <td>8.0</td>\n",
       "      <td>2740800</td>\n",
       "      <td>8.0</td>\n",
       "      <td>...</td>\n",
       "      <td>3.0</td>\n",
       "      <td>4500001.0</td>\n",
       "      <td>44.42</td>\n",
       "      <td>77.80</td>\n",
       "      <td>BULELENG</td>\n",
       "      <td></td>\n",
       "      <td>NaN</td>\n",
       "      <td>0</td>\n",
       "      <td>0</td>\n",
       "      <td>1</td>\n",
       "    </tr>\n",
       "    <tr>\n",
       "      <th>8193</th>\n",
       "      <td>0</td>\n",
       "      <td>3</td>\n",
       "      <td>17.0</td>\n",
       "      <td>married</td>\n",
       "      <td>251280008</td>\n",
       "      <td>3</td>\n",
       "      <td>2512800</td>\n",
       "      <td>8.0</td>\n",
       "      <td></td>\n",
       "      <td>NaN</td>\n",
       "      <td>...</td>\n",
       "      <td>3.0</td>\n",
       "      <td>700001.0</td>\n",
       "      <td>79.08</td>\n",
       "      <td>117.73</td>\n",
       "      <td>BANGKALAN</td>\n",
       "      <td>2512800</td>\n",
       "      <td>8.0</td>\n",
       "      <td>1</td>\n",
       "      <td>1</td>\n",
       "      <td>0</td>\n",
       "    </tr>\n",
       "  </tbody>\n",
       "</table>\n",
       "<p>5 rows × 48 columns</p>\n",
       "</div>"
      ],
      "text/plain": [
       "      sex respondent   age  marstat    pidlink ar02b   hhid07  pid07   hhid00  \\\n",
       "3628    1          3  22.0  married  271150009     3  2711531    4.0  2711531   \n",
       "3539    1          3  20.0   single  264100006     3  2641000    6.0  2641000   \n",
       "8465    1          3  17.0   single  272260008     3  2722600    8.0            \n",
       "3671    1          3  15.0   single  274080008     3  2740800    8.0  2740800   \n",
       "8193    0          3  17.0  married  251280008     3  2512800    8.0            \n",
       "\n",
       "      pid00  ...  E_hr1type_t1  F_hr1type_t1  IHK_t1     IHK    nmkab2014  \\\n",
       "3628    4.0  ...           1.0      200001.0   44.42   77.80  KARANG ASEM   \n",
       "3539    6.0  ...           1.0     3500001.0   44.42   77.80     DENPASAR   \n",
       "8465    NaN  ...           3.0           3.0   77.80  116.27  KARANG ASEM   \n",
       "3671    8.0  ...           3.0     4500001.0   44.42   77.80     BULELENG   \n",
       "8193    NaN  ...           3.0      700001.0   79.08  117.73    BANGKALAN   \n",
       "\n",
       "       hhid14  pid14  _2014  married  single  \n",
       "3628             NaN      0        1       0  \n",
       "3539             NaN      0        0       1  \n",
       "8465  2722600    8.0      1        0       1  \n",
       "3671             NaN      0        0       1  \n",
       "8193  2512800    8.0      1        1       0  \n",
       "\n",
       "[5 rows x 48 columns]"
      ]
     },
     "execution_count": 10,
     "metadata": {},
     "output_type": "execute_result"
    }
   ],
   "source": [
    "data = pd.concat([df1, df2])\n",
    "data.sample(5)"
   ]
  },
  {
   "cell_type": "markdown",
   "metadata": {},
   "source": [
    "## Gathering other control variables\n",
    "---"
   ]
  },
  {
   "cell_type": "markdown",
   "metadata": {},
   "source": [
    "### 2007"
   ]
  },
  {
   "cell_type": "code",
   "execution_count": 11,
   "metadata": {},
   "outputs": [],
   "source": [
    "path07 = \"C:/Users/Redata/Downloads/read/kemiskinan/hh2007/\"\n",
    "a = pd.read_stata(path07 + \"pce07nom.dta\")[[\"hhid07\", \"hhsize\"]]\n",
    "b = pd.read_stata(path07 + \"bk_sc.dta\")[[\"hhid07\", \"sc05\", \"sc21x\"]]\n",
    "c = pd.merge(a,b, left_on=\"hhid07\", right_on=\"hhid07\")\n",
    "e = pd.merge(data[data[\"year\"] == 2007], c, left_on=\"hhid07\", right_on=\"hhid07\", how=\"left\")"
   ]
  },
  {
   "cell_type": "code",
   "execution_count": 12,
   "metadata": {},
   "outputs": [],
   "source": [
    "sw = pd.read_stata(path07 +\"b3a_sw.dta\")[[\"pidlink\", \"sw01\", \"sw03b\"]]\n",
    "kk = pd.read_stata(path07 +\"b3b_kk1.dta\")[[\"pidlink\", \"kk01\", \"kk02a\", \"kk02c\"]]\n",
    "\n",
    "#education vairables\n",
    "educ1 = pd.read_stata(path07 +\"b3a_dl2.dta\")[[\"dl2type\", \"pidlink\", \"dl16j\", \"dl16ja\"]]\n",
    "educ1_t = pd.merge(educ1.groupby([\"pidlink\"], as_index=False)[\"dl2type\"].max(), \n",
    "         educ1, left_on=[\"pidlink\", \"dl2type\"], right_on=[\"pidlink\", \"dl2type\"])\n",
    "\n",
    "educ2 = pd.read_stata(path07 +\"b3a_dl1.dta\")[[\"pidlink\", \"dl06\", \"dl07\", \"dl05b\"]]\n",
    "\n",
    "educ = pd.merge(educ1_t, educ2, left_on=\"pidlink\", right_on=\"pidlink\")\n",
    "\n",
    "#the distance (in minutes) to school\n",
    "#convert to minutes\n",
    "educ.dl16ja = educ.dl16ja.apply(lambda x:60 if x == 2 else x) #change the a hour measurment\n",
    "educ[\"dl16j\"] = educ[\"dl16j\"] * educ[\"dl16ja\"]"
   ]
  },
  {
   "cell_type": "code",
   "execution_count": 13,
   "metadata": {},
   "outputs": [],
   "source": [
    "df = sw.copy()\n",
    "for i in [kk, educ]:\n",
    "    df = pd.merge(df, i, left_on=\"pidlink\", right_on=\"pidlink\")"
   ]
  },
  {
   "cell_type": "code",
   "execution_count": 14,
   "metadata": {},
   "outputs": [],
   "source": [
    "def educagg(data):\n",
    "    one = [2, 11, 90, 72] #primary school\n",
    "    two = [3, 4, 12, 73] #junior high school\n",
    "    three = [5, 6, 15, 74] #high school\n",
    "    four = [60, 61, 62, 63, 13] #college\n",
    "    if data in one:\n",
    "        return 1\n",
    "    elif data in two:\n",
    "        return 2\n",
    "    elif data in three:\n",
    "        return 3\n",
    "    elif data in four:\n",
    "        return 4\n",
    "    else:\n",
    "        return np.nan\n",
    "    \n",
    "df[\"educ\"] = df[\"dl06\"].apply(lambda x: educagg(x)) #aggregation\n",
    "df[\"educ\"] = df[\"educ\"].fillna(df[\"dl2type\"]) #fillna with another variable"
   ]
  },
  {
   "cell_type": "code",
   "execution_count": 15,
   "metadata": {},
   "outputs": [],
   "source": [
    "data2007 = pd.merge(e, df, left_on=\"pidlink\", right_on=\"pidlink\", how=\"left\")"
   ]
  },
  {
   "cell_type": "markdown",
   "metadata": {},
   "source": [
    "### 2014"
   ]
  },
  {
   "cell_type": "code",
   "execution_count": 16,
   "metadata": {},
   "outputs": [],
   "source": [
    "path14 = \"C:/Users/Redata/Downloads/read/kemiskinan/hh2014/\"\n",
    "r = pd.read_stata(path14 + \"pce14nom.dta\")[[\"hhid14\", \"hhsize\"]]\n",
    "s = pd.read_stata(path14 + \"bk_sc1.dta\")[[\"hhid14\", \"sc05\", \"sc21x\"]]\n",
    "t = pd.merge(r,s, left_on=\"hhid14\", right_on=\"hhid14\")\n",
    "u = pd.merge(data[data[\"year\"] == 2014], t, left_on=\"hhid14\", right_on=\"hhid14\", how=\"left\")"
   ]
  },
  {
   "cell_type": "code",
   "execution_count": 17,
   "metadata": {},
   "outputs": [],
   "source": [
    "sw = pd.read_stata(path14 +\"b3a_sw.dta\")[[\"pidlink\", \"sw01\", \"sw03b\"]]\n",
    "kk = pd.read_stata(path14 +\"b3b_kk1.dta\")[[\"pidlink\", \"kk01\", \"kk02a\", \"kk02c\"]]\n",
    "\n",
    "\n",
    "#education vairables\n",
    "educ1 = pd.read_stata(path14 +\"b3a_dl2.dta\")[[\"dl2type\", \"pidlink\", \"dl16j\", \"dl16ja\"]]\n",
    "educ1_t = pd.merge(educ1.groupby([\"pidlink\"], as_index=False)[\"dl2type\"].max(), \n",
    "         educ1, left_on=[\"pidlink\", \"dl2type\"], right_on=[\"pidlink\", \"dl2type\"])\n",
    "\n",
    "educ2 = pd.read_stata(path14 +\"b3a_dl1.dta\")[[\"pidlink\", \"dl06\", \"dl07\", \"dl05b\"]]\n",
    "\n",
    "educ = pd.merge(educ1_t, educ2, left_on=\"pidlink\", right_on=\"pidlink\")\n",
    "\n",
    "#the distance (in minutes) to school\n",
    "#convert to minutes\n",
    "educ.dl16ja = educ.dl16ja.astype(\"str\").str.extract(r'(\\d+)')[0].apply(lambda x: 0 if x != \"1\" else 1).astype(\"float\")\n",
    "educ.dl16ja = educ.dl16ja.apply(lambda x:60 if x == 2 else x) #change the a hour measurment\n",
    "educ[\"dl16j\"] = educ[\"dl16j\"].astype(\"float\") * educ[\"dl16ja\"]"
   ]
  },
  {
   "cell_type": "code",
   "execution_count": 18,
   "metadata": {},
   "outputs": [],
   "source": [
    "df = sw.copy()\n",
    "for i in [kk, educ]:\n",
    "    df = pd.merge(df, i, left_on=\"pidlink\", right_on=\"pidlink\")"
   ]
  },
  {
   "cell_type": "code",
   "execution_count": 19,
   "metadata": {},
   "outputs": [],
   "source": [
    "df[\"educ\"] = df[\"dl06\"].apply(lambda x: educagg(x)) #aggregation\n",
    "df[\"educ\"] = df[\"educ\"].fillna(df[\"dl2type\"]) #fillna with another variable"
   ]
  },
  {
   "cell_type": "code",
   "execution_count": 20,
   "metadata": {},
   "outputs": [],
   "source": [
    "data2014 = pd.merge(u, df, left_on=\"pidlink\", right_on=\"pidlink\", how=\"left\")"
   ]
  },
  {
   "cell_type": "markdown",
   "metadata": {},
   "source": [
    "## Concat both year"
   ]
  },
  {
   "cell_type": "code",
   "execution_count": 21,
   "metadata": {
    "scrolled": false
   },
   "outputs": [
    {
     "data": {
      "text/html": [
       "<div>\n",
       "<style scoped>\n",
       "    .dataframe tbody tr th:only-of-type {\n",
       "        vertical-align: middle;\n",
       "    }\n",
       "\n",
       "    .dataframe tbody tr th {\n",
       "        vertical-align: top;\n",
       "    }\n",
       "\n",
       "    .dataframe thead th {\n",
       "        text-align: right;\n",
       "    }\n",
       "</style>\n",
       "<table border=\"1\" class=\"dataframe\">\n",
       "  <thead>\n",
       "    <tr style=\"text-align: right;\">\n",
       "      <th></th>\n",
       "      <th>sex</th>\n",
       "      <th>respondent</th>\n",
       "      <th>age</th>\n",
       "      <th>marstat</th>\n",
       "      <th>pidlink</th>\n",
       "      <th>ar02b</th>\n",
       "      <th>hhid07</th>\n",
       "      <th>pid07</th>\n",
       "      <th>hhid00</th>\n",
       "      <th>pid00</th>\n",
       "      <th>...</th>\n",
       "      <th>kk01</th>\n",
       "      <th>kk02a</th>\n",
       "      <th>kk02c</th>\n",
       "      <th>dl2type</th>\n",
       "      <th>dl16j</th>\n",
       "      <th>dl16ja</th>\n",
       "      <th>dl06</th>\n",
       "      <th>dl07</th>\n",
       "      <th>dl05b</th>\n",
       "      <th>educ</th>\n",
       "    </tr>\n",
       "  </thead>\n",
       "  <tbody>\n",
       "    <tr>\n",
       "      <th>3497</th>\n",
       "      <td>1</td>\n",
       "      <td>3</td>\n",
       "      <td>16.0</td>\n",
       "      <td>single</td>\n",
       "      <td>180263103</td>\n",
       "      <td>3</td>\n",
       "      <td>1802600</td>\n",
       "      <td>5.0</td>\n",
       "      <td></td>\n",
       "      <td>NaN</td>\n",
       "      <td>...</td>\n",
       "      <td>1:Very healthy</td>\n",
       "      <td>0.0</td>\n",
       "      <td>3:About the same</td>\n",
       "      <td>3:Senior high</td>\n",
       "      <td>25.0</td>\n",
       "      <td>1.0</td>\n",
       "      <td>6:Senior high vocational</td>\n",
       "      <td>1</td>\n",
       "      <td>1:Yes</td>\n",
       "      <td>3:Senior high</td>\n",
       "    </tr>\n",
       "    <tr>\n",
       "      <th>946</th>\n",
       "      <td>1</td>\n",
       "      <td>3</td>\n",
       "      <td>16.0</td>\n",
       "      <td>single</td>\n",
       "      <td>005160006</td>\n",
       "      <td>3</td>\n",
       "      <td>0051600</td>\n",
       "      <td>6.0</td>\n",
       "      <td>0051600</td>\n",
       "      <td>6.0</td>\n",
       "      <td>...</td>\n",
       "      <td>1</td>\n",
       "      <td>0.0</td>\n",
       "      <td>2</td>\n",
       "      <td>2</td>\n",
       "      <td>10.0</td>\n",
       "      <td>1.0</td>\n",
       "      <td>3</td>\n",
       "      <td>7</td>\n",
       "      <td>3</td>\n",
       "      <td>2</td>\n",
       "    </tr>\n",
       "    <tr>\n",
       "      <th>3413</th>\n",
       "      <td>0</td>\n",
       "      <td>3</td>\n",
       "      <td>17.0</td>\n",
       "      <td>single</td>\n",
       "      <td>168070004</td>\n",
       "      <td>3</td>\n",
       "      <td>1680700</td>\n",
       "      <td>4.0</td>\n",
       "      <td></td>\n",
       "      <td>NaN</td>\n",
       "      <td>...</td>\n",
       "      <td>NaN</td>\n",
       "      <td>NaN</td>\n",
       "      <td>NaN</td>\n",
       "      <td>NaN</td>\n",
       "      <td>NaN</td>\n",
       "      <td>NaN</td>\n",
       "      <td>NaN</td>\n",
       "      <td>NaN</td>\n",
       "      <td>NaN</td>\n",
       "      <td>NaN</td>\n",
       "    </tr>\n",
       "    <tr>\n",
       "      <th>3919</th>\n",
       "      <td>1</td>\n",
       "      <td>3</td>\n",
       "      <td>18.0</td>\n",
       "      <td>single</td>\n",
       "      <td>280080005</td>\n",
       "      <td>3</td>\n",
       "      <td>2800800</td>\n",
       "      <td>5.0</td>\n",
       "      <td>2800800</td>\n",
       "      <td>5.0</td>\n",
       "      <td>...</td>\n",
       "      <td>2</td>\n",
       "      <td>0.0</td>\n",
       "      <td>3</td>\n",
       "      <td>3</td>\n",
       "      <td>15.0</td>\n",
       "      <td>1.0</td>\n",
       "      <td>5</td>\n",
       "      <td>2</td>\n",
       "      <td>1</td>\n",
       "      <td>3</td>\n",
       "    </tr>\n",
       "    <tr>\n",
       "      <th>4666</th>\n",
       "      <td>0</td>\n",
       "      <td>3</td>\n",
       "      <td>21.0</td>\n",
       "      <td>single</td>\n",
       "      <td>100120003</td>\n",
       "      <td>3</td>\n",
       "      <td>1001200</td>\n",
       "      <td>3.0</td>\n",
       "      <td></td>\n",
       "      <td>NaN</td>\n",
       "      <td>...</td>\n",
       "      <td>2:Somewhat healthy</td>\n",
       "      <td>2.0</td>\n",
       "      <td>3:About the same</td>\n",
       "      <td>4:D1</td>\n",
       "      <td>30.0</td>\n",
       "      <td>1.0</td>\n",
       "      <td>60:College (D1,D2,D3)</td>\n",
       "      <td>1</td>\n",
       "      <td>1:Yes</td>\n",
       "      <td>4:D1</td>\n",
       "    </tr>\n",
       "    <tr>\n",
       "      <th>4059</th>\n",
       "      <td>1</td>\n",
       "      <td>3</td>\n",
       "      <td>15.0</td>\n",
       "      <td>single</td>\n",
       "      <td>292020009</td>\n",
       "      <td>3</td>\n",
       "      <td>2920200</td>\n",
       "      <td>9.0</td>\n",
       "      <td>2920200</td>\n",
       "      <td>9.0</td>\n",
       "      <td>...</td>\n",
       "      <td>2</td>\n",
       "      <td>0.0</td>\n",
       "      <td>2</td>\n",
       "      <td>2</td>\n",
       "      <td>15.0</td>\n",
       "      <td>1.0</td>\n",
       "      <td>3</td>\n",
       "      <td>2</td>\n",
       "      <td>3</td>\n",
       "      <td>2</td>\n",
       "    </tr>\n",
       "    <tr>\n",
       "      <th>1408</th>\n",
       "      <td>1</td>\n",
       "      <td>3</td>\n",
       "      <td>19.0</td>\n",
       "      <td>single</td>\n",
       "      <td>141090008</td>\n",
       "      <td>3</td>\n",
       "      <td>1410900</td>\n",
       "      <td>8.0</td>\n",
       "      <td></td>\n",
       "      <td>NaN</td>\n",
       "      <td>...</td>\n",
       "      <td>1:Very healthy</td>\n",
       "      <td>0.0</td>\n",
       "      <td>3:About the same</td>\n",
       "      <td>3:Senior high</td>\n",
       "      <td>15.0</td>\n",
       "      <td>1.0</td>\n",
       "      <td>5:Senior high general</td>\n",
       "      <td>7:Graduated</td>\n",
       "      <td>3:No</td>\n",
       "      <td>3:Senior high</td>\n",
       "    </tr>\n",
       "    <tr>\n",
       "      <th>168</th>\n",
       "      <td>0</td>\n",
       "      <td>3</td>\n",
       "      <td>17.0</td>\n",
       "      <td>single</td>\n",
       "      <td>102170007</td>\n",
       "      <td>3</td>\n",
       "      <td>1021700</td>\n",
       "      <td>7.0</td>\n",
       "      <td>1021700</td>\n",
       "      <td>7.0</td>\n",
       "      <td>...</td>\n",
       "      <td>3</td>\n",
       "      <td>0.0</td>\n",
       "      <td>4</td>\n",
       "      <td>2</td>\n",
       "      <td>5.0</td>\n",
       "      <td>1.0</td>\n",
       "      <td>3</td>\n",
       "      <td>7</td>\n",
       "      <td>3</td>\n",
       "      <td>2</td>\n",
       "    </tr>\n",
       "    <tr>\n",
       "      <th>868</th>\n",
       "      <td>0</td>\n",
       "      <td>3</td>\n",
       "      <td>21.0</td>\n",
       "      <td>single</td>\n",
       "      <td>027300005</td>\n",
       "      <td>3</td>\n",
       "      <td>0273000</td>\n",
       "      <td>5.0</td>\n",
       "      <td></td>\n",
       "      <td>NaN</td>\n",
       "      <td>...</td>\n",
       "      <td>2:Somewhat healthy</td>\n",
       "      <td>0.0</td>\n",
       "      <td>2:Somewhat better now</td>\n",
       "      <td>3:Senior high</td>\n",
       "      <td>25.0</td>\n",
       "      <td>1.0</td>\n",
       "      <td>5:Senior high general</td>\n",
       "      <td>7:Graduated</td>\n",
       "      <td>3:No</td>\n",
       "      <td>3:Senior high</td>\n",
       "    </tr>\n",
       "    <tr>\n",
       "      <th>3461</th>\n",
       "      <td>0</td>\n",
       "      <td>3</td>\n",
       "      <td>15.0</td>\n",
       "      <td>single</td>\n",
       "      <td>176093103</td>\n",
       "      <td>3</td>\n",
       "      <td>1760931</td>\n",
       "      <td>3.0</td>\n",
       "      <td></td>\n",
       "      <td>NaN</td>\n",
       "      <td>...</td>\n",
       "      <td>1:Very healthy</td>\n",
       "      <td>0.0</td>\n",
       "      <td>3:About the same</td>\n",
       "      <td>3:Senior high</td>\n",
       "      <td>10.0</td>\n",
       "      <td>1.0</td>\n",
       "      <td>5:Senior high general</td>\n",
       "      <td>0:Did not complete first grade at that level</td>\n",
       "      <td>1:Yes</td>\n",
       "      <td>3:Senior high</td>\n",
       "    </tr>\n",
       "  </tbody>\n",
       "</table>\n",
       "<p>10 rows × 63 columns</p>\n",
       "</div>"
      ],
      "text/plain": [
       "      sex respondent   age marstat    pidlink ar02b   hhid07  pid07   hhid00  \\\n",
       "3497    1          3  16.0  single  180263103     3  1802600    5.0            \n",
       "946     1          3  16.0  single  005160006     3  0051600    6.0  0051600   \n",
       "3413    0          3  17.0  single  168070004     3  1680700    4.0            \n",
       "3919    1          3  18.0  single  280080005     3  2800800    5.0  2800800   \n",
       "4666    0          3  21.0  single  100120003     3  1001200    3.0            \n",
       "4059    1          3  15.0  single  292020009     3  2920200    9.0  2920200   \n",
       "1408    1          3  19.0  single  141090008     3  1410900    8.0            \n",
       "168     0          3  17.0  single  102170007     3  1021700    7.0  1021700   \n",
       "868     0          3  21.0  single  027300005     3  0273000    5.0            \n",
       "3461    0          3  15.0  single  176093103     3  1760931    3.0            \n",
       "\n",
       "      pid00  ...                kk01  kk02a                  kk02c  \\\n",
       "3497    NaN  ...      1:Very healthy    0.0       3:About the same   \n",
       "946     6.0  ...                   1    0.0                      2   \n",
       "3413    NaN  ...                 NaN    NaN                    NaN   \n",
       "3919    5.0  ...                   2    0.0                      3   \n",
       "4666    NaN  ...  2:Somewhat healthy    2.0       3:About the same   \n",
       "4059    9.0  ...                   2    0.0                      2   \n",
       "1408    NaN  ...      1:Very healthy    0.0       3:About the same   \n",
       "168     7.0  ...                   3    0.0                      4   \n",
       "868     NaN  ...  2:Somewhat healthy    0.0  2:Somewhat better now   \n",
       "3461    NaN  ...      1:Very healthy    0.0       3:About the same   \n",
       "\n",
       "            dl2type  dl16j  dl16ja                      dl06  \\\n",
       "3497  3:Senior high   25.0     1.0  6:Senior high vocational   \n",
       "946               2   10.0     1.0                         3   \n",
       "3413            NaN    NaN     NaN                       NaN   \n",
       "3919              3   15.0     1.0                         5   \n",
       "4666           4:D1   30.0     1.0     60:College (D1,D2,D3)   \n",
       "4059              2   15.0     1.0                         3   \n",
       "1408  3:Senior high   15.0     1.0     5:Senior high general   \n",
       "168               2    5.0     1.0                         3   \n",
       "868   3:Senior high   25.0     1.0     5:Senior high general   \n",
       "3461  3:Senior high   10.0     1.0     5:Senior high general   \n",
       "\n",
       "                                              dl07  dl05b           educ  \n",
       "3497                                             1  1:Yes  3:Senior high  \n",
       "946                                              7      3              2  \n",
       "3413                                           NaN    NaN            NaN  \n",
       "3919                                             2      1              3  \n",
       "4666                                             1  1:Yes           4:D1  \n",
       "4059                                             2      3              2  \n",
       "1408                                   7:Graduated   3:No  3:Senior high  \n",
       "168                                              7      3              2  \n",
       "868                                    7:Graduated   3:No  3:Senior high  \n",
       "3461  0:Did not complete first grade at that level  1:Yes  3:Senior high  \n",
       "\n",
       "[10 rows x 63 columns]"
      ]
     },
     "execution_count": 21,
     "metadata": {},
     "output_type": "execute_result"
    }
   ],
   "source": [
    "data = pd.concat([data2007, data2014])\n",
    "data[\"sc05\"] = data[\"sc05\"].astype(\"str\").str.extract(r'(\\d+)')[0].apply(lambda x: 0 if x != \"1\" else 1).astype(\"int\")\n",
    "\n",
    "\n",
    "data.sample(10)"
   ]
  },
  {
   "cell_type": "markdown",
   "metadata": {},
   "source": [
    "## Cleaning Data\n",
    "---"
   ]
  },
  {
   "cell_type": "code",
   "execution_count": 22,
   "metadata": {},
   "outputs": [],
   "source": [
    "col_to_clean = [\"educ\", \"dl05b\", \"dl07\", \"dl06\", \"dl2type\", \"kk02c\", \"kk01\", \"sw03b\", \"sw01\", \"sc21x\"]\n",
    "\n",
    "for i in col_to_clean:\n",
    "    data[i] = data[\"educ\"].astype(\"str\").str.extract(r'(\\d+)')[0].astype(\"float\")"
   ]
  },
  {
   "cell_type": "markdown",
   "metadata": {},
   "source": [
    "### Adjusting nominal"
   ]
  },
  {
   "cell_type": "code",
   "execution_count": 23,
   "metadata": {},
   "outputs": [],
   "source": [
    "data[\"asset_t\"] = data[[\"A_hr1type_t\", \"E_hr1type_t\", \"F_hr1type_t\"]].sum(axis=1)\n",
    "data[\"asset_t1\"] = data[[\"A_hr1type_t1\", \"E_hr1type_t1\", \"F_hr1type_t1\"]].sum(axis=1)"
   ]
  },
  {
   "cell_type": "code",
   "execution_count": 24,
   "metadata": {},
   "outputs": [],
   "source": [
    "for i in [\"pce_t1\", \"asset_t1\"]:\n",
    "    data[i] = data[i] / (data[\"IHK_t1\"] /100)\n",
    "for i in [\"pce_t\", \"asset_t\"]:\n",
    "    data[i] = data[i] / (data[\"IHK\"] / 100)"
   ]
  },
  {
   "cell_type": "code",
   "execution_count": 25,
   "metadata": {},
   "outputs": [],
   "source": [
    "data[\"desil_pce_t\"] = pd.qcut(data.pce_t, q=10, labels=[\"1\", \"2\", \"3\", \"4\", \"5\", \"6\", \"7\", \"8\", \"9\", \"10\"])\n",
    "data[\"desil_asset_t\"] = pd.qcut(data.asset_t, q=10, labels=[\"1\", \"2\", \"3\", \"4\", \"5\", \"6\", \"7\", \"8\", \"9\", \"10\"])\n",
    "\n",
    "data[\"desil_pce_t1\"] = pd.qcut(data.pce_t1, q=10, labels=[\"1\", \"2\", \"3\", \"4\", \"5\", \"6\", \"7\", \"8\", \"9\", \"10\"])\n",
    "data[\"desil_asset_t1\"] = pd.qcut(data.asset_t1, q=10, labels=[\"1\", \"2\", \"3\", \"4\", \"5\", \"6\", \"7\", \"8\", \"9\", \"10\"])\n",
    "\n",
    "data[\"quart_pce_t\"] =pd.qcut(data.pce_t, q=4, labels=[\"1\", \"2\", \"3\", \"4\"])\n",
    "data[\"quart_asset_t\"] =pd.qcut(data.asset_t, q=4, labels=[\"1\", \"2\", \"3\", \"4\"])\n",
    "\n",
    "data[\"quart_pce_t1\"] =pd.qcut(data.pce_t1, q=4, labels=[\"1\", \"2\", \"3\", \"4\"])\n",
    "data[\"quart_asset_t1\"] =pd.qcut(data.asset_t1, q=4, labels=[\"1\", \"2\", \"3\", \"4\"])"
   ]
  },
  {
   "cell_type": "code",
   "execution_count": 26,
   "metadata": {},
   "outputs": [],
   "source": [
    "data[\"asset_t_percap\"] = data.asset_t / data[\"hhsize\"]\n",
    "data[\"asset_t1_percap\"] = data.asset_t1 / data[\"hhsize\"]"
   ]
  },
  {
   "cell_type": "code",
   "execution_count": 27,
   "metadata": {},
   "outputs": [],
   "source": [
    "def tk01(data):\n",
    "    if data == 95:\n",
    "        return 5\n",
    "    elif data == 2:\n",
    "        return 3\n",
    "    elif data == 3:\n",
    "        return 2\n",
    "    else:\n",
    "        return data"
   ]
  },
  {
   "cell_type": "code",
   "execution_count": 28,
   "metadata": {},
   "outputs": [],
   "source": [
    "data.tk01 = data.tk01.apply(lambda x: tk01(x)) #the ordered"
   ]
  },
  {
   "cell_type": "code",
   "execution_count": 29,
   "metadata": {},
   "outputs": [],
   "source": [
    "def age(data):\n",
    "    if data <= 16:\n",
    "        return 1\n",
    "    elif data <= 18:\n",
    "        return 2\n",
    "    elif data <= 20:\n",
    "        return 3\n",
    "    elif data <= 22:\n",
    "        return 4\n",
    "    else:\n",
    "        return 5"
   ]
  },
  {
   "cell_type": "code",
   "execution_count": 30,
   "metadata": {},
   "outputs": [],
   "source": [
    "data[\"agegr\"] = data[\"age\"].apply(lambda x: age(x))"
   ]
  },
  {
   "cell_type": "code",
   "execution_count": 31,
   "metadata": {},
   "outputs": [],
   "source": [
    "def hhsize(data):\n",
    "    if data <= 4:\n",
    "        return 0\n",
    "    elif data <= 8:\n",
    "        return 1\n",
    "    else:\n",
    "        return 2"
   ]
  },
  {
   "cell_type": "code",
   "execution_count": 32,
   "metadata": {},
   "outputs": [],
   "source": [
    "data[\"hhsizegg\"] = data[\"hhsize\"].apply(lambda x: hhsize(x))"
   ]
  },
  {
   "cell_type": "markdown",
   "metadata": {},
   "source": [
    "## Handle Missing Values\n",
    "---\n",
    "At first to understand, it doesn’t exist a good way to deal with missing data. Different solutions exist for data imputation which however depends on the kind of problem. Many data are missing because several reason such as the response was out of range, questionable, or not applicable; or respondent refused to answer or didn’t know. So, missing data have several types. First step, we should distinguish between missing at random and not random because of maybe interviewer error. Several methode that can be used for single Imputation, like listwise deletion, central tendency (mean/median/mode), Hot-Cold Deck, nor Regression. ***However, values found in single imputation might be biased by the specific values in the current data set, and not represent the total values of the full population***. This problem can be reduuce with multiple imputation. It metode has a lot of advantages over traditional single imputation methods. Multiple Imputation is an imputation method that works with the assumption that the missing data are missing at Random. The algorithm works by running multiple models and each missing value is modeled conditionally depending on the observed values."
   ]
  },
  {
   "cell_type": "code",
   "execution_count": 33,
   "metadata": {},
   "outputs": [
    {
     "data": {
      "image/png": "[encoded data removed]",
      "text/plain": [
       "<Figure size 1800x720 with 2 Axes>"
      ]
     },
     "metadata": {
      "needs_background": "light"
     },
     "output_type": "display_data"
    }
   ],
   "source": [
    "missingdata = data.columns[data.isnull().any()].tolist()\n",
    "msno.matrix(data[missingdata]);"
   ]
  },
  {
   "cell_type": "code",
   "execution_count": 34,
   "metadata": {
    "scrolled": true
   },
   "outputs": [
    {
     "name": "stdout",
     "output_type": "stream",
     "text": [
      "Percenage of missing data in pid07 equal to 0.038510911424903725\n",
      "Percenage of missing data in pid00 equal to 0.5483525887890458\n",
      "Percenage of missing data in tk16h equal to 0.1735130509199829\n",
      "Percenage of missing data in pid14 equal to 0.4797817715019255\n",
      "Percenage of missing data in sc21x equal to 0.07317073170731707\n",
      "Percenage of missing data in sw01 equal to 0.07317073170731707\n",
      "Percenage of missing data in sw03b equal to 0.07317073170731707\n",
      "Percenage of missing data in kk01 equal to 0.07317073170731707\n",
      "Percenage of missing data in kk02a equal to 0.07381258023106547\n",
      "Percenage of missing data in kk02c equal to 0.07317073170731707\n",
      "Percenage of missing data in dl2type equal to 0.07317073170731707\n",
      "Percenage of missing data in dl16j equal to 0.07413350449293966\n",
      "Percenage of missing data in dl16ja equal to 0.0737056054771074\n",
      "Percenage of missing data in dl06 equal to 0.07317073170731707\n",
      "Percenage of missing data in dl07 equal to 0.07317073170731707\n",
      "Percenage of missing data in dl05b equal to 0.07317073170731707\n",
      "Percenage of missing data in educ equal to 0.07317073170731707\n"
     ]
    }
   ],
   "source": [
    "for i in data.columns:\n",
    "    if data[i].isnull().sum() > 0:\n",
    "        print (f\"Percenage of missing data in {i} equal to\", data[i].isnull().sum()/len(data))"
   ]
  },
  {
   "cell_type": "code",
   "execution_count": 35,
   "metadata": {},
   "outputs": [],
   "source": [
    "from sklearn.ensemble import RandomForestClassifier\n",
    "from sklearn.ensemble import RandomForestRegressor\n",
    "from sklearn.model_selection import cross_val_score\n",
    "from sklearn import metrics\n",
    "from sklearn.model_selection import GridSearchCV"
   ]
  },
  {
   "cell_type": "code",
   "execution_count": 36,
   "metadata": {},
   "outputs": [],
   "source": [
    "#create new a random forest model\n",
    "random_forest = RandomForestClassifier(random_state=101 , \n",
    "                                      min_samples_split=25, min_samples_leaf=5,\n",
    "                                      bootstrap=True, n_estimators=500)\n",
    "\n",
    "param_grid = { \n",
    "    'bootstrap': [True],\n",
    "    'min_samples_leaf': [5, 6, 7, 8, 9, 10],\n",
    "    'min_samples_split': [20, 25, 30, 35],\n",
    "    'n_estimators': [300, 400, 500, 600]\n",
    "}\n",
    "\n",
    "#use gridsearch to test all values for n_neighbors\n",
    "#randomf_gscv = GridSearchCV(estimator=random_forest, param_grid=param_grid, cv= 6)"
   ]
  },
  {
   "cell_type": "code",
   "execution_count": 37,
   "metadata": {},
   "outputs": [],
   "source": [
    "train_data = data.copy()"
   ]
  },
  {
   "cell_type": "code",
   "execution_count": 38,
   "metadata": {
    "scrolled": true
   },
   "outputs": [
    {
     "data": {
      "text/plain": [
       "3.0    4860\n",
       "2.0    1979\n",
       "4.0    1079\n",
       "1.0     746\n",
       "NaN     684\n",
       "Name: sw01, dtype: int64"
      ]
     },
     "execution_count": 38,
     "metadata": {},
     "output_type": "execute_result"
    }
   ],
   "source": [
    "train_data.sw01.value_counts(dropna=False)"
   ]
  },
  {
   "cell_type": "markdown",
   "metadata": {},
   "source": [
    "## Categorical"
   ]
  },
  {
   "cell_type": "code",
   "execution_count": 39,
   "metadata": {},
   "outputs": [
    {
     "name": "stdout",
     "output_type": "stream",
     "text": [
      "Score of model in  sw01 is 0.735803324099723\n",
      "Score of model in  sw03b is 0.735803324099723\n",
      "Score of model in  kk01 is 0.735803324099723\n",
      "Score of model in  kk02c is 0.735803324099723\n",
      "Score of model in  educ is 0.735803324099723\n",
      "Score of model in  dl07 is 0.735803324099723\n",
      "Score of model in  dl05b is 0.735803324099723\n",
      "Score of model in  sc21x is 0.735803324099723\n",
      "Wall time: 3min 58s\n"
     ]
    }
   ],
   "source": [
    "%%time\n",
    "\n",
    "#fit model to data\n",
    "col_to_impute = [\"sw01\", \"sw03b\", \"kk01\", \"kk02c\", \"educ\", \"dl07\", \"dl05b\", \"sc21x\"]\n",
    "for i in col_to_impute:\n",
    "    df = train_data[train_data[i].notnull()]\n",
    "    df1 = train_data[train_data[i].isnull()]\n",
    "    list_independent = [\"pce_t\", \"A_hr1type_t\", \"E_hr1type_t\", \"F_hr1type_t\",  \"age\", \"sex\", \"kabid\", \"married\", \"year\"]\n",
    "    X = df[list_independent] #independent variable to predict\n",
    "    y = df[i]\n",
    "    random_forest.fit(X, y)\n",
    "    #predict\n",
    "    X_test = df1[list_independent]\n",
    "    df1[i] = random_forest.predict(X_test)\n",
    "    train_data = pd.concat([df, df1])\n",
    "    #X_r = dataset[list_independent]\n",
    "    #y_r = dataset[i]\n",
    "    random_forest.fit(X, y)\n",
    "    y_arbit = random_forest.predict(X)\n",
    "    print (\"Score of model in \", i, \"is\", metrics.accuracy_score(y, y_arbit))"
   ]
  },
  {
   "cell_type": "markdown",
   "metadata": {},
   "source": [
    "## Continuous"
   ]
  },
  {
   "cell_type": "code",
   "execution_count": 40,
   "metadata": {},
   "outputs": [
    {
     "name": "stdout",
     "output_type": "stream",
     "text": [
      "Score of model in  dl16j is 0.5548238012709417\n",
      "Score of model in  kk02a is 0.6395241395241396\n"
     ]
    }
   ],
   "source": [
    "random_forest_1 = RandomForestClassifier(random_state=101 , \n",
    "                                      min_samples_split=25, min_samples_leaf=5,\n",
    "                                      bootstrap=True, n_estimators=500)\n",
    "\n",
    "col_to_impute = [\"dl16j\", \"kk02a\"]\n",
    "for i in col_to_impute:\n",
    "    df = train_data[train_data[i].notnull()]\n",
    "    df1 = train_data[train_data[i].isnull()]\n",
    "    list_independent = [\"pce_t\", \"A_hr1type_t\", \"E_hr1type_t\", \"F_hr1type_t\",  \"age\", \"sex\", \"kabid\", \"married\", \"year\"]\n",
    "    X = df[list_independent] #independent variable to predict\n",
    "    y = df[i]\n",
    "    random_forest_1.fit(X, y)\n",
    "    #predict\n",
    "    X_test = df1[list_independent]\n",
    "    df1[i] = np.round(random_forest_1.predict(X_test))\n",
    "    train_data = pd.concat([df, df1])\n",
    "    print (\"Score of model in \", i, \"is\", random_forest_1.score(X, y))"
   ]
  },
  {
   "cell_type": "code",
   "execution_count": 41,
   "metadata": {},
   "outputs": [
    {
     "name": "stdout",
     "output_type": "stream",
     "text": [
      "Percenage of missing data in pid07 equal to 0.038510911424903725\n",
      "Percenage of missing data in pid00 equal to 0.5483525887890458\n",
      "Percenage of missing data in tk16h equal to 0.1735130509199829\n",
      "Percenage of missing data in pid14 equal to 0.4797817715019255\n",
      "Percenage of missing data in dl2type equal to 0.07317073170731707\n",
      "Percenage of missing data in dl16ja equal to 0.0737056054771074\n",
      "Percenage of missing data in dl06 equal to 0.07317073170731707\n"
     ]
    }
   ],
   "source": [
    "for i in train_data.columns:\n",
    "    if train_data[i].isnull().sum() > 0:\n",
    "        print (f\"Percenage of missing data in {i} equal to\", train_data[i].isnull().sum()/len(train_data))"
   ]
  },
  {
   "cell_type": "markdown",
   "metadata": {},
   "source": [
    "|variable|description|\n",
    "|---|---|\n",
    "tk01| main acivity\n",
    "dl06| highest education attainment\n",
    "dl05a| first age entered elementary school\n",
    "dl11d| gratuated?\n",
    "dl11f| year of graduated OR dropout\n",
    "dl16c2| number of subjects in the EBTANAS / UAN / UN exam\n",
    "sw00| overall subjective welfare right now\n",
    "sw01| subjective economic status\n",
    "sw03b| subjective household condition\n",
    "kk01| subjective overall health condition\n",
    "kk02a| days missed at primary activity last month\n",
    "kk02c| Compared health 12 months ago\n",
    "ar02b| relation with Head Household\n",
    "sc21x| migration history"
   ]
  },
  {
   "cell_type": "code",
   "execution_count": 42,
   "metadata": {},
   "outputs": [
    {
     "data": {
      "image/png": "[encoded data removed]",
      "text/plain": [
       "<Figure size 648x360 with 2 Axes>"
      ]
     },
     "metadata": {
      "needs_background": "light"
     },
     "output_type": "display_data"
    }
   ],
   "source": [
    "plt.figure(figsize=(9, 5))\n",
    "plt.subplot(1,2,1)\n",
    "sns.heatmap(data.isnull(), cbar=False)\n",
    "plt.title(\"Before Imutation\", size=15)\n",
    "plt.subplot(1,2,2)\n",
    "sns.heatmap(train_data.isnull(), cbar=False)\n",
    "plt.title(\"After Imutation\", size=15)\n",
    "plt.tight_layout()"
   ]
  },
  {
   "cell_type": "code",
   "execution_count": 43,
   "metadata": {},
   "outputs": [],
   "source": [
    "train_data.to_stata(\"data_thesis_redi.dta\")"
   ]
  },
  {
   "cell_type": "code",
   "execution_count": null,
   "metadata": {},
   "outputs": [],
   "source": []
  }
 ],
 "metadata": {
  "kernelspec": {
   "display_name": "Python 3",
   "language": "python",
   "name": "python3"
  },
  "language_info": {
   "codemirror_mode": {
    "name": "ipython",
    "version": 3
   },
   "file_extension": ".py",
   "mimetype": "text/x-python",
   "name": "python",
   "nbconvert_exporter": "python",
   "pygments_lexer": "ipython3",
   "version": "3.7.3"
  }
 },
 "nbformat": 4,
 "nbformat_minor": 4
}
