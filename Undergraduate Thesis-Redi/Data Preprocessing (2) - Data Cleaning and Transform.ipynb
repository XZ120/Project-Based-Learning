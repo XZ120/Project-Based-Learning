{
 "cells": [
  {
   "cell_type": "code",
   "execution_count": 1,
   "metadata": {},
   "outputs": [],
   "source": [
    "import pandas as pd\n",
    "import numpy as np\n",
    "import matplotlib.pyplot as plt\n",
    "import seaborn as sns\n",
    "import missingno as msno\n",
    "import warnings\n",
    "warnings.simplefilter(action=\"ignore\")\n",
    "\n",
    "from statsmodels.stats.weightstats import ttest_ind\n",
    "from scipy import stats\n",
    "from sklearn import metrics\n",
    "\n",
    "%matplotlib inline"
   ]
  },
  {
   "cell_type": "markdown",
   "metadata": {},
   "source": [
    "## Load Raw Dataset \n",
    "---"
   ]
  },
  {
   "cell_type": "code",
   "execution_count": 2,
   "metadata": {
    "scrolled": false
   },
   "outputs": [
    {
     "data": {
      "text/html": [
       "<div>\n",
       "<style scoped>\n",
       "    .dataframe tbody tr th:only-of-type {\n",
       "        vertical-align: middle;\n",
       "    }\n",
       "\n",
       "    .dataframe tbody tr th {\n",
       "        vertical-align: top;\n",
       "    }\n",
       "\n",
       "    .dataframe thead th {\n",
       "        text-align: right;\n",
       "    }\n",
       "</style>\n",
       "<table border=\"1\" class=\"dataframe\">\n",
       "  <thead>\n",
       "    <tr style=\"text-align: right;\">\n",
       "      <th></th>\n",
       "      <th>index</th>\n",
       "      <th>sex</th>\n",
       "      <th>respondent</th>\n",
       "      <th>age</th>\n",
       "      <th>marstat</th>\n",
       "      <th>pidlink</th>\n",
       "      <th>ar02b</th>\n",
       "      <th>hhid07</th>\n",
       "      <th>pid07</th>\n",
       "      <th>hhid00</th>\n",
       "      <th>...</th>\n",
       "      <th>km01a</th>\n",
       "      <th>pm24a</th>\n",
       "      <th>pm24b</th>\n",
       "      <th>pm24c</th>\n",
       "      <th>pm24d</th>\n",
       "      <th>pm24e</th>\n",
       "      <th>pm24f</th>\n",
       "      <th>pm24g</th>\n",
       "      <th>pm24h</th>\n",
       "      <th>educ</th>\n",
       "    </tr>\n",
       "  </thead>\n",
       "  <tbody>\n",
       "    <tr>\n",
       "      <th>8308</th>\n",
       "      <td>2227</td>\n",
       "      <td>1</td>\n",
       "      <td>3</td>\n",
       "      <td>21.0</td>\n",
       "      <td>single</td>\n",
       "      <td>306270006</td>\n",
       "      <td>10</td>\n",
       "      <td>3062700</td>\n",
       "      <td>6.0</td>\n",
       "      <td></td>\n",
       "      <td>...</td>\n",
       "      <td>0.0</td>\n",
       "      <td>1.0</td>\n",
       "      <td>1.0</td>\n",
       "      <td>1.0</td>\n",
       "      <td>1.0</td>\n",
       "      <td>1.0</td>\n",
       "      <td>1.0</td>\n",
       "      <td>1.0</td>\n",
       "      <td>1.0</td>\n",
       "      <td>3.0</td>\n",
       "    </tr>\n",
       "    <tr>\n",
       "      <th>3534</th>\n",
       "      <td>3534</td>\n",
       "      <td>1</td>\n",
       "      <td>3</td>\n",
       "      <td>16.0</td>\n",
       "      <td>single</td>\n",
       "      <td>031070002</td>\n",
       "      <td>3</td>\n",
       "      <td>0310700</td>\n",
       "      <td>2.0</td>\n",
       "      <td>0310700</td>\n",
       "      <td>...</td>\n",
       "      <td>0.0</td>\n",
       "      <td>0.0</td>\n",
       "      <td>0.0</td>\n",
       "      <td>0.0</td>\n",
       "      <td>0.0</td>\n",
       "      <td>0.0</td>\n",
       "      <td>0.0</td>\n",
       "      <td>0.0</td>\n",
       "      <td>0.0</td>\n",
       "      <td>3.0</td>\n",
       "    </tr>\n",
       "    <tr>\n",
       "      <th>9804</th>\n",
       "      <td>3723</td>\n",
       "      <td>1</td>\n",
       "      <td>3</td>\n",
       "      <td>17.0</td>\n",
       "      <td>single</td>\n",
       "      <td>212060006</td>\n",
       "      <td>3</td>\n",
       "      <td>2120641</td>\n",
       "      <td>3.0</td>\n",
       "      <td></td>\n",
       "      <td>...</td>\n",
       "      <td>0.0</td>\n",
       "      <td>0.0</td>\n",
       "      <td>0.0</td>\n",
       "      <td>0.0</td>\n",
       "      <td>0.0</td>\n",
       "      <td>0.0</td>\n",
       "      <td>0.0</td>\n",
       "      <td>0.0</td>\n",
       "      <td>0.0</td>\n",
       "      <td>3.0</td>\n",
       "    </tr>\n",
       "    <tr>\n",
       "      <th>6406</th>\n",
       "      <td>325</td>\n",
       "      <td>0</td>\n",
       "      <td>3</td>\n",
       "      <td>18.0</td>\n",
       "      <td>married</td>\n",
       "      <td>252195204</td>\n",
       "      <td>3</td>\n",
       "      <td>2521952</td>\n",
       "      <td>NaN</td>\n",
       "      <td></td>\n",
       "      <td>...</td>\n",
       "      <td>0.0</td>\n",
       "      <td>1.0</td>\n",
       "      <td>0.0</td>\n",
       "      <td>0.0</td>\n",
       "      <td>0.0</td>\n",
       "      <td>0.0</td>\n",
       "      <td>0.0</td>\n",
       "      <td>0.0</td>\n",
       "      <td>0.0</td>\n",
       "      <td>3.0</td>\n",
       "    </tr>\n",
       "    <tr>\n",
       "      <th>4184</th>\n",
       "      <td>4184</td>\n",
       "      <td>0</td>\n",
       "      <td>3</td>\n",
       "      <td>16.0</td>\n",
       "      <td>single</td>\n",
       "      <td>127040006</td>\n",
       "      <td>10</td>\n",
       "      <td>1270400</td>\n",
       "      <td>6.0</td>\n",
       "      <td>1270400</td>\n",
       "      <td>...</td>\n",
       "      <td>0.0</td>\n",
       "      <td>0.0</td>\n",
       "      <td>0.0</td>\n",
       "      <td>0.0</td>\n",
       "      <td>0.0</td>\n",
       "      <td>0.0</td>\n",
       "      <td>0.0</td>\n",
       "      <td>0.0</td>\n",
       "      <td>0.0</td>\n",
       "      <td>3.0</td>\n",
       "    </tr>\n",
       "  </tbody>\n",
       "</table>\n",
       "<p>5 rows × 83 columns</p>\n",
       "</div>"
      ],
      "text/plain": [
       "      index  sex respondent   age  marstat    pidlink ar02b   hhid07  pid07  \\\n",
       "8308   2227    1          3  21.0   single  306270006    10  3062700    6.0   \n",
       "3534   3534    1          3  16.0   single  031070002     3  0310700    2.0   \n",
       "9804   3723    1          3  17.0   single  212060006     3  2120641    3.0   \n",
       "6406    325    0          3  18.0  married  252195204     3  2521952    NaN   \n",
       "4184   4184    0          3  16.0   single  127040006    10  1270400    6.0   \n",
       "\n",
       "       hhid00  ...  km01a  pm24a  pm24b  pm24c  pm24d  pm24e  pm24f  pm24g  \\\n",
       "8308           ...    0.0    1.0    1.0    1.0    1.0    1.0    1.0    1.0   \n",
       "3534  0310700  ...    0.0    0.0    0.0    0.0    0.0    0.0    0.0    0.0   \n",
       "9804           ...    0.0    0.0    0.0    0.0    0.0    0.0    0.0    0.0   \n",
       "6406           ...    0.0    1.0    0.0    0.0    0.0    0.0    0.0    0.0   \n",
       "4184  1270400  ...    0.0    0.0    0.0    0.0    0.0    0.0    0.0    0.0   \n",
       "\n",
       "      pm24h  educ  \n",
       "8308    1.0   3.0  \n",
       "3534    0.0   3.0  \n",
       "9804    0.0   3.0  \n",
       "6406    0.0   3.0  \n",
       "4184    0.0   3.0  \n",
       "\n",
       "[5 rows x 83 columns]"
      ]
     },
     "execution_count": 2,
     "metadata": {},
     "output_type": "execute_result"
    }
   ],
   "source": [
    "data = pd.read_stata(\"dataraw_thesis_redi.dta\")\n",
    "data.sample(5)"
   ]
  },
  {
   "cell_type": "markdown",
   "metadata": {},
   "source": [
    "### Adjusting nominal"
   ]
  },
  {
   "cell_type": "code",
   "execution_count": 3,
   "metadata": {},
   "outputs": [],
   "source": [
    "data[\"asset_t\"] = data[[\"A_hr1type_t\", \"E_hr1type_t\", \"F_hr1type_t\"]].sum(axis=1)\n",
    "data[\"asset_t1\"] = data[[\"A_hr1type_t1\", \"E_hr1type_t1\", \"F_hr1type_t1\"]].sum(axis=1)"
   ]
  },
  {
   "cell_type": "code",
   "execution_count": 4,
   "metadata": {},
   "outputs": [],
   "source": [
    "for i in [\"pce_t1\", \"asset_t1\"]:\n",
    "    data[i] = data[i] / (data[\"IHK_t1\"] /100)\n",
    "for i in [\"pce_t\", \"asset_t\"]:\n",
    "    data[i] = data[i] / (data[\"IHK\"] / 100)"
   ]
  },
  {
   "cell_type": "code",
   "execution_count": 5,
   "metadata": {},
   "outputs": [],
   "source": [
    "data[\"desil_pce_t\"] = pd.qcut(data.pce_t, q=10, labels=[\"1\", \"2\", \"3\", \"4\", \"5\", \"6\", \"7\", \"8\", \"9\", \"10\"])\n",
    "data[\"desil_asset_t\"] = pd.qcut(data.asset_t, q=10, labels=[\"1\", \"2\", \"3\", \"4\", \"5\", \"6\", \"7\", \"8\", \"9\", \"10\"])\n",
    "\n",
    "data[\"desil_pce_t1\"] = pd.qcut(data.pce_t1, q=10, labels=[\"1\", \"2\", \"3\", \"4\", \"5\", \"6\", \"7\", \"8\", \"9\", \"10\"])\n",
    "data[\"desil_asset_t1\"] = pd.qcut(data.asset_t1, q=10, labels=[\"1\", \"2\", \"3\", \"4\", \"5\", \"6\", \"7\", \"8\", \"9\", \"10\"])\n",
    "\n",
    "data[\"quart_pce_t\"] =pd.qcut(data.pce_t, q=4, labels=[\"1\", \"2\", \"3\", \"4\"])\n",
    "data[\"quart_asset_t\"] =pd.qcut(data.asset_t, q=4, labels=[\"1\", \"2\", \"3\", \"4\"])\n",
    "\n",
    "data[\"quart_pce_t1\"] =pd.qcut(data.pce_t1, q=4, labels=[\"1\", \"2\", \"3\", \"4\"])\n",
    "data[\"quart_asset_t1\"] =pd.qcut(data.asset_t1, q=4, labels=[\"1\", \"2\", \"3\", \"4\"])"
   ]
  },
  {
   "cell_type": "code",
   "execution_count": 6,
   "metadata": {},
   "outputs": [],
   "source": [
    "data[\"asset_t_percap\"] = data.asset_t / data[\"hhsize\"]\n",
    "data[\"asset_t1_percap\"] = data.asset_t1 / data[\"hhsize\"]"
   ]
  },
  {
   "cell_type": "code",
   "execution_count": 7,
   "metadata": {},
   "outputs": [],
   "source": [
    "def tk01(data):\n",
    "    if data == 95:\n",
    "        return 5\n",
    "    elif data == 2:\n",
    "        return 3\n",
    "    elif data == 3:\n",
    "        return 2\n",
    "    else:\n",
    "        return data"
   ]
  },
  {
   "cell_type": "code",
   "execution_count": 8,
   "metadata": {},
   "outputs": [],
   "source": [
    "data.tk01 = data.tk01.apply(lambda x: tk01(x)) #the ordered"
   ]
  },
  {
   "cell_type": "code",
   "execution_count": 9,
   "metadata": {},
   "outputs": [],
   "source": [
    "def age(data):\n",
    "    if data <= 16:\n",
    "        return 1\n",
    "    elif data <= 18:\n",
    "        return 2\n",
    "    elif data <= 20:\n",
    "        return 3\n",
    "    elif data <= 22:\n",
    "        return 4\n",
    "    else:\n",
    "        return 5"
   ]
  },
  {
   "cell_type": "code",
   "execution_count": 10,
   "metadata": {},
   "outputs": [],
   "source": [
    "data[\"agegr\"] = data[\"age\"].apply(lambda x: age(x))"
   ]
  },
  {
   "cell_type": "code",
   "execution_count": 11,
   "metadata": {},
   "outputs": [],
   "source": [
    "def hhsize(data):\n",
    "    if data <= 4:\n",
    "        return 0\n",
    "    elif data <= 8:\n",
    "        return 1\n",
    "    else:\n",
    "        return 2"
   ]
  },
  {
   "cell_type": "code",
   "execution_count": 12,
   "metadata": {},
   "outputs": [],
   "source": [
    "data[\"hhsizegg\"] = data[\"hhsize\"].apply(lambda x: hhsize(x))"
   ]
  },
  {
   "cell_type": "code",
   "execution_count": 13,
   "metadata": {},
   "outputs": [
    {
     "name": "stdout",
     "output_type": "stream",
     "text": [
      "95 index True\n",
      "95 tk16h True\n",
      "95 us06 True\n"
     ]
    }
   ],
   "source": [
    "for i in data.columns:\n",
    "    if 95 in (data[i].unique()):\n",
    "        print (95, i, True)\n",
    "    elif \"95\" in (data[i].unique()):\n",
    "        print (\"95\", i, True)"
   ]
  },
  {
   "cell_type": "code",
   "execution_count": 14,
   "metadata": {},
   "outputs": [],
   "source": [
    "data.tk16h = data.tk16h.apply(lambda x: np.nan if x in [95, 99] else x)"
   ]
  },
  {
   "cell_type": "markdown",
   "metadata": {},
   "source": [
    "## Handle Missing Values\n",
    "---\n",
    "At first to understand, it doesn’t exist a good way to deal with missing data. Different solutions exist for data imputation which however depends on the kind of problem. Many data are missing because several reason such as the response was out of range, questionable, or not applicable; or respondent refused to answer or didn’t know. So, missing data have several types. First step, we should distinguish between missing at random and not random because of maybe interviewer error. Several methode that can be used for single Imputation, like listwise deletion, central tendency (mean/median/mode), Hot-Cold Deck, nor Regression. ***However, values found in single imputation might be biased by the specific values in the current data set, and not represent the total values of the full population***. This problem can be reduuce with multiple imputation. It metode has a lot of advantages over traditional single imputation methods. Multiple Imputation is an imputation method that works with the assumption that the missing data are missing at Random. The algorithm works by running multiple models and each missing value is modeled conditionally depending on the observed values."
   ]
  },
  {
   "cell_type": "code",
   "execution_count": 15,
   "metadata": {},
   "outputs": [
    {
     "data": {
      "image/png": "[encoded data removed]",
      "text/plain": [
       "<Figure size 1800x720 with 2 Axes>"
      ]
     },
     "metadata": {
      "needs_background": "light"
     },
     "output_type": "display_data"
    }
   ],
   "source": [
    "missingdata = data.columns[data.isnull().any()].tolist()\n",
    "msno.matrix(data[missingdata]);"
   ]
  },
  {
   "cell_type": "code",
   "execution_count": 16,
   "metadata": {
    "scrolled": false
   },
   "outputs": [
    {
     "name": "stdout",
     "output_type": "stream",
     "text": [
      "Percenage of missing data in pid07 equal to 0.03289473684210526\n",
      "Percenage of missing data in pid00 equal to 0.46865862573099415\n",
      "Percenage of missing data in tk16h equal to 0.22167397660818713\n",
      "Percenage of missing data in pid14 equal to 0.5556469298245614\n",
      "Percenage of missing data in sw01 equal to 0.02183845029239766\n",
      "Percenage of missing data in sw03b equal to 0.02183845029239766\n",
      "Percenage of missing data in kk01 equal to 0.0014619883040935672\n",
      "Percenage of missing data in kk02a equal to 0.0024671052631578946\n",
      "Percenage of missing data in kk02c equal to 0.0014619883040935672\n",
      "Percenage of missing data in dl2type equal to 0.06186038011695907\n",
      "Percenage of missing data in dl16j equal to 0.06332236842105263\n",
      "Percenage of missing data in dl16ja equal to 0.06286549707602339\n",
      "Percenage of missing data in dl06 equal to 0.06186038011695907\n",
      "Percenage of missing data in dl07 equal to 0.06186038011695907\n",
      "Percenage of missing data in dl05b equal to 0.06186038011695907\n",
      "Percenage of missing data in us06 equal to 0.13048245614035087\n",
      "Percenage of missing data in us04 equal to 0.12911184210526316\n",
      "Percenage of missing data in test equal to 0.0011878654970760233\n",
      "Percenage of missing data in tr06 equal to 0.022021198830409358\n",
      "Percenage of missing data in tr11 equal to 0.022021198830409358\n",
      "Percenage of missing data in educ equal to 0.06186038011695907\n"
     ]
    }
   ],
   "source": [
    "for i in data.columns:\n",
    "    if data[i].isnull().sum() > 0:\n",
    "        print (f\"Percenage of missing data in {i} equal to\", data[i].isnull().sum()/len(data))"
   ]
  },
  {
   "cell_type": "code",
   "execution_count": 17,
   "metadata": {},
   "outputs": [],
   "source": [
    "from sklearn.ensemble import RandomForestClassifier\n",
    "from sklearn.ensemble import RandomForestRegressor\n",
    "from sklearn.model_selection import cross_val_score\n",
    "from sklearn import metrics\n",
    "from sklearn.model_selection import GridSearchCV"
   ]
  },
  {
   "cell_type": "code",
   "execution_count": 18,
   "metadata": {},
   "outputs": [],
   "source": [
    "#create new a random forest model\n",
    "random_forest = RandomForestClassifier(random_state=101 , \n",
    "                                      min_samples_split=25, min_samples_leaf=5,\n",
    "                                      bootstrap=True, n_estimators=500)\n",
    "\n",
    "param_grid = { \n",
    "    'bootstrap': [True],\n",
    "    'min_samples_leaf': [5, 6, 7, 8, 9, 10],\n",
    "    'min_samples_split': [20, 25, 30, 35],\n",
    "    'n_estimators': [300, 400, 500, 600]\n",
    "}\n",
    "\n",
    "#use gridsearch to test all values for n_neighbors\n",
    "#randomf_gscv = GridSearchCV(estimator=random_forest, param_grid=param_grid, cv= 6)"
   ]
  },
  {
   "cell_type": "code",
   "execution_count": 19,
   "metadata": {},
   "outputs": [],
   "source": [
    "train_data = data.copy()"
   ]
  },
  {
   "cell_type": "code",
   "execution_count": 20,
   "metadata": {
    "scrolled": true
   },
   "outputs": [
    {
     "data": {
      "text/plain": [
       "3.0    5529\n",
       "4.0    2599\n",
       "2.0    1859\n",
       "1.0     455\n",
       "NaN     239\n",
       "5.0     208\n",
       "6.0      36\n",
       "8.0      18\n",
       "9.0       1\n",
       "Name: sw01, dtype: int64"
      ]
     },
     "execution_count": 20,
     "metadata": {},
     "output_type": "execute_result"
    }
   ],
   "source": [
    "train_data.sw01.value_counts(dropna=False)"
   ]
  },
  {
   "cell_type": "markdown",
   "metadata": {},
   "source": [
    "## Categorical"
   ]
  },
  {
   "cell_type": "code",
   "execution_count": 21,
   "metadata": {},
   "outputs": [
    {
     "name": "stdout",
     "output_type": "stream",
     "text": [
      "Score of model in  sw01 is 0.7199439514245679\n",
      "Score of model in  sw03b is 0.7452592246613732\n",
      "Score of model in  kk01 is 0.7371888726207906\n",
      "Score of model in  kk02c is 0.7267569546120058\n",
      "Score of model in  educ is 0.7775396902697964\n",
      "Score of model in  dl07 is 0.7205610207460796\n",
      "Score of model in  dl05b is 0.8717249439953249\n",
      "Score of model in  tk16h is 0.8146278469124207\n",
      "Score of model in  dl16j is 0.6331089649790265\n",
      "Score of model in  kk02a is 0.6751854905193735\n",
      "Score of model in  tr06 is 0.802391852751565\n",
      "Score of model in  tr11 is 0.7592263851256656\n",
      "Wall time: 6min 5s\n"
     ]
    }
   ],
   "source": [
    "%%time\n",
    "\n",
    "#fit model to data\n",
    "col_to_impute = [\"sw01\", \"sw03b\", \"kk01\", \"kk02c\", \"educ\", \"dl07\", \"dl05b\", \n",
    "                 \"tk16h\", \"dl16j\", \"kk02a\", \"tr06\", \"tr11\"]\n",
    "for i in col_to_impute:\n",
    "    df = train_data[train_data[i].notnull()]\n",
    "    df1 = train_data[train_data[i].isnull()]\n",
    "    list_independent = [\"pce_t\", \"A_hr1type_t\", \"E_hr1type_t\", \"F_hr1type_t\",  \"age\", \"sex\", \"kabid\", \"married\", \"year\"]\n",
    "    X = df[list_independent] #independent variable to predict\n",
    "    y = df[i]\n",
    "    random_forest.fit(X, y)\n",
    "    #predict\n",
    "    X_test = df1[list_independent]\n",
    "    df1[i] = random_forest.predict(X_test)\n",
    "    train_data = pd.concat([df, df1])\n",
    "    #X_r = dataset[list_independent]\n",
    "    #y_r = dataset[i]\n",
    "    random_forest.fit(X, y)\n",
    "    y_arbit = random_forest.predict(X)\n",
    "    print (\"Score of model in \", i, \"is\", metrics.accuracy_score(y, y_arbit))"
   ]
  },
  {
   "cell_type": "markdown",
   "metadata": {},
   "source": [
    "## Continuous"
   ]
  },
  {
   "cell_type": "code",
   "execution_count": 22,
   "metadata": {},
   "outputs": [
    {
     "name": "stdout",
     "output_type": "stream",
     "text": [
      "Score of model in  test is 0.7050568542545741\n",
      "Score of model in  us06 is 0.6631029614798125\n",
      "Score of model in  us04 is 0.6955168787768868\n"
     ]
    }
   ],
   "source": [
    "random_forest_1 = RandomForestRegressor(random_state=100 , \n",
    "                                      min_samples_split=10, min_samples_leaf=2,\n",
    "                                      bootstrap=True, n_estimators=500)\n",
    "\n",
    "col_to_impute = [\"test\", \"us06\", \"us04\"]\n",
    "for i in col_to_impute:\n",
    "    df = train_data[train_data[i].notnull()]\n",
    "    df1 = train_data[train_data[i].isnull()]\n",
    "    list_independent = [\"pce_t\", \"A_hr1type_t\", \"E_hr1type_t\", \"F_hr1type_t\", \"age\", \"sex\", \"kabid\", \"married\", \"year\"]\n",
    "    X = df[list_independent] #independent variable to predict\n",
    "    y = df[i]\n",
    "    random_forest_1.fit(X, y)\n",
    "    #predict\n",
    "    X_test = df1[list_independent]\n",
    "    df1[i] = np.round(random_forest_1.predict(X_test))\n",
    "    train_data = pd.concat([df, df1])\n",
    "    print (\"Score of model in \", i, \"is\", random_forest_1.score(X, y))"
   ]
  },
  {
   "cell_type": "code",
   "execution_count": 23,
   "metadata": {},
   "outputs": [
    {
     "name": "stdout",
     "output_type": "stream",
     "text": [
      "Percenage of missing data in pid07 equal to 0.03289473684210526\n",
      "Percenage of missing data in pid00 equal to 0.46865862573099415\n",
      "Percenage of missing data in pid14 equal to 0.5556469298245614\n",
      "Percenage of missing data in dl2type equal to 0.06186038011695907\n",
      "Percenage of missing data in dl16ja equal to 0.06286549707602339\n",
      "Percenage of missing data in dl06 equal to 0.06186038011695907\n"
     ]
    }
   ],
   "source": [
    "for i in train_data.columns:\n",
    "    if train_data[i].isnull().sum() > 0:\n",
    "        print (f\"Percenage of missing data in {i} equal to\", train_data[i].isnull().sum()/len(train_data))"
   ]
  },
  {
   "cell_type": "markdown",
   "metadata": {},
   "source": [
    "|variable|description|\n",
    "|---|---|\n",
    "tk01| main acivity\n",
    "|---|---|\n",
    "dl02 | Can read an bahasa\n",
    "dl03| Can write an bahasa  \n",
    "dl06| highest education attainment\n",
    "dl05a| first age entered elementary school\n",
    "dl11d| gratuated?\n",
    "dl11f| year of graduated OR dropout\n",
    "|---|---|\n",
    "si21a | IDR 1,000,000 today or IDR 1,000,000 in 1 year\n",
    "si21b | IDR 1,000,000 today or IDR 3,000,000 in 1 year\n",
    "si22b | IDR 1,000,000 today or IDR 4,000,000 in 5 years\n",
    "|---|---|\n",
    "sw00| overall subjective welfare right now\n",
    "sw01| subjective economic status\n",
    "sw03b| subjective household condition\n",
    "|---|---|\n",
    "tr06 | How safe do you consider this village?\n",
    "tr11 | How religious are you?\n",
    "|---|---|\n",
    "km01a | Have you ever had (tobacco habit)?\n",
    "kk01| subjective overall health condition\n",
    "kk02a| days missed at primary activity last month\n",
    "kk02c| Compared health 12 months ago\n",
    "|---|---|\n",
    "ar02b| relation with Head Household\n",
    "sc21x| migration history\n",
    "pm24 | Did you vote in the most recent election"
   ]
  },
  {
   "cell_type": "code",
   "execution_count": 24,
   "metadata": {},
   "outputs": [
    {
     "data": {
      "image/png": "[encoded data removed]",
      "text/plain": [
       "<Figure size 648x360 with 2 Axes>"
      ]
     },
     "metadata": {
      "needs_background": "light"
     },
     "output_type": "display_data"
    }
   ],
   "source": [
    "plt.figure(figsize=(9, 5))\n",
    "plt.subplot(1,2,1)\n",
    "sns.heatmap(data.isnull(), cbar=False)\n",
    "plt.title(\"Before Imutation\", size=15)\n",
    "plt.subplot(1,2,2)\n",
    "sns.heatmap(train_data.isnull(), cbar=False)\n",
    "plt.title(\"After Imutation\", size=15)\n",
    "plt.tight_layout()"
   ]
  },
  {
   "cell_type": "markdown",
   "metadata": {},
   "source": [
    "## Transform\n",
    "---"
   ]
  },
  {
   "cell_type": "markdown",
   "metadata": {},
   "source": [
    "### Made year of schooling"
   ]
  },
  {
   "cell_type": "code",
   "execution_count": 25,
   "metadata": {},
   "outputs": [],
   "source": [
    "# make year of schooling based on indonesian education system\n",
    "def year_of_schooling(data):\n",
    "    if data == 1:\n",
    "        return 6\n",
    "    elif data == 2:\n",
    "        return 9\n",
    "    elif data == 3:\n",
    "        return 12\n",
    "    elif data == 4:\n",
    "        return 16\n",
    "    else:\n",
    "        return np.nan\n",
    "\n",
    "train_data[\"educ\"] = train_data[\"educ\"].apply(lambda x: year_of_schooling(x))"
   ]
  },
  {
   "cell_type": "code",
   "execution_count": 26,
   "metadata": {},
   "outputs": [],
   "source": [
    "a = train_data[train_data[\"dl07\"] == 7]\n",
    "b = train_data[train_data[\"dl07\"] != 7]"
   ]
  },
  {
   "cell_type": "code",
   "execution_count": 27,
   "metadata": {},
   "outputs": [],
   "source": [
    "#limitation >> dropout in highest grade equal to graduated\n",
    "# and droput in lowest grade equal to never attain the education\n",
    "\n",
    "def sdd(data):\n",
    "    if data == 0:\n",
    "        return 6\n",
    "    elif data == 1:\n",
    "        return 5\n",
    "    elif data == 2:\n",
    "        return 4\n",
    "    elif data == 3:\n",
    "        return 3\n",
    "    elif data == 4:\n",
    "        return 2\n",
    "    elif data == 5:\n",
    "        return 1\n",
    "    else: \n",
    "        return 0\n",
    "    \n",
    "sd = b[b[\"educ\"] == 6]\n",
    "sd[\"grade\"] = sd[\"dl07\"].apply(lambda x: sdd(x))\n",
    "sd[\"educ\"] = sd[\"educ\"] - sd[\"grade\"]"
   ]
  },
  {
   "cell_type": "code",
   "execution_count": 28,
   "metadata": {},
   "outputs": [],
   "source": [
    "def high_school(data):\n",
    "    if data == 0:\n",
    "        return 3\n",
    "    elif data == 1:\n",
    "        return 2\n",
    "    elif data == 2:\n",
    "        return 1\n",
    "    else: \n",
    "        return 0\n",
    "    \n",
    "smp = b[b[\"educ\"] == 9]\n",
    "smp[\"grade\"] = (smp[\"dl07\"].apply(lambda x: high_school(x)))\n",
    "smp[\"educ\"] = smp[\"educ\"] - smp[\"grade\"]\n",
    "\n",
    "sma = b[b[\"educ\"] == 12]\n",
    "sma[\"grade\"] = (sma[\"dl07\"].apply(lambda x: high_school(x)))\n",
    "sma[\"educ\"] = sma[\"educ\"] - sma[\"grade\"]"
   ]
  },
  {
   "cell_type": "code",
   "execution_count": 29,
   "metadata": {},
   "outputs": [],
   "source": [
    "def college(data):\n",
    "    if data == 0:\n",
    "        return 4\n",
    "    elif data == 1:\n",
    "        return 3\n",
    "    elif data == 2:\n",
    "        return 2\n",
    "    elif data == 3:\n",
    "        return 1\n",
    "    else: \n",
    "        return 0\n",
    "    \n",
    "kuliah = b[b[\"educ\"] == 16]\n",
    "kuliah[\"grade\"] = kuliah[\"dl07\"].apply(lambda x: college(x))\n",
    "kuliah[\"educ\"] = kuliah[\"educ\"] - kuliah[\"grade\"]"
   ]
  },
  {
   "cell_type": "code",
   "execution_count": 30,
   "metadata": {},
   "outputs": [
    {
     "data": {
      "text/html": [
       "<div>\n",
       "<style scoped>\n",
       "    .dataframe tbody tr th:only-of-type {\n",
       "        vertical-align: middle;\n",
       "    }\n",
       "\n",
       "    .dataframe tbody tr th {\n",
       "        vertical-align: top;\n",
       "    }\n",
       "\n",
       "    .dataframe thead th {\n",
       "        text-align: right;\n",
       "    }\n",
       "</style>\n",
       "<table border=\"1\" class=\"dataframe\">\n",
       "  <thead>\n",
       "    <tr style=\"text-align: right;\">\n",
       "      <th></th>\n",
       "      <th>index</th>\n",
       "      <th>sex</th>\n",
       "      <th>respondent</th>\n",
       "      <th>age</th>\n",
       "      <th>marstat</th>\n",
       "      <th>pidlink</th>\n",
       "      <th>ar02b</th>\n",
       "      <th>hhid07</th>\n",
       "      <th>pid07</th>\n",
       "      <th>hhid00</th>\n",
       "      <th>...</th>\n",
       "      <th>desil_asset_t1</th>\n",
       "      <th>quart_pce_t</th>\n",
       "      <th>quart_asset_t</th>\n",
       "      <th>quart_pce_t1</th>\n",
       "      <th>quart_asset_t1</th>\n",
       "      <th>asset_t_percap</th>\n",
       "      <th>asset_t1_percap</th>\n",
       "      <th>agegr</th>\n",
       "      <th>hhsizegg</th>\n",
       "      <th>grade</th>\n",
       "    </tr>\n",
       "  </thead>\n",
       "  <tbody>\n",
       "    <tr>\n",
       "      <th>994</th>\n",
       "      <td>994</td>\n",
       "      <td>1</td>\n",
       "      <td>3</td>\n",
       "      <td>17.0</td>\n",
       "      <td>single</td>\n",
       "      <td>078080005</td>\n",
       "      <td>3</td>\n",
       "      <td>0780800</td>\n",
       "      <td>5.0</td>\n",
       "      <td>0780800</td>\n",
       "      <td>...</td>\n",
       "      <td>6</td>\n",
       "      <td>1</td>\n",
       "      <td>2</td>\n",
       "      <td>3</td>\n",
       "      <td>3</td>\n",
       "      <td>4.718261e+06</td>\n",
       "      <td>6.493859e+06</td>\n",
       "      <td>2</td>\n",
       "      <td>1</td>\n",
       "      <td>NaN</td>\n",
       "    </tr>\n",
       "    <tr>\n",
       "      <th>7687</th>\n",
       "      <td>1606</td>\n",
       "      <td>0</td>\n",
       "      <td>3</td>\n",
       "      <td>21.0</td>\n",
       "      <td>divorced</td>\n",
       "      <td>178110006</td>\n",
       "      <td>3</td>\n",
       "      <td>1781100</td>\n",
       "      <td>6.0</td>\n",
       "      <td></td>\n",
       "      <td>...</td>\n",
       "      <td>7</td>\n",
       "      <td>3</td>\n",
       "      <td>1</td>\n",
       "      <td>3</td>\n",
       "      <td>3</td>\n",
       "      <td>4.333549e+06</td>\n",
       "      <td>8.816122e+06</td>\n",
       "      <td>4</td>\n",
       "      <td>1</td>\n",
       "      <td>NaN</td>\n",
       "    </tr>\n",
       "    <tr>\n",
       "      <th>2142</th>\n",
       "      <td>2142</td>\n",
       "      <td>1</td>\n",
       "      <td>3</td>\n",
       "      <td>15.0</td>\n",
       "      <td>single</td>\n",
       "      <td>142213103</td>\n",
       "      <td>3</td>\n",
       "      <td>1422131</td>\n",
       "      <td>3.0</td>\n",
       "      <td>1422131</td>\n",
       "      <td>...</td>\n",
       "      <td>1</td>\n",
       "      <td>1</td>\n",
       "      <td>1</td>\n",
       "      <td>1</td>\n",
       "      <td>1</td>\n",
       "      <td>2.563625e+04</td>\n",
       "      <td>2.564128e+05</td>\n",
       "      <td>1</td>\n",
       "      <td>1</td>\n",
       "      <td>2.0</td>\n",
       "    </tr>\n",
       "    <tr>\n",
       "      <th>1214</th>\n",
       "      <td>1214</td>\n",
       "      <td>0</td>\n",
       "      <td>3</td>\n",
       "      <td>24.0</td>\n",
       "      <td>single</td>\n",
       "      <td>318130007</td>\n",
       "      <td>3</td>\n",
       "      <td>3181311</td>\n",
       "      <td>5.0</td>\n",
       "      <td>3181311</td>\n",
       "      <td>...</td>\n",
       "      <td>10</td>\n",
       "      <td>4</td>\n",
       "      <td>4</td>\n",
       "      <td>4</td>\n",
       "      <td>4</td>\n",
       "      <td>2.667986e+07</td>\n",
       "      <td>4.703001e+07</td>\n",
       "      <td>5</td>\n",
       "      <td>2</td>\n",
       "      <td>NaN</td>\n",
       "    </tr>\n",
       "    <tr>\n",
       "      <th>3616</th>\n",
       "      <td>3616</td>\n",
       "      <td>0</td>\n",
       "      <td>3</td>\n",
       "      <td>17.0</td>\n",
       "      <td>single</td>\n",
       "      <td>038140008</td>\n",
       "      <td>3</td>\n",
       "      <td>0381400</td>\n",
       "      <td>8.0</td>\n",
       "      <td>0381400</td>\n",
       "      <td>...</td>\n",
       "      <td>7</td>\n",
       "      <td>4</td>\n",
       "      <td>4</td>\n",
       "      <td>3</td>\n",
       "      <td>3</td>\n",
       "      <td>1.093183e+08</td>\n",
       "      <td>1.692477e+07</td>\n",
       "      <td>2</td>\n",
       "      <td>0</td>\n",
       "      <td>2.0</td>\n",
       "    </tr>\n",
       "    <tr>\n",
       "      <th>4690</th>\n",
       "      <td>4690</td>\n",
       "      <td>1</td>\n",
       "      <td>3</td>\n",
       "      <td>15.0</td>\n",
       "      <td>single</td>\n",
       "      <td>201200006</td>\n",
       "      <td>3</td>\n",
       "      <td>2012000</td>\n",
       "      <td>6.0</td>\n",
       "      <td>2012000</td>\n",
       "      <td>...</td>\n",
       "      <td>3</td>\n",
       "      <td>1</td>\n",
       "      <td>2</td>\n",
       "      <td>1</td>\n",
       "      <td>1</td>\n",
       "      <td>1.398701e+07</td>\n",
       "      <td>4.243255e+06</td>\n",
       "      <td>1</td>\n",
       "      <td>0</td>\n",
       "      <td>2.0</td>\n",
       "    </tr>\n",
       "    <tr>\n",
       "      <th>5367</th>\n",
       "      <td>5367</td>\n",
       "      <td>1</td>\n",
       "      <td>3</td>\n",
       "      <td>19.0</td>\n",
       "      <td>single</td>\n",
       "      <td>283010004</td>\n",
       "      <td>4</td>\n",
       "      <td>2830100</td>\n",
       "      <td>4.0</td>\n",
       "      <td>2830100</td>\n",
       "      <td>...</td>\n",
       "      <td>4</td>\n",
       "      <td>1</td>\n",
       "      <td>2</td>\n",
       "      <td>3</td>\n",
       "      <td>2</td>\n",
       "      <td>7.310141e+06</td>\n",
       "      <td>5.194808e+06</td>\n",
       "      <td>3</td>\n",
       "      <td>1</td>\n",
       "      <td>3.0</td>\n",
       "    </tr>\n",
       "    <tr>\n",
       "      <th>7427</th>\n",
       "      <td>1346</td>\n",
       "      <td>1</td>\n",
       "      <td>3</td>\n",
       "      <td>20.0</td>\n",
       "      <td>single</td>\n",
       "      <td>128020005</td>\n",
       "      <td>3</td>\n",
       "      <td>1280200</td>\n",
       "      <td>5.0</td>\n",
       "      <td></td>\n",
       "      <td>...</td>\n",
       "      <td>6</td>\n",
       "      <td>2</td>\n",
       "      <td>2</td>\n",
       "      <td>1</td>\n",
       "      <td>3</td>\n",
       "      <td>8.959277e+06</td>\n",
       "      <td>8.267718e+06</td>\n",
       "      <td>3</td>\n",
       "      <td>1</td>\n",
       "      <td>2.0</td>\n",
       "    </tr>\n",
       "    <tr>\n",
       "      <th>4074</th>\n",
       "      <td>4074</td>\n",
       "      <td>1</td>\n",
       "      <td>3</td>\n",
       "      <td>15.0</td>\n",
       "      <td>single</td>\n",
       "      <td>110160006</td>\n",
       "      <td>3</td>\n",
       "      <td>1101631</td>\n",
       "      <td>2.0</td>\n",
       "      <td>1101631</td>\n",
       "      <td>...</td>\n",
       "      <td>6</td>\n",
       "      <td>2</td>\n",
       "      <td>3</td>\n",
       "      <td>2</td>\n",
       "      <td>3</td>\n",
       "      <td>2.718946e+07</td>\n",
       "      <td>1.384261e+07</td>\n",
       "      <td>1</td>\n",
       "      <td>0</td>\n",
       "      <td>1.0</td>\n",
       "    </tr>\n",
       "    <tr>\n",
       "      <th>7220</th>\n",
       "      <td>1139</td>\n",
       "      <td>1</td>\n",
       "      <td>3</td>\n",
       "      <td>17.0</td>\n",
       "      <td>single</td>\n",
       "      <td>084050010</td>\n",
       "      <td>3</td>\n",
       "      <td>0840500</td>\n",
       "      <td>10.0</td>\n",
       "      <td></td>\n",
       "      <td>...</td>\n",
       "      <td>9</td>\n",
       "      <td>4</td>\n",
       "      <td>4</td>\n",
       "      <td>2</td>\n",
       "      <td>4</td>\n",
       "      <td>7.685507e+07</td>\n",
       "      <td>4.592597e+07</td>\n",
       "      <td>2</td>\n",
       "      <td>0</td>\n",
       "      <td>1.0</td>\n",
       "    </tr>\n",
       "  </tbody>\n",
       "</table>\n",
       "<p>10 rows × 98 columns</p>\n",
       "</div>"
      ],
      "text/plain": [
       "      index  sex respondent   age   marstat    pidlink ar02b   hhid07  pid07  \\\n",
       "994     994    1          3  17.0    single  078080005     3  0780800    5.0   \n",
       "7687   1606    0          3  21.0  divorced  178110006     3  1781100    6.0   \n",
       "2142   2142    1          3  15.0    single  142213103     3  1422131    3.0   \n",
       "1214   1214    0          3  24.0    single  318130007     3  3181311    5.0   \n",
       "3616   3616    0          3  17.0    single  038140008     3  0381400    8.0   \n",
       "4690   4690    1          3  15.0    single  201200006     3  2012000    6.0   \n",
       "5367   5367    1          3  19.0    single  283010004     4  2830100    4.0   \n",
       "7427   1346    1          3  20.0    single  128020005     3  1280200    5.0   \n",
       "4074   4074    1          3  15.0    single  110160006     3  1101631    2.0   \n",
       "7220   1139    1          3  17.0    single  084050010     3  0840500   10.0   \n",
       "\n",
       "       hhid00  ...  desil_asset_t1  quart_pce_t  quart_asset_t  quart_pce_t1  \\\n",
       "994   0780800  ...               6            1              2             3   \n",
       "7687           ...               7            3              1             3   \n",
       "2142  1422131  ...               1            1              1             1   \n",
       "1214  3181311  ...              10            4              4             4   \n",
       "3616  0381400  ...               7            4              4             3   \n",
       "4690  2012000  ...               3            1              2             1   \n",
       "5367  2830100  ...               4            1              2             3   \n",
       "7427           ...               6            2              2             1   \n",
       "4074  1101631  ...               6            2              3             2   \n",
       "7220           ...               9            4              4             2   \n",
       "\n",
       "      quart_asset_t1  asset_t_percap  asset_t1_percap  agegr  hhsizegg  grade  \n",
       "994                3    4.718261e+06     6.493859e+06      2         1    NaN  \n",
       "7687               3    4.333549e+06     8.816122e+06      4         1    NaN  \n",
       "2142               1    2.563625e+04     2.564128e+05      1         1    2.0  \n",
       "1214               4    2.667986e+07     4.703001e+07      5         2    NaN  \n",
       "3616               3    1.093183e+08     1.692477e+07      2         0    2.0  \n",
       "4690               1    1.398701e+07     4.243255e+06      1         0    2.0  \n",
       "5367               2    7.310141e+06     5.194808e+06      3         1    3.0  \n",
       "7427               3    8.959277e+06     8.267718e+06      3         1    2.0  \n",
       "4074               3    2.718946e+07     1.384261e+07      1         0    1.0  \n",
       "7220               4    7.685507e+07     4.592597e+07      2         0    1.0  \n",
       "\n",
       "[10 rows x 98 columns]"
      ]
     },
     "execution_count": 30,
     "metadata": {},
     "output_type": "execute_result"
    }
   ],
   "source": [
    "df = pd.concat([a, sd, smp, sma, kuliah])\n",
    "df.sample(10)"
   ]
  },
  {
   "cell_type": "code",
   "execution_count": 32,
   "metadata": {},
   "outputs": [],
   "source": [
    "df.to_stata(\"data_thesis_redi.dta\")"
   ]
  },
  {
   "cell_type": "code",
   "execution_count": null,
   "metadata": {},
   "outputs": [],
   "source": []
  }
 ],
 "metadata": {
  "kernelspec": {
   "display_name": "Python 3",
   "language": "python",
   "name": "python3"
  },
  "language_info": {
   "codemirror_mode": {
    "name": "ipython",
    "version": 3
   },
   "file_extension": ".py",
   "mimetype": "text/x-python",
   "name": "python",
   "nbconvert_exporter": "python",
   "pygments_lexer": "ipython3",
   "version": "3.7.3"
  }
 },
 "nbformat": 4,
 "nbformat_minor": 4
}
